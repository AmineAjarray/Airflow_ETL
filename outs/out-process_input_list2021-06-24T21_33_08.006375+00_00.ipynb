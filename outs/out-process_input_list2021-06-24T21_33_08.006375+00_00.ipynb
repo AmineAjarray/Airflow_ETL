{
 "cells": [
  {
   "cell_type": "code",
   "execution_count": 1,
   "id": "c911eec1",
   "metadata": {
    "execution": {
     "iopub.execute_input": "2021-06-24T21:33:43.825401Z",
     "iopub.status.busy": "2021-06-24T21:33:43.823112Z",
     "iopub.status.idle": "2021-06-24T21:33:43.840324Z",
     "shell.execute_reply": "2021-06-24T21:33:43.842691Z"
    },
    "jupyter": {
     "source_hidden": true
    },
    "papermill": {
     "duration": 0.077129,
     "end_time": "2021-06-24T21:33:43.843172",
     "exception": false,
     "start_time": "2021-06-24T21:33:43.766043",
     "status": "completed"
    },
    "tags": [
     "injected-parameters"
    ]
   },
   "outputs": [],
   "source": [
    "# Parameters\n",
    "msgs = \"Ran from Airflow at 2021-06-24T21:33:08.006375+00:00!\"\n"
   ]
  },
  {
   "cell_type": "code",
   "execution_count": 2,
   "id": "13c6f718",
   "metadata": {
    "execution": {
     "iopub.execute_input": "2021-06-24T21:33:43.938523Z",
     "iopub.status.busy": "2021-06-24T21:33:43.936586Z",
     "iopub.status.idle": "2021-06-24T21:33:45.657626Z",
     "shell.execute_reply": "2021-06-24T21:33:45.655891Z"
    },
    "jupyter": {
     "source_hidden": true
    },
    "papermill": {
     "duration": 1.775289,
     "end_time": "2021-06-24T21:33:45.657950",
     "exception": false,
     "start_time": "2021-06-24T21:33:43.882661",
     "status": "completed"
    },
    "tags": []
   },
   "outputs": [],
   "source": [
    "import pandas as pd\n",
    "import mysql.connector\n",
    "import os\n",
    "#import json\n",
    "import datetime"
   ]
  },
  {
   "cell_type": "code",
   "execution_count": 3,
   "id": "f49514fe",
   "metadata": {
    "execution": {
     "iopub.execute_input": "2021-06-24T21:33:45.767897Z",
     "iopub.status.busy": "2021-06-24T21:33:45.766339Z",
     "iopub.status.idle": "2021-06-24T21:33:45.794475Z",
     "shell.execute_reply": "2021-06-24T21:33:45.792052Z"
    },
    "jupyter": {
     "source_hidden": true
    },
    "papermill": {
     "duration": 0.078013,
     "end_time": "2021-06-24T21:33:45.794760",
     "exception": false,
     "start_time": "2021-06-24T21:33:45.716747",
     "status": "completed"
    },
    "tags": []
   },
   "outputs": [
    {
     "name": "stdout",
     "output_type": "stream",
     "text": [
      "will process: /home/kali/project/input/meetingAttendanceReport(General).csv\n"
     ]
    }
   ],
   "source": [
    "with open(\"/home/kali/project/input_config.txt\") as f:\n",
    "    input_file=f.readline()\n",
    "print(\"will process:\",input_file)"
   ]
  },
  {
   "cell_type": "code",
   "execution_count": 4,
   "id": "6d2ea9e2",
   "metadata": {
    "execution": {
     "iopub.execute_input": "2021-06-24T21:33:45.886759Z",
     "iopub.status.busy": "2021-06-24T21:33:45.883465Z",
     "iopub.status.idle": "2021-06-24T21:33:45.910335Z",
     "shell.execute_reply": "2021-06-24T21:33:45.912778Z"
    },
    "jupyter": {
     "source_hidden": true
    },
    "papermill": {
     "duration": 0.078678,
     "end_time": "2021-06-24T21:33:45.914033",
     "exception": false,
     "start_time": "2021-06-24T21:33:45.835355",
     "status": "completed"
    },
    "tags": []
   },
   "outputs": [],
   "source": [
    "meta_data=[]\n",
    "log_call=[]\n",
    "lines=[]\n",
    "with open(input_file,encoding=\"utf-16\") as f:\n",
    "    lines=f.readlines()\n",
    "meta_data=lines[0:5]\n",
    "log_call=lines[6:]"
   ]
  },
  {
   "cell_type": "code",
   "execution_count": 5,
   "id": "03a595c6",
   "metadata": {
    "execution": {
     "iopub.execute_input": "2021-06-24T21:33:46.103326Z",
     "iopub.status.busy": "2021-06-24T21:33:46.097002Z",
     "iopub.status.idle": "2021-06-24T21:33:46.169259Z",
     "shell.execute_reply": "2021-06-24T21:33:46.164501Z"
    },
    "jupyter": {
     "source_hidden": true
    },
    "papermill": {
     "duration": 0.15355,
     "end_time": "2021-06-24T21:33:46.169668",
     "exception": false,
     "start_time": "2021-06-24T21:33:46.016118",
     "status": "completed"
    },
    "scrolled": true,
    "tags": []
   },
   "outputs": [
    {
     "data": {
      "text/plain": [
       "'General'"
      ]
     },
     "execution_count": 5,
     "metadata": {},
     "output_type": "execute_result"
    }
   ],
   "source": [
    "course = meta_data[2].replace(\"Titre de la réunion\\t\",\"\").replace(\"\\n\",\"\")\n",
    "course"
   ]
  },
  {
   "cell_type": "code",
   "execution_count": 6,
   "id": "7c932598",
   "metadata": {
    "execution": {
     "iopub.execute_input": "2021-06-24T21:33:46.304940Z",
     "iopub.status.busy": "2021-06-24T21:33:46.303617Z",
     "iopub.status.idle": "2021-06-24T21:33:46.433839Z",
     "shell.execute_reply": "2021-06-24T21:33:46.436298Z"
    },
    "jupyter": {
     "source_hidden": true
    },
    "papermill": {
     "duration": 0.185451,
     "end_time": "2021-06-24T21:33:46.436697",
     "exception": false,
     "start_time": "2021-06-24T21:33:46.251246",
     "status": "completed"
    },
    "tags": []
   },
   "outputs": [
    {
     "data": {
      "text/html": [
       "<div>\n",
       "<style scoped>\n",
       "    .dataframe tbody tr th:only-of-type {\n",
       "        vertical-align: middle;\n",
       "    }\n",
       "\n",
       "    .dataframe tbody tr th {\n",
       "        vertical-align: top;\n",
       "    }\n",
       "\n",
       "    .dataframe thead th {\n",
       "        text-align: right;\n",
       "    }\n",
       "</style>\n",
       "<table border=\"1\" class=\"dataframe\">\n",
       "  <thead>\n",
       "    <tr style=\"text-align: right;\">\n",
       "      <th></th>\n",
       "      <th>Nom complet</th>\n",
       "      <th>Heure d'arrivée</th>\n",
       "      <th>Heure de départ</th>\n",
       "      <th>Durée</th>\n",
       "      <th>E-mail</th>\n",
       "      <th>Rôle</th>\n",
       "    </tr>\n",
       "  </thead>\n",
       "  <tbody>\n",
       "    <tr>\n",
       "      <th>0</th>\n",
       "      <td>Imade BENELALLAM</td>\n",
       "      <td>20/04/2021 à 13:02:24</td>\n",
       "      <td>20/04/2021 à 14:53:19</td>\n",
       "      <td>1 h 50 m</td>\n",
       "      <td>i.benelallam@insea.ac.ma</td>\n",
       "      <td>Organisateur</td>\n",
       "    </tr>\n",
       "    <tr>\n",
       "      <th>1</th>\n",
       "      <td>Chaimaa BELKARKOR</td>\n",
       "      <td>20/04/2021 à 13:02:44</td>\n",
       "      <td>20/04/2021 à 14:53:30</td>\n",
       "      <td>1 h 50 m</td>\n",
       "      <td>cbelkarkor@insea.ac.ma</td>\n",
       "      <td>Présentateur</td>\n",
       "    </tr>\n",
       "    <tr>\n",
       "      <th>2</th>\n",
       "      <td>Hibatallah BOUNAR</td>\n",
       "      <td>20/04/2021 à 13:03:07</td>\n",
       "      <td>20/04/2021 à 14:53:22</td>\n",
       "      <td>1 h 50 m</td>\n",
       "      <td>hbounar@insea.ac.ma</td>\n",
       "      <td>Présentateur</td>\n",
       "    </tr>\n",
       "    <tr>\n",
       "      <th>3</th>\n",
       "      <td>Sabah BOUKILI</td>\n",
       "      <td>20/04/2021 à 13:03:22</td>\n",
       "      <td>20/04/2021 à 13:13:50</td>\n",
       "      <td>10 m 28 s</td>\n",
       "      <td>sboukili@insea.ac.ma</td>\n",
       "      <td>Présentateur</td>\n",
       "    </tr>\n",
       "    <tr>\n",
       "      <th>4</th>\n",
       "      <td>Sabah BOUKILI</td>\n",
       "      <td>20/04/2021 à 13:42:28</td>\n",
       "      <td>20/04/2021 à 13:42:36</td>\n",
       "      <td>7 s</td>\n",
       "      <td>sboukili@insea.ac.ma</td>\n",
       "      <td>Présentateur</td>\n",
       "    </tr>\n",
       "    <tr>\n",
       "      <th>...</th>\n",
       "      <td>...</td>\n",
       "      <td>...</td>\n",
       "      <td>...</td>\n",
       "      <td>...</td>\n",
       "      <td>...</td>\n",
       "      <td>...</td>\n",
       "    </tr>\n",
       "    <tr>\n",
       "      <th>59</th>\n",
       "      <td>Mohamed-Amine FARFAOUA</td>\n",
       "      <td>20/04/2021 à 14:13:15</td>\n",
       "      <td>20/04/2021 à 14:17:49</td>\n",
       "      <td>4 m 34 s</td>\n",
       "      <td>mafarfaoua@insea.ac.ma</td>\n",
       "      <td>Présentateur</td>\n",
       "    </tr>\n",
       "    <tr>\n",
       "      <th>60</th>\n",
       "      <td>Oussama YOUSR</td>\n",
       "      <td>20/04/2021 à 14:19:12</td>\n",
       "      <td>20/04/2021 à 14:53:21</td>\n",
       "      <td>34 m 8 s</td>\n",
       "      <td>oyousr@insea.ac.ma</td>\n",
       "      <td>Présentateur</td>\n",
       "    </tr>\n",
       "    <tr>\n",
       "      <th>61</th>\n",
       "      <td>Youness MOUZAKI</td>\n",
       "      <td>20/04/2021 à 14:27:59</td>\n",
       "      <td>20/04/2021 à 14:52:13</td>\n",
       "      <td>24 m 14 s</td>\n",
       "      <td>ymouzaki@insea.ac.ma</td>\n",
       "      <td>Présentateur</td>\n",
       "    </tr>\n",
       "    <tr>\n",
       "      <th>62</th>\n",
       "      <td>Niima CHIGR</td>\n",
       "      <td>20/04/2021 à 14:36:04</td>\n",
       "      <td>20/04/2021 à 14:44:08</td>\n",
       "      <td>8 m 3 s</td>\n",
       "      <td>nchigr@insea.ac.ma</td>\n",
       "      <td>Présentateur</td>\n",
       "    </tr>\n",
       "    <tr>\n",
       "      <th>63</th>\n",
       "      <td>Niima CHIGR</td>\n",
       "      <td>20/04/2021 à 14:48:48</td>\n",
       "      <td>20/04/2021 à 14:55:39</td>\n",
       "      <td>6 m 50 s</td>\n",
       "      <td>nchigr@insea.ac.ma</td>\n",
       "      <td>Présentateur</td>\n",
       "    </tr>\n",
       "  </tbody>\n",
       "</table>\n",
       "<p>64 rows × 6 columns</p>\n",
       "</div>"
      ],
      "text/plain": [
       "               Nom complet        Heure d'arrivée        Heure de départ  \\\n",
       "0         Imade BENELALLAM  20/04/2021 à 13:02:24  20/04/2021 à 14:53:19   \n",
       "1        Chaimaa BELKARKOR  20/04/2021 à 13:02:44  20/04/2021 à 14:53:30   \n",
       "2        Hibatallah BOUNAR  20/04/2021 à 13:03:07  20/04/2021 à 14:53:22   \n",
       "3            Sabah BOUKILI  20/04/2021 à 13:03:22  20/04/2021 à 13:13:50   \n",
       "4            Sabah BOUKILI  20/04/2021 à 13:42:28  20/04/2021 à 13:42:36   \n",
       "..                     ...                    ...                    ...   \n",
       "59  Mohamed-Amine FARFAOUA  20/04/2021 à 14:13:15  20/04/2021 à 14:17:49   \n",
       "60           Oussama YOUSR  20/04/2021 à 14:19:12  20/04/2021 à 14:53:21   \n",
       "61         Youness MOUZAKI  20/04/2021 à 14:27:59  20/04/2021 à 14:52:13   \n",
       "62             Niima CHIGR  20/04/2021 à 14:36:04  20/04/2021 à 14:44:08   \n",
       "63             Niima CHIGR  20/04/2021 à 14:48:48  20/04/2021 à 14:55:39   \n",
       "\n",
       "        Durée                    E-mail          Rôle  \n",
       "0    1 h 50 m  i.benelallam@insea.ac.ma  Organisateur  \n",
       "1    1 h 50 m    cbelkarkor@insea.ac.ma  Présentateur  \n",
       "2    1 h 50 m       hbounar@insea.ac.ma  Présentateur  \n",
       "3   10 m 28 s      sboukili@insea.ac.ma  Présentateur  \n",
       "4         7 s      sboukili@insea.ac.ma  Présentateur  \n",
       "..        ...                       ...           ...  \n",
       "59   4 m 34 s    mafarfaoua@insea.ac.ma  Présentateur  \n",
       "60   34 m 8 s        oyousr@insea.ac.ma  Présentateur  \n",
       "61  24 m 14 s      ymouzaki@insea.ac.ma  Présentateur  \n",
       "62    8 m 3 s        nchigr@insea.ac.ma  Présentateur  \n",
       "63   6 m 50 s        nchigr@insea.ac.ma  Présentateur  \n",
       "\n",
       "[64 rows x 6 columns]"
      ]
     },
     "execution_count": 6,
     "metadata": {},
     "output_type": "execute_result"
    }
   ],
   "source": [
    "with open(f\"/home/kali/project/output/log_{input_file.split('/')[-1]}\",\"w\") as f:\n",
    "    for value in log_call:\n",
    "        f.write(value)\n",
    "    f.close()\n",
    "df_log = pd.read_csv(f\"/home/kali/project/output/log_{input_file.split('/')[-1]}\",sep=\"\\t\")\n",
    "df_log"
   ]
  },
  {
   "cell_type": "code",
   "execution_count": 7,
   "id": "7f7b9fa1",
   "metadata": {
    "execution": {
     "iopub.execute_input": "2021-06-24T21:33:46.544795Z",
     "iopub.status.busy": "2021-06-24T21:33:46.543406Z",
     "iopub.status.idle": "2021-06-24T21:33:46.560945Z",
     "shell.execute_reply": "2021-06-24T21:33:46.564737Z"
    },
    "jupyter": {
     "source_hidden": true
    },
    "papermill": {
     "duration": 0.083214,
     "end_time": "2021-06-24T21:33:46.565686",
     "exception": false,
     "start_time": "2021-06-24T21:33:46.482472",
     "status": "completed"
    },
    "tags": []
   },
   "outputs": [],
   "source": [
    "start_str = meta_data[3].replace(\"Heure de début de la réunion\\t\",\"\").replace(\"\\n\",\"\").replace(\" à\",\"\")\n",
    "end_str   = meta_data[4].replace(\"Heure de fin\\t\",\"\").replace(\"\\n\",\"\").replace(\" à\",\"\")\n",
    "start_course = datetime.datetime.strptime(start_str, '%d/%m/%Y %H:%M:%S')\n",
    "end_course = datetime.datetime.strptime(end_str, '%d/%m/%Y %H:%M:%S')"
   ]
  },
  {
   "cell_type": "code",
   "execution_count": 8,
   "id": "270a1bba",
   "metadata": {
    "execution": {
     "iopub.execute_input": "2021-06-24T21:33:46.686128Z",
     "iopub.status.busy": "2021-06-24T21:33:46.684097Z",
     "iopub.status.idle": "2021-06-24T21:33:47.766231Z",
     "shell.execute_reply": "2021-06-24T21:33:47.767217Z"
    },
    "jupyter": {
     "source_hidden": true
    },
    "papermill": {
     "duration": 1.147316,
     "end_time": "2021-06-24T21:33:47.767499",
     "exception": false,
     "start_time": "2021-06-24T21:33:46.620183",
     "status": "completed"
    },
    "tags": []
   },
   "outputs": [],
   "source": [
    "df_ds = pd.read_excel(\"/home/kali/project/lists_excel/Liste des 2èmes années DS.xlsx\")\n",
    "#df_dse = pd.read_excel(\"/home/kali/notebook/project2/lists_excel/Liste 2A DSE.xlsx\")"
   ]
  },
  {
   "cell_type": "code",
   "execution_count": 9,
   "id": "3b19bbfa",
   "metadata": {
    "execution": {
     "iopub.execute_input": "2021-06-24T21:33:47.880622Z",
     "iopub.status.busy": "2021-06-24T21:33:47.879375Z",
     "iopub.status.idle": "2021-06-24T21:33:48.102273Z",
     "shell.execute_reply": "2021-06-24T21:33:48.100711Z"
    },
    "jupyter": {
     "source_hidden": true
    },
    "papermill": {
     "duration": 0.285017,
     "end_time": "2021-06-24T21:33:48.102532",
     "exception": false,
     "start_time": "2021-06-24T21:33:47.817515",
     "status": "completed"
    },
    "tags": []
   },
   "outputs": [],
   "source": [
    "mydb = mysql.connector.connect(database=\"airflow_db\", user=\"db_kali\", password=\"123456789\", host=\"localhost\")"
   ]
  },
  {
   "cell_type": "code",
   "execution_count": 10,
   "id": "74c1959a",
   "metadata": {
    "execution": {
     "iopub.execute_input": "2021-06-24T21:33:48.345443Z",
     "iopub.status.busy": "2021-06-24T21:33:48.343240Z",
     "iopub.status.idle": "2021-06-24T21:33:48.353265Z",
     "shell.execute_reply": "2021-06-24T21:33:48.354233Z"
    },
    "jupyter": {
     "source_hidden": true
    },
    "papermill": {
     "duration": 0.146599,
     "end_time": "2021-06-24T21:33:48.354582",
     "exception": false,
     "start_time": "2021-06-24T21:33:48.207983",
     "status": "completed"
    },
    "tags": []
   },
   "outputs": [],
   "source": [
    "#mycursor = mydb.cursor()\n",
    "#table=\"fact_table\"\n",
    "#mycursor.execute(f\"SELECT * FROM information_schema.columns WHERE table_schema = 'biabsence' AND table_name   = '{table}' ;\")\n",
    "#myresult = mycursor.fetchall()\n",
    "#for value in myresult:\n",
    "#    print(value[3],\":\",value[7])"
   ]
  },
  {
   "cell_type": "code",
   "execution_count": 11,
   "id": "f0b1542d",
   "metadata": {
    "execution": {
     "iopub.execute_input": "2021-06-24T21:33:48.466252Z",
     "iopub.status.busy": "2021-06-24T21:33:48.463534Z",
     "iopub.status.idle": "2021-06-24T21:33:48.498579Z",
     "shell.execute_reply": "2021-06-24T21:33:48.500271Z"
    },
    "jupyter": {
     "source_hidden": true
    },
    "papermill": {
     "duration": 0.099339,
     "end_time": "2021-06-24T21:33:48.500537",
     "exception": false,
     "start_time": "2021-06-24T21:33:48.401198",
     "status": "completed"
    },
    "tags": []
   },
   "outputs": [],
   "source": [
    "def add_student(name,gender,email,course,major):\n",
    "    mydb = mysql.connector.connect(database=\"airflow_db\", user=\"db_kali\", password=\"123456789\", host=\"localhost\") \n",
    "    mycursor = mydb.cursor()\n",
    "    sql1 = \"SELECT * FROM students where email = %s;\"\n",
    "    vals1 = (email,)\n",
    "    mycursor.execute(sql1, vals1)\n",
    "    myresult = mycursor.fetchall()\n",
    "    if len(myresult) != 0:\n",
    "        return myresult[0][0]\n",
    "    if len(myresult) == 0:\n",
    "        sql = \"INSERT INTO students (name,gender,email,course,major) VALUES (%s,%s,%s,%s,%s);\"\n",
    "        val = (name,gender,email,course,major)\n",
    "        mycursor.execute(sql, val)\n",
    "        mydb.commit()\n",
    "        # print(mycursor.rowcount, \"record inserted.\")\n",
    "        sql3 = \"SELECT * FROM students where email = %s;\"\n",
    "        vals3 = (email,)\n",
    "        mycursor.execute(sql3, vals3)\n",
    "        myresult = mycursor.fetchall()\n",
    "        return myresult[0][0]\n",
    "    \n",
    "def add_professor(name,email):\n",
    "    mydb = mysql.connector.connect(database=\"airflow_db\", user=\"db_kali\", password=\"123456789\", host=\"localhost\") \n",
    "    mycursor = mydb.cursor()\n",
    "    sql1 = \"SELECT * FROM professors where email = %s;\"\n",
    "    vals1 = (email, )\n",
    "    mycursor.execute(sql1, vals1)\n",
    "    myresult = mycursor.fetchall()\n",
    "    if len(myresult) != 0:\n",
    "        return myresult[0][0]\n",
    "    if len(myresult) == 0:\n",
    "        sql = \"INSERT INTO professors (name,email) VALUES (%s,%s);\"\n",
    "        val = (name,email,)\n",
    "        mycursor.execute(sql, val)\n",
    "        mydb.commit()\n",
    "        # print(mycursor.rowcount, \"record inserted.\")\n",
    "        sql3 = \"SELECT * FROM professors where email = %s;\"\n",
    "        vals3 = (email, )\n",
    "        mycursor.execute(sql1, vals1)\n",
    "        myresult = mycursor.fetchall()\n",
    "        return myresult[0][0]\n",
    "    \n",
    "def add_time(hour,day,month,year,date):\n",
    "    mydb = mysql.connector.connect(database=\"airflow_db\", user=\"db_kali\", password=\"123456789\", host=\"localhost\")\n",
    "    mycursor = mydb.cursor()\n",
    "    sql1 = \"SELECT * FROM time WHERE year = %s and month=%s and day=%s and hour=%s;\"\n",
    "    vals1 = (year, month, day, hour, )\n",
    "    mycursor.execute(sql1, vals1)\n",
    "    myresult = mycursor.fetchall()\n",
    "    if len(myresult) != 0:\n",
    "        return myresult[0][0]\n",
    "    if len(myresult) == 0:\n",
    "        sql = \"INSERT INTO time (hour,day,month,year,date) VALUES (%s,%s,%s,%s,%s);\"\n",
    "        val = (hour,day,month,year,date)\n",
    "        mycursor.execute(sql, val)\n",
    "        mydb.commit()\n",
    "        # print(mycursor.rowcount, \"record inserted.\")\n",
    "        sql3 = \"SELECT * FROM time WHERE year = %s and month=%s and day=%s and hour=%s;\"\n",
    "        vals3 = (year, month, day, hour, )\n",
    "        mycursor.execute(sql3, vals3)\n",
    "        myresult = mycursor.fetchall()\n",
    "        return myresult[0][0]"
   ]
  },
  {
   "cell_type": "code",
   "execution_count": 12,
   "id": "72ece278",
   "metadata": {
    "execution": {
     "iopub.execute_input": "2021-06-24T21:33:48.652104Z",
     "iopub.status.busy": "2021-06-24T21:33:48.650905Z",
     "iopub.status.idle": "2021-06-24T21:33:48.762950Z",
     "shell.execute_reply": "2021-06-24T21:33:48.772703Z"
    },
    "jupyter": {
     "source_hidden": true
    },
    "papermill": {
     "duration": 0.186283,
     "end_time": "2021-06-24T21:33:48.775255",
     "exception": false,
     "start_time": "2021-06-24T21:33:48.588972",
     "status": "completed"
    },
    "tags": []
   },
   "outputs": [
    {
     "data": {
      "text/plain": [
       "4"
      ]
     },
     "execution_count": 12,
     "metadata": {},
     "output_type": "execute_result"
    }
   ],
   "source": [
    "hour = start_course.hour\n",
    "day  = start_course.day\n",
    "month= start_course.month\n",
    "year = start_course.year\n",
    "date = start_course.strftime(\"%Y-%m-%d %H:%M:%S\")\n",
    "id_time=add_time(hour,day,month,year,date)\n",
    "id_time"
   ]
  },
  {
   "cell_type": "code",
   "execution_count": 13,
   "id": "31b6b443",
   "metadata": {
    "execution": {
     "iopub.execute_input": "2021-06-24T21:33:49.183253Z",
     "iopub.status.busy": "2021-06-24T21:33:49.180104Z",
     "iopub.status.idle": "2021-06-24T21:33:52.045224Z",
     "shell.execute_reply": "2021-06-24T21:33:52.046241Z"
    },
    "jupyter": {
     "source_hidden": true
    },
    "papermill": {
     "duration": 3.105809,
     "end_time": "2021-06-24T21:33:52.046519",
     "exception": false,
     "start_time": "2021-06-24T21:33:48.940710",
     "status": "completed"
    },
    "scrolled": true,
    "tags": []
   },
   "outputs": [
    {
     "name": "stdout",
     "output_type": "stream",
     "text": [
      "student: 193\n"
     ]
    },
    {
     "name": "stdout",
     "output_type": "stream",
     "text": [
      "student: 194\n",
      "student: 195\n"
     ]
    },
    {
     "name": "stdout",
     "output_type": "stream",
     "text": [
      "student: 196\n",
      "student: 197\n",
      "student: 198\n",
      "student: 199\n",
      "student: 200\n",
      "student: 201\n",
      "student: 202\n",
      "student: 203\n",
      "student: 204\n"
     ]
    },
    {
     "name": "stdout",
     "output_type": "stream",
     "text": [
      "student: 205\n",
      "student: 206\n"
     ]
    },
    {
     "name": "stdout",
     "output_type": "stream",
     "text": [
      "student: 207\n",
      "student: 208\n",
      "student: 209\n",
      "student: 210\n",
      "student: 211\n",
      "student: 212\n"
     ]
    },
    {
     "name": "stdout",
     "output_type": "stream",
     "text": [
      "student: 213\n",
      "student: 214\n",
      "student: 215\n",
      "student: 216\n",
      "student: 217\n",
      "student: 218\n",
      "student: 219\n",
      "student: 220\n"
     ]
    },
    {
     "name": "stdout",
     "output_type": "stream",
     "text": [
      "student: 221\n",
      "student: 222\n"
     ]
    },
    {
     "name": "stdout",
     "output_type": "stream",
     "text": [
      "student: 223\n",
      "student: 224\n"
     ]
    }
   ],
   "source": [
    "#ADD DS TO STUDENTS TABLE\n",
    "for index, row in df_ds.iterrows():\n",
    "    major=\"DS\"\n",
    "    name,gender,email,course,major = row[\"Nom\"],None,row[\"email\"],course,major\n",
    "    id_student=add_student(name,gender,email,course,major)\n",
    "    print(\"student:\",id_student)"
   ]
  },
  {
   "cell_type": "code",
   "execution_count": 14,
   "id": "43cfb06c",
   "metadata": {
    "execution": {
     "iopub.execute_input": "2021-06-24T21:33:52.295466Z",
     "iopub.status.busy": "2021-06-24T21:33:52.294235Z",
     "iopub.status.idle": "2021-06-24T21:33:53.390297Z",
     "shell.execute_reply": "2021-06-24T21:33:53.392155Z"
    },
    "jupyter": {
     "source_hidden": true
    },
    "papermill": {
     "duration": 1.20289,
     "end_time": "2021-06-24T21:33:53.393547",
     "exception": false,
     "start_time": "2021-06-24T21:33:52.190657",
     "status": "completed"
    },
    "scrolled": true,
    "tags": []
   },
   "outputs": [
    {
     "name": "stdout",
     "output_type": "stream",
     "text": [
      "professor: 6\n",
      "student: 203\n",
      "student: 225\n",
      "student: 226\n",
      "student: 226\n",
      "student: 226\n",
      "student: 227\n",
      "student: 210\n"
     ]
    },
    {
     "name": "stdout",
     "output_type": "stream",
     "text": [
      "student: 212\n",
      "student: 228\n",
      "student: 229\n",
      "student: 230\n",
      "student: 231\n",
      "student: 209\n",
      "student:"
     ]
    },
    {
     "name": "stdout",
     "output_type": "stream",
     "text": [
      " 209\n",
      "student: 209\n",
      "student: 232\n",
      "student: 232\n",
      "student: 220\n",
      "student: 233\n",
      "student: 234\n",
      "student: 235\n",
      "student: 221\n",
      "student: 221\n",
      "student: 221\n",
      "student: 221\n",
      "student: 221\n",
      "student: 236\n"
     ]
    },
    {
     "name": "stdout",
     "output_type": "stream",
     "text": [
      "student: 237\n",
      "student: 238\n",
      "student: 239\n",
      "student: 239\n",
      "student: 240\n",
      "student: 218\n",
      "student: 194\n",
      "student: 194\n",
      "student: 241\n",
      "student: 242\n",
      "student: 243\n",
      "student: 244\n",
      "student: 244\n",
      "student: 201\n",
      "student: 245\n",
      "student: 215\n",
      "student: "
     ]
    },
    {
     "name": "stdout",
     "output_type": "stream",
     "text": [
      "208\n",
      "student: 246\n",
      "student: 247\n",
      "student: 216\n",
      "student: 196\n",
      "student: 196\n",
      "student: 248\n",
      "student: 204\n",
      "student: 195\n",
      "student: 195\n",
      "student: 195\n",
      "student: 195\n",
      "student: 249\n",
      "student: 250\n",
      "student: 202\n",
      "student: 251\n",
      "student: 252\n",
      "student: 253\n",
      "student: 254\n",
      "student: 254\n"
     ]
    }
   ],
   "source": [
    "#ADD STUDENTS FROM LOG TO TABLE\n",
    "for index, row in df_log.iterrows():\n",
    "    if row[\"Rôle\"]!=\"Organisateur\":\n",
    "        result = df_ds[df_ds[\"email\"]==row[\"E-mail\"]]\n",
    "        if(len(result) > 0):\n",
    "            major=\"DS\"\n",
    "        else:\n",
    "            major=\"DSE\"\n",
    "        name,gender,email,course,major = row[\"Nom complet\"],None,row[\"E-mail\"],course,major\n",
    "        id_student=add_student(name,gender,email,course,major)\n",
    "        print(\"student:\",id_student)\n",
    "    else:\n",
    "        name,email = row[\"Nom complet\"],row[\"E-mail\"]\n",
    "        id_prof = add_professor(name,email)\n",
    "        print(\"professor:\",id_prof)"
   ]
  },
  {
   "cell_type": "code",
   "execution_count": 15,
   "id": "f3708b92",
   "metadata": {
    "execution": {
     "iopub.execute_input": "2021-06-24T21:33:53.623106Z",
     "iopub.status.busy": "2021-06-24T21:33:53.618386Z",
     "iopub.status.idle": "2021-06-24T21:33:53.627963Z",
     "shell.execute_reply": "2021-06-24T21:33:53.629142Z"
    },
    "jupyter": {
     "source_hidden": true
    },
    "papermill": {
     "duration": 0.088882,
     "end_time": "2021-06-24T21:33:53.629460",
     "exception": false,
     "start_time": "2021-06-24T21:33:53.540578",
     "status": "completed"
    },
    "tags": []
   },
   "outputs": [],
   "source": [
    "groups = df_log.groupby(\"E-mail\")"
   ]
  },
  {
   "cell_type": "code",
   "execution_count": 16,
   "id": "7924aacf",
   "metadata": {
    "execution": {
     "iopub.execute_input": "2021-06-24T21:33:53.762991Z",
     "iopub.status.busy": "2021-06-24T21:33:53.756592Z",
     "iopub.status.idle": "2021-06-24T21:33:53.777536Z",
     "shell.execute_reply": "2021-06-24T21:33:53.779004Z"
    },
    "jupyter": {
     "source_hidden": true
    },
    "papermill": {
     "duration": 0.089968,
     "end_time": "2021-06-24T21:33:53.779294",
     "exception": false,
     "start_time": "2021-06-24T21:33:53.689326",
     "status": "completed"
    },
    "tags": []
   },
   "outputs": [],
   "source": [
    "mydb = mysql.connector.connect(database=\"airflow_db\", user=\"db_kali\", password=\"123456789\", host=\"localhost\")\n",
    "mycursor = mydb.cursor()\n",
    "mycursor.execute(\"SELECT * FROM students\")\n",
    "myresult = mycursor.fetchall()\n",
    "emails=[]\n",
    "for result in myresult:\n",
    "    emails.append(result[3])"
   ]
  },
  {
   "cell_type": "code",
   "execution_count": 17,
   "id": "98dcdaad",
   "metadata": {
    "execution": {
     "iopub.execute_input": "2021-06-24T21:33:53.913071Z",
     "iopub.status.busy": "2021-06-24T21:33:53.908311Z",
     "iopub.status.idle": "2021-06-24T21:33:53.921636Z",
     "shell.execute_reply": "2021-06-24T21:33:53.920165Z"
    },
    "jupyter": {
     "source_hidden": true
    },
    "papermill": {
     "duration": 0.077237,
     "end_time": "2021-06-24T21:33:53.921928",
     "exception": false,
     "start_time": "2021-06-24T21:33:53.844691",
     "status": "completed"
    },
    "scrolled": true,
    "tags": []
   },
   "outputs": [
    {
     "name": "stdout",
     "output_type": "stream",
     "text": [
      "amenani@insea.ac.ma\n",
      "amsanoussilabo@insea.ac.ma\n",
      "aezzouine@insea.ac.ma \n",
      "aajarray@insea.ac.ma\n",
      "acheddad@insea.ac.ma\n",
      "aelomairi@insea.ac.ma\n",
      "asinare@insea.ac.ma\n",
      "aoussar@insea.ac.ma\n",
      "ahamdi@insea.ac.ma\n",
      "aelhadine@insea.ac.ma\n",
      "cbelkarkor@insea.ac.ma\n",
      "cbenallalhassani@insea.ac.ma\n",
      "hchafai@insea.ac.ma\n",
      "hhoumane@insea.ac.ma\n",
      "hdah@insea.ac.ma\n",
      "hlagramez@insea.ac.ma\n",
      "imourad@insea.ac.ma\n",
      "ikonkobo@insea.ac.ma\n",
      "ibelmezouar@insea.ac.ma\n",
      "kbensatti@insea.ac.ma\n",
      "yakhallouq@insea.ac.ma\n",
      "mamallah@insea.ac.ma\n",
      "magouram@insea.ac.ma\n",
      "msidibe@insea.ac.ma\n",
      "nchahboun@insea.ac.ma\n",
      "rouhmiz@insea.ac.ma\n",
      "selhairech@insea.ac.ma\n",
      "sdaouaji@insea.ac.ma\n",
      "tmajjati@insea.ac.ma\n",
      "yelhilali@insea.ac.ma\n",
      "yamaghoss@insea.ac.ma\n",
      "ysadki@insea.ac.ma\n",
      "hbounar@insea.ac.ma\n",
      "sboukili@insea.ac.ma\n",
      "aelfadili@insea.ac.ma\n",
      "zjaafari@insea.ac.ma\n",
      "seaouari@insea.ac.ma\n",
      "hboudinar@insea.ac.ma\n",
      "helmouhsine@insea.ac.ma\n",
      "fbanah@insea.ac.ma\n",
      "selhasnaoui@insea.ac.ma\n",
      "abalij@insea.ac.ma\n",
      "hmehdioui@insea.ac.ma\n",
      "smellak@insea.ac.ma\n",
      "ohabiballah@insea.ac.ma\n",
      "amamansouley@insea.ac.ma\n",
      "zrhosne@insea.ac.ma\n",
      "yfadoul@insea.ac.ma\n",
      "msangare@insea.ac.ma\n",
      "ooucouc@insea.ac.ma\n",
      "aoubaha@insea.ac.ma\n",
      "aelbahji@insea.ac.ma\n",
      "selkhyati@insea.ac.ma\n",
      "olaabadia@insea.ac.ma\n",
      "kkajja@insea.ac.ma\n",
      "catraoui@insea.ac.ma\n",
      "cbouzouf@insea.ac.ma\n",
      "amakrane@insea.ac.ma\n",
      "mafarfaoua@insea.ac.ma\n",
      "oyousr@insea.ac.ma\n",
      "ymouzaki@insea.ac.ma\n",
      "nchigr@insea.ac.ma\n"
     ]
    }
   ],
   "source": [
    "print(\"\\n\".join(emails))"
   ]
  },
  {
   "cell_type": "code",
   "execution_count": 18,
   "id": "a5f68fe7",
   "metadata": {
    "execution": {
     "iopub.execute_input": "2021-06-24T21:33:54.079807Z",
     "iopub.status.busy": "2021-06-24T21:33:54.078296Z",
     "iopub.status.idle": "2021-06-24T21:33:56.135112Z",
     "shell.execute_reply": "2021-06-24T21:33:56.133442Z"
    },
    "jupyter": {
     "source_hidden": true
    },
    "papermill": {
     "duration": 2.130765,
     "end_time": "2021-06-24T21:33:56.135441",
     "exception": false,
     "start_time": "2021-06-24T21:33:54.004676",
     "status": "completed"
    },
    "scrolled": true,
    "tags": []
   },
   "outputs": [
    {
     "name": "stdout",
     "output_type": "stream",
     "text": [
      "not found 'amenani@insea.ac.ma'\n",
      "student: 194\n",
      "not found 'aezzouine@insea.ac.ma '\n"
     ]
    },
    {
     "name": "stdout",
     "output_type": "stream",
     "text": [
      "student: 196\n",
      "not found 'acheddad@insea.ac.ma'\n",
      "not found 'aelomairi@insea.ac.ma'\n"
     ]
    },
    {
     "name": "stdout",
     "output_type": "stream",
     "text": [
      "not found 'asinare@insea.ac.ma'\n"
     ]
    },
    {
     "name": "stdout",
     "output_type": "stream",
     "text": [
      "not found 'aoussar@insea.ac.ma'\n",
      "student: 201\n",
      "student: 202\n",
      "student: 203\n"
     ]
    },
    {
     "name": "stdout",
     "output_type": "stream",
     "text": [
      "student: 204\n",
      "not found 'hchafai@insea.ac.ma'\n",
      "not found 'hhoumane@insea.ac.ma'\n",
      "not found 'hdah@insea.ac.ma'\n",
      "student: 208\n",
      "student: 209\n",
      "student: 210\n",
      "not found 'ibelmezouar@insea.ac.ma'\n",
      "student: 212\n",
      "not found 'yakhallouq@insea.ac.ma'\n"
     ]
    },
    {
     "name": "stdout",
     "output_type": "stream",
     "text": [
      "not found 'mamallah@insea.ac.ma'\n",
      "student: 215\n",
      "student: 216\n",
      "not found 'nchahboun@insea.ac.ma'\n",
      "student: 218\n",
      "not found 'selhairech@insea.ac.ma'\n",
      "student: 220\n",
      "student: 221\n",
      "not found 'yelhilali@insea.ac.ma'\n",
      "not found 'yamaghoss@insea.ac.ma'\n",
      "not found 'ysadki@insea.ac.ma'\n",
      "student: 225\n",
      "student: 226\n",
      "student: 227\n"
     ]
    },
    {
     "name": "stdout",
     "output_type": "stream",
     "text": [
      "student: 228\n",
      "student: 229\n",
      "student: 230\n",
      "student: 231\n",
      "student: 232\n",
      "student: 233\n",
      "student: 234\n",
      "student: 235\n",
      "student: 236\n",
      "student: 237\n",
      "student: 238\n",
      "student: 239\n",
      "student: 240\n",
      "student: 241\n"
     ]
    },
    {
     "name": "stdout",
     "output_type": "stream",
     "text": [
      "student: 242\n",
      "student: 243\n",
      "student: 244\n",
      "student: 245\n",
      "student: 246\n",
      "student: 247\n",
      "student: 248\n",
      "student: 249\n"
     ]
    },
    {
     "name": "stdout",
     "output_type": "stream",
     "text": [
      "student: 250\n",
      "student: 251\n",
      "student: 252\n",
      "student: 253\n",
      "student: 254\n"
     ]
    }
   ],
   "source": [
    "\n",
    "for email in emails:\n",
    "    name,gender,email,course,major = None,None,email,course,None\n",
    "    id_student=add_student(name,gender,email,course,major)\n",
    "    try:\n",
    "        data = groups.get_group(email).reset_index()\n",
    "        nb_abs = 0\n",
    "        #DURATION\n",
    "        duration=0\n",
    "        got_first_start=False\n",
    "        for index, row in data.iterrows():\n",
    "            start_str = row[\"Heure d'arrivée\"].replace(\" à\",\"\")\n",
    "            end_str   = row[\"Heure de départ\"].replace(\" à\",\"\")\n",
    "            start = datetime.datetime.strptime(start_str, '%d/%m/%Y %H:%M:%S')\n",
    "            end = datetime.datetime.strptime(end_str, '%d/%m/%Y %H:%M:%S')\n",
    "            duration = duration + ((end-start).total_seconds() / 60.0)\n",
    "            if not got_first_start:\n",
    "                got_first_start = True\n",
    "                first_start = start\n",
    "        if duration > 120:\n",
    "            duration=120\n",
    "        #NB LATES  \n",
    "        if ((first_start-start_course).total_seconds() / 60.0) > 15:\n",
    "            nb_lates = 1\n",
    "        else:\n",
    "            nb_lates = 0\n",
    "        \n",
    "        nb_pres = 1\n",
    "        \n",
    "        #ABS DURATION\n",
    "        abs_duration = 120-duration\n",
    "        \n",
    "        #DURATION IN INTEGER IN DB!\n",
    "        duration = int(duration)\n",
    "        \n",
    "        #is student\n",
    "        print(\"student:\",id_student)\n",
    "        if duration <= 15:\n",
    "            nb_abs = 1\n",
    "            nb_lates=0\n",
    "            nb_pres=0\n",
    "    \n",
    "    except KeyError as e:\n",
    "        print(\"not found\",e)\n",
    "        nb_abs = 1\n",
    "        abs_duration = 120\n",
    "        nb_lates=0\n",
    "        nb_pres=0\n",
    "        duration=0\n",
    "    #insert to data mart now\n",
    "    try:\n",
    "        mydb = mysql.connector.connect(database=\"airflow_db\", user=\"db_kali\", password=\"123456789\", host=\"localhost\")\n",
    "        mycursor = mydb.cursor()\n",
    "        sql = \"INSERT INTO fact_table (id_time,id_prof,id_student,nb_abs,abs_duration,nb_lates,nb_pres,duration) VALUES (%s,%s,%s,%s,%s,%s,%s,%s);\"\n",
    "        val = (id_time,id_prof,id_student,nb_abs,abs_duration,nb_lates,nb_pres,duration)\n",
    "        mycursor.execute(sql, val)\n",
    "        mydb.commit()\n",
    "    except :\n",
    "        continue"
   ]
  },
  {
   "cell_type": "code",
   "execution_count": 19,
   "id": "0067bcb5",
   "metadata": {
    "execution": {
     "iopub.execute_input": "2021-06-24T21:33:56.323696Z",
     "iopub.status.busy": "2021-06-24T21:33:56.321089Z",
     "iopub.status.idle": "2021-06-24T21:33:56.390830Z",
     "shell.execute_reply": "2021-06-24T21:33:56.392835Z"
    },
    "jupyter": {
     "source_hidden": true
    },
    "papermill": {
     "duration": 0.15562,
     "end_time": "2021-06-24T21:33:56.393678",
     "exception": false,
     "start_time": "2021-06-24T21:33:56.238058",
     "status": "completed"
    },
    "tags": []
   },
   "outputs": [
    {
     "data": {
      "text/plain": [
       "0"
      ]
     },
     "execution_count": 19,
     "metadata": {},
     "output_type": "execute_result"
    }
   ],
   "source": [
    "os.system(f'mv \"{input_file}\" \"/home/kali/project/processed/\"')"
   ]
  }
 ],
 "metadata": {
  "kernelspec": {
   "display_name": "Python 3",
   "language": "python",
   "name": "python3"
  },
  "language_info": {
   "codemirror_mode": {
    "name": "ipython",
    "version": 3
   },
   "file_extension": ".py",
   "mimetype": "text/x-python",
   "name": "python",
   "nbconvert_exporter": "python",
   "pygments_lexer": "ipython3",
   "version": "3.7.5"
  },
  "papermill": {
   "default_parameters": {},
   "duration": 17.5208,
   "end_time": "2021-06-24T21:33:57.288585",
   "environment_variables": {},
   "exception": null,
   "input_path": "/home/kali/project/process_input_list.ipynb",
   "output_path": "/home/kali/project/outs/out-process_input_list2021-06-24T21:33:08.006375+00:00.ipynb",
   "parameters": {
    "msgs": "Ran from Airflow at 2021-06-24T21:33:08.006375+00:00!"
   },
   "start_time": "2021-06-24T21:33:39.767785",
   "version": "2.3.3"
  }
 },
 "nbformat": 4,
 "nbformat_minor": 5
}