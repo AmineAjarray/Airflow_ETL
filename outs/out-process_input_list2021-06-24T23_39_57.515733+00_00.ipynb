{
 "cells": [
  {
   "cell_type": "code",
   "execution_count": 1,
   "id": "f60c85ce",
   "metadata": {
    "execution": {
     "iopub.execute_input": "2021-06-24T23:40:29.370324Z",
     "iopub.status.busy": "2021-06-24T23:40:29.359661Z",
     "iopub.status.idle": "2021-06-24T23:40:29.379379Z",
     "shell.execute_reply": "2021-06-24T23:40:29.381811Z"
    },
    "jupyter": {
     "source_hidden": true
    },
    "papermill": {
     "duration": 0.0984,
     "end_time": "2021-06-24T23:40:29.395755",
     "exception": false,
     "start_time": "2021-06-24T23:40:29.297355",
     "status": "completed"
    },
    "tags": [
     "injected-parameters"
    ]
   },
   "outputs": [],
   "source": [
    "# Parameters\n",
    "msgs = \"Ran from Airflow at 2021-06-24T23:39:57.515733+00:00!\"\n"
   ]
  },
  {
   "cell_type": "code",
   "execution_count": 2,
   "id": "13c6f718",
   "metadata": {
    "execution": {
     "iopub.execute_input": "2021-06-24T23:40:29.544370Z",
     "iopub.status.busy": "2021-06-24T23:40:29.542894Z",
     "iopub.status.idle": "2021-06-24T23:40:31.206964Z",
     "shell.execute_reply": "2021-06-24T23:40:31.208750Z"
    },
    "jupyter": {
     "source_hidden": true
    },
    "papermill": {
     "duration": 1.716662,
     "end_time": "2021-06-24T23:40:31.209780",
     "exception": false,
     "start_time": "2021-06-24T23:40:29.493118",
     "status": "completed"
    },
    "tags": []
   },
   "outputs": [],
   "source": [
    "import pandas as pd\n",
    "import mysql.connector\n",
    "import os\n",
    "#import json\n",
    "import datetime"
   ]
  },
  {
   "cell_type": "code",
   "execution_count": 3,
   "id": "f49514fe",
   "metadata": {
    "execution": {
     "iopub.execute_input": "2021-06-24T23:40:31.304970Z",
     "iopub.status.busy": "2021-06-24T23:40:31.303312Z",
     "iopub.status.idle": "2021-06-24T23:40:31.323425Z",
     "shell.execute_reply": "2021-06-24T23:40:31.324489Z"
    },
    "jupyter": {
     "source_hidden": true
    },
    "papermill": {
     "duration": 0.073733,
     "end_time": "2021-06-24T23:40:31.324789",
     "exception": false,
     "start_time": "2021-06-24T23:40:31.251056",
     "status": "completed"
    },
    "tags": []
   },
   "outputs": [
    {
     "name": "stdout",
     "output_type": "stream",
     "text": [
      "will process: /home/kali/project/input/meetingAttendanceReport(General) (5).csv\n"
     ]
    }
   ],
   "source": [
    "with open(\"/home/kali/project/input_config.txt\") as f:\n",
    "    input_file=f.readline()\n",
    "print(\"will process:\",input_file)"
   ]
  },
  {
   "cell_type": "code",
   "execution_count": 4,
   "id": "6d2ea9e2",
   "metadata": {
    "execution": {
     "iopub.execute_input": "2021-06-24T23:40:31.420318Z",
     "iopub.status.busy": "2021-06-24T23:40:31.418942Z",
     "iopub.status.idle": "2021-06-24T23:40:31.442185Z",
     "shell.execute_reply": "2021-06-24T23:40:31.444356Z"
    },
    "jupyter": {
     "source_hidden": true
    },
    "papermill": {
     "duration": 0.076133,
     "end_time": "2021-06-24T23:40:31.444752",
     "exception": false,
     "start_time": "2021-06-24T23:40:31.368619",
     "status": "completed"
    },
    "tags": []
   },
   "outputs": [],
   "source": [
    "meta_data=[]\n",
    "log_call=[]\n",
    "lines=[]\n",
    "with open(input_file,encoding=\"utf-16\") as f:\n",
    "    lines=f.readlines()\n",
    "meta_data=lines[0:5]\n",
    "log_call=lines[6:]"
   ]
  },
  {
   "cell_type": "code",
   "execution_count": 5,
   "id": "03a595c6",
   "metadata": {
    "execution": {
     "iopub.execute_input": "2021-06-24T23:40:31.580794Z",
     "iopub.status.busy": "2021-06-24T23:40:31.579125Z",
     "iopub.status.idle": "2021-06-24T23:40:31.612117Z",
     "shell.execute_reply": "2021-06-24T23:40:31.614978Z"
    },
    "jupyter": {
     "source_hidden": true
    },
    "papermill": {
     "duration": 0.090378,
     "end_time": "2021-06-24T23:40:31.615362",
     "exception": false,
     "start_time": "2021-06-24T23:40:31.524984",
     "status": "completed"
    },
    "scrolled": true,
    "tags": []
   },
   "outputs": [
    {
     "data": {
      "text/plain": [
       "'General'"
      ]
     },
     "execution_count": 5,
     "metadata": {},
     "output_type": "execute_result"
    }
   ],
   "source": [
    "course = meta_data[2].replace(\"Titre de la réunion\\t\",\"\").replace(\"\\n\",\"\")\n",
    "course"
   ]
  },
  {
   "cell_type": "code",
   "execution_count": 6,
   "id": "7c932598",
   "metadata": {
    "execution": {
     "iopub.execute_input": "2021-06-24T23:40:31.715350Z",
     "iopub.status.busy": "2021-06-24T23:40:31.710777Z",
     "iopub.status.idle": "2021-06-24T23:40:31.796553Z",
     "shell.execute_reply": "2021-06-24T23:40:31.798690Z"
    },
    "jupyter": {
     "source_hidden": true
    },
    "papermill": {
     "duration": 0.141842,
     "end_time": "2021-06-24T23:40:31.799054",
     "exception": false,
     "start_time": "2021-06-24T23:40:31.657212",
     "status": "completed"
    },
    "tags": []
   },
   "outputs": [
    {
     "data": {
      "text/html": [
       "<div>\n",
       "<style scoped>\n",
       "    .dataframe tbody tr th:only-of-type {\n",
       "        vertical-align: middle;\n",
       "    }\n",
       "\n",
       "    .dataframe tbody tr th {\n",
       "        vertical-align: top;\n",
       "    }\n",
       "\n",
       "    .dataframe thead th {\n",
       "        text-align: right;\n",
       "    }\n",
       "</style>\n",
       "<table border=\"1\" class=\"dataframe\">\n",
       "  <thead>\n",
       "    <tr style=\"text-align: right;\">\n",
       "      <th></th>\n",
       "      <th>Nom complet</th>\n",
       "      <th>Heure d'arrivée</th>\n",
       "      <th>Heure de départ</th>\n",
       "      <th>Durée</th>\n",
       "      <th>E-mail</th>\n",
       "      <th>Rôle</th>\n",
       "    </tr>\n",
       "  </thead>\n",
       "  <tbody>\n",
       "    <tr>\n",
       "      <th>0</th>\n",
       "      <td>Imade BENELALLAM</td>\n",
       "      <td>05/05/2021 à 13:02:19</td>\n",
       "      <td>05/05/2021 à 14:51:19</td>\n",
       "      <td>1 h 49 m</td>\n",
       "      <td>i.benelallam@insea.ac.ma</td>\n",
       "      <td>Organisateur</td>\n",
       "    </tr>\n",
       "    <tr>\n",
       "      <th>1</th>\n",
       "      <td>Imade BENELALLAM</td>\n",
       "      <td>05/05/2021 à 15:34:11</td>\n",
       "      <td>05/05/2021 à 16:17:37</td>\n",
       "      <td>43 m 25 s</td>\n",
       "      <td>i.benelallam@insea.ac.ma</td>\n",
       "      <td>Organisateur</td>\n",
       "    </tr>\n",
       "    <tr>\n",
       "      <th>2</th>\n",
       "      <td>Chaimaa BELKARKOR</td>\n",
       "      <td>05/05/2021 à 13:02:43</td>\n",
       "      <td>05/05/2021 à 16:17:41</td>\n",
       "      <td>3 h 14 m</td>\n",
       "      <td>cbelkarkor@insea.ac.ma</td>\n",
       "      <td>Présentateur</td>\n",
       "    </tr>\n",
       "    <tr>\n",
       "      <th>3</th>\n",
       "      <td>Zakariae JAAFARI</td>\n",
       "      <td>05/05/2021 à 13:02:45</td>\n",
       "      <td>05/05/2021 à 14:50:16</td>\n",
       "      <td>1 h 47 m</td>\n",
       "      <td>zjaafari@insea.ac.ma</td>\n",
       "      <td>Présentateur</td>\n",
       "    </tr>\n",
       "    <tr>\n",
       "      <th>4</th>\n",
       "      <td>Amina EZZOUINE</td>\n",
       "      <td>05/05/2021 à 13:03:00</td>\n",
       "      <td>05/05/2021 à 14:51:00</td>\n",
       "      <td>1 h 47 m</td>\n",
       "      <td>aezzouine@insea.ac.ma</td>\n",
       "      <td>Présentateur</td>\n",
       "    </tr>\n",
       "    <tr>\n",
       "      <th>...</th>\n",
       "      <td>...</td>\n",
       "      <td>...</td>\n",
       "      <td>...</td>\n",
       "      <td>...</td>\n",
       "      <td>...</td>\n",
       "      <td>...</td>\n",
       "    </tr>\n",
       "    <tr>\n",
       "      <th>56</th>\n",
       "      <td>Oussama YOUSR</td>\n",
       "      <td>05/05/2021 à 13:55:52</td>\n",
       "      <td>05/05/2021 à 14:37:09</td>\n",
       "      <td>41 m 17 s</td>\n",
       "      <td>oyousr@insea.ac.ma</td>\n",
       "      <td>Présentateur</td>\n",
       "    </tr>\n",
       "    <tr>\n",
       "      <th>57</th>\n",
       "      <td>Mohamed AGOURAM</td>\n",
       "      <td>05/05/2021 à 14:17:13</td>\n",
       "      <td>05/05/2021 à 14:27:31</td>\n",
       "      <td>10 m 17 s</td>\n",
       "      <td>magouram@insea.ac.ma</td>\n",
       "      <td>Présentateur</td>\n",
       "    </tr>\n",
       "    <tr>\n",
       "      <th>58</th>\n",
       "      <td>Youness MOUZAKI</td>\n",
       "      <td>05/05/2021 à 14:22:00</td>\n",
       "      <td>05/05/2021 à 14:50:07</td>\n",
       "      <td>28 m 7 s</td>\n",
       "      <td>ymouzaki@insea.ac.ma</td>\n",
       "      <td>Présentateur</td>\n",
       "    </tr>\n",
       "    <tr>\n",
       "      <th>59</th>\n",
       "      <td>Sabah BOUKILI</td>\n",
       "      <td>05/05/2021 à 14:47:58</td>\n",
       "      <td>05/05/2021 à 14:54:25</td>\n",
       "      <td>6 m 26 s</td>\n",
       "      <td>sboukili@insea.ac.ma</td>\n",
       "      <td>Présentateur</td>\n",
       "    </tr>\n",
       "    <tr>\n",
       "      <th>60</th>\n",
       "      <td>Hajar CHAFAI</td>\n",
       "      <td>05/05/2021 à 15:55:29</td>\n",
       "      <td>05/05/2021 à 16:17:41</td>\n",
       "      <td>22 m 12 s</td>\n",
       "      <td>hchafai@insea.ac.ma</td>\n",
       "      <td>Présentateur</td>\n",
       "    </tr>\n",
       "  </tbody>\n",
       "</table>\n",
       "<p>61 rows × 6 columns</p>\n",
       "</div>"
      ],
      "text/plain": [
       "          Nom complet        Heure d'arrivée        Heure de départ  \\\n",
       "0    Imade BENELALLAM  05/05/2021 à 13:02:19  05/05/2021 à 14:51:19   \n",
       "1    Imade BENELALLAM  05/05/2021 à 15:34:11  05/05/2021 à 16:17:37   \n",
       "2   Chaimaa BELKARKOR  05/05/2021 à 13:02:43  05/05/2021 à 16:17:41   \n",
       "3    Zakariae JAAFARI  05/05/2021 à 13:02:45  05/05/2021 à 14:50:16   \n",
       "4      Amina EZZOUINE  05/05/2021 à 13:03:00  05/05/2021 à 14:51:00   \n",
       "..                ...                    ...                    ...   \n",
       "56      Oussama YOUSR  05/05/2021 à 13:55:52  05/05/2021 à 14:37:09   \n",
       "57    Mohamed AGOURAM  05/05/2021 à 14:17:13  05/05/2021 à 14:27:31   \n",
       "58    Youness MOUZAKI  05/05/2021 à 14:22:00  05/05/2021 à 14:50:07   \n",
       "59      Sabah BOUKILI  05/05/2021 à 14:47:58  05/05/2021 à 14:54:25   \n",
       "60       Hajar CHAFAI  05/05/2021 à 15:55:29  05/05/2021 à 16:17:41   \n",
       "\n",
       "        Durée                    E-mail          Rôle  \n",
       "0    1 h 49 m  i.benelallam@insea.ac.ma  Organisateur  \n",
       "1   43 m 25 s  i.benelallam@insea.ac.ma  Organisateur  \n",
       "2    3 h 14 m    cbelkarkor@insea.ac.ma  Présentateur  \n",
       "3    1 h 47 m      zjaafari@insea.ac.ma  Présentateur  \n",
       "4    1 h 47 m     aezzouine@insea.ac.ma  Présentateur  \n",
       "..        ...                       ...           ...  \n",
       "56  41 m 17 s        oyousr@insea.ac.ma  Présentateur  \n",
       "57  10 m 17 s      magouram@insea.ac.ma  Présentateur  \n",
       "58   28 m 7 s      ymouzaki@insea.ac.ma  Présentateur  \n",
       "59   6 m 26 s      sboukili@insea.ac.ma  Présentateur  \n",
       "60  22 m 12 s       hchafai@insea.ac.ma  Présentateur  \n",
       "\n",
       "[61 rows x 6 columns]"
      ]
     },
     "execution_count": 6,
     "metadata": {},
     "output_type": "execute_result"
    }
   ],
   "source": [
    "with open(f\"/home/kali/project/output/log_{input_file.split('/')[-1]}\",\"w\") as f:\n",
    "    for value in log_call:\n",
    "        f.write(value)\n",
    "    f.close()\n",
    "df_log = pd.read_csv(f\"/home/kali/project/output/log_{input_file.split('/')[-1]}\",sep=\"\\t\")\n",
    "df_log"
   ]
  },
  {
   "cell_type": "code",
   "execution_count": 7,
   "id": "7f7b9fa1",
   "metadata": {
    "execution": {
     "iopub.execute_input": "2021-06-24T23:40:31.917187Z",
     "iopub.status.busy": "2021-06-24T23:40:31.915761Z",
     "iopub.status.idle": "2021-06-24T23:40:31.929060Z",
     "shell.execute_reply": "2021-06-24T23:40:31.931467Z"
    },
    "jupyter": {
     "source_hidden": true
    },
    "papermill": {
     "duration": 0.075516,
     "end_time": "2021-06-24T23:40:31.931839",
     "exception": false,
     "start_time": "2021-06-24T23:40:31.856323",
     "status": "completed"
    },
    "tags": []
   },
   "outputs": [],
   "source": [
    "start_str = meta_data[3].replace(\"Heure de début de la réunion\\t\",\"\").replace(\"\\n\",\"\").replace(\" à\",\"\")\n",
    "end_str   = meta_data[4].replace(\"Heure de fin\\t\",\"\").replace(\"\\n\",\"\").replace(\" à\",\"\")\n",
    "start_course = datetime.datetime.strptime(start_str, '%d/%m/%Y %H:%M:%S')\n",
    "end_course = datetime.datetime.strptime(end_str, '%d/%m/%Y %H:%M:%S')"
   ]
  },
  {
   "cell_type": "code",
   "execution_count": 8,
   "id": "270a1bba",
   "metadata": {
    "execution": {
     "iopub.execute_input": "2021-06-24T23:40:32.131376Z",
     "iopub.status.busy": "2021-06-24T23:40:32.117432Z",
     "iopub.status.idle": "2021-06-24T23:40:33.143988Z",
     "shell.execute_reply": "2021-06-24T23:40:33.145948Z"
    },
    "jupyter": {
     "source_hidden": true
    },
    "papermill": {
     "duration": 1.160741,
     "end_time": "2021-06-24T23:40:33.146235",
     "exception": false,
     "start_time": "2021-06-24T23:40:31.985494",
     "status": "completed"
    },
    "tags": []
   },
   "outputs": [],
   "source": [
    "df_ds = pd.read_excel(\"/home/kali/project/lists_excel/Liste des 2èmes années DS.xlsx\")\n",
    "#df_dse = pd.read_excel(\"/home/kali/notebook/project2/lists_excel/Liste 2A DSE.xlsx\")"
   ]
  },
  {
   "cell_type": "code",
   "execution_count": 9,
   "id": "3b19bbfa",
   "metadata": {
    "execution": {
     "iopub.execute_input": "2021-06-24T23:40:33.272906Z",
     "iopub.status.busy": "2021-06-24T23:40:33.267484Z",
     "iopub.status.idle": "2021-06-24T23:40:33.368724Z",
     "shell.execute_reply": "2021-06-24T23:40:33.371190Z"
    },
    "jupyter": {
     "source_hidden": true
    },
    "papermill": {
     "duration": 0.170572,
     "end_time": "2021-06-24T23:40:33.371555",
     "exception": false,
     "start_time": "2021-06-24T23:40:33.200983",
     "status": "completed"
    },
    "tags": []
   },
   "outputs": [],
   "source": [
    "mydb = mysql.connector.connect(database=\"airflow_db\", user=\"db_kali\", password=\"123456789\", host=\"localhost\")"
   ]
  },
  {
   "cell_type": "code",
   "execution_count": 10,
   "id": "74c1959a",
   "metadata": {
    "execution": {
     "iopub.execute_input": "2021-06-24T23:40:33.487693Z",
     "iopub.status.busy": "2021-06-24T23:40:33.480397Z",
     "iopub.status.idle": "2021-06-24T23:40:33.489873Z",
     "shell.execute_reply": "2021-06-24T23:40:33.490999Z"
    },
    "jupyter": {
     "source_hidden": true
    },
    "papermill": {
     "duration": 0.068593,
     "end_time": "2021-06-24T23:40:33.491356",
     "exception": false,
     "start_time": "2021-06-24T23:40:33.422763",
     "status": "completed"
    },
    "tags": []
   },
   "outputs": [],
   "source": [
    "#mycursor = mydb.cursor()\n",
    "#table=\"fact_table\"\n",
    "#mycursor.execute(f\"SELECT * FROM information_schema.columns WHERE table_schema = 'biabsence' AND table_name   = '{table}' ;\")\n",
    "#myresult = mycursor.fetchall()\n",
    "#for value in myresult:\n",
    "#    print(value[3],\":\",value[7])"
   ]
  },
  {
   "cell_type": "code",
   "execution_count": 11,
   "id": "f0b1542d",
   "metadata": {
    "execution": {
     "iopub.execute_input": "2021-06-24T23:40:33.625336Z",
     "iopub.status.busy": "2021-06-24T23:40:33.620571Z",
     "iopub.status.idle": "2021-06-24T23:40:33.666017Z",
     "shell.execute_reply": "2021-06-24T23:40:33.667885Z"
    },
    "jupyter": {
     "source_hidden": true
    },
    "papermill": {
     "duration": 0.123571,
     "end_time": "2021-06-24T23:40:33.668210",
     "exception": false,
     "start_time": "2021-06-24T23:40:33.544639",
     "status": "completed"
    },
    "tags": []
   },
   "outputs": [],
   "source": [
    "def add_student(name,gender,email,course,major):\n",
    "    mydb = mysql.connector.connect(database=\"airflow_db\", user=\"db_kali\", password=\"123456789\", host=\"localhost\") \n",
    "    mycursor = mydb.cursor()\n",
    "    sql1 = \"SELECT * FROM students where email = %s;\"\n",
    "    vals1 = (email,)\n",
    "    mycursor.execute(sql1, vals1)\n",
    "    myresult = mycursor.fetchall()\n",
    "    if len(myresult) != 0:\n",
    "        return myresult[0][0]\n",
    "    if len(myresult) == 0:\n",
    "        sql = \"INSERT INTO students (name,gender,email,course,major) VALUES (%s,%s,%s,%s,%s);\"\n",
    "        val = (name,gender,email,course,major)\n",
    "        mycursor.execute(sql, val)\n",
    "        mydb.commit()\n",
    "        # print(mycursor.rowcount, \"record inserted.\")\n",
    "        sql3 = \"SELECT * FROM students where email = %s;\"\n",
    "        vals3 = (email,)\n",
    "        mycursor.execute(sql3, vals3)\n",
    "        myresult = mycursor.fetchall()\n",
    "        return myresult[0][0]\n",
    "    \n",
    "def add_professor(name,email):\n",
    "    mydb = mysql.connector.connect(database=\"airflow_db\", user=\"db_kali\", password=\"123456789\", host=\"localhost\") \n",
    "    mycursor = mydb.cursor()\n",
    "    sql1 = \"SELECT * FROM professors where email = %s;\"\n",
    "    vals1 = (email, )\n",
    "    mycursor.execute(sql1, vals1)\n",
    "    myresult = mycursor.fetchall()\n",
    "    if len(myresult) != 0:\n",
    "        return myresult[0][0]\n",
    "    if len(myresult) == 0:\n",
    "        sql = \"INSERT INTO professors (name,email) VALUES (%s,%s);\"\n",
    "        val = (name,email,)\n",
    "        mycursor.execute(sql, val)\n",
    "        mydb.commit()\n",
    "        # print(mycursor.rowcount, \"record inserted.\")\n",
    "        sql3 = \"SELECT * FROM professors where email = %s;\"\n",
    "        vals3 = (email, )\n",
    "        mycursor.execute(sql1, vals1)\n",
    "        myresult = mycursor.fetchall()\n",
    "        return myresult[0][0]\n",
    "    \n",
    "def add_time(hour,day,month,year,date):\n",
    "    mydb = mysql.connector.connect(database=\"airflow_db\", user=\"db_kali\", password=\"123456789\", host=\"localhost\")\n",
    "    mycursor = mydb.cursor()\n",
    "    sql1 = \"SELECT * FROM time WHERE year = %s and month=%s and day=%s and hour=%s;\"\n",
    "    vals1 = (year, month, day, hour, )\n",
    "    mycursor.execute(sql1, vals1)\n",
    "    myresult = mycursor.fetchall()\n",
    "    if len(myresult) != 0:\n",
    "        return myresult[0][0]\n",
    "    if len(myresult) == 0:\n",
    "        sql = \"INSERT INTO time (hour,day,month,year,date) VALUES (%s,%s,%s,%s,%s);\"\n",
    "        val = (hour,day,month,year,date)\n",
    "        mycursor.execute(sql, val)\n",
    "        mydb.commit()\n",
    "        # print(mycursor.rowcount, \"record inserted.\")\n",
    "        sql3 = \"SELECT * FROM time WHERE year = %s and month=%s and day=%s and hour=%s;\"\n",
    "        vals3 = (year, month, day, hour, )\n",
    "        mycursor.execute(sql3, vals3)\n",
    "        myresult = mycursor.fetchall()\n",
    "        return myresult[0][0]"
   ]
  },
  {
   "cell_type": "code",
   "execution_count": 12,
   "id": "72ece278",
   "metadata": {
    "execution": {
     "iopub.execute_input": "2021-06-24T23:40:33.772950Z",
     "iopub.status.busy": "2021-06-24T23:40:33.771192Z",
     "iopub.status.idle": "2021-06-24T23:40:33.874340Z",
     "shell.execute_reply": "2021-06-24T23:40:33.881314Z"
    },
    "jupyter": {
     "source_hidden": true
    },
    "papermill": {
     "duration": 0.167224,
     "end_time": "2021-06-24T23:40:33.883953",
     "exception": false,
     "start_time": "2021-06-24T23:40:33.716729",
     "status": "completed"
    },
    "tags": []
   },
   "outputs": [
    {
     "data": {
      "text/plain": [
       "9"
      ]
     },
     "execution_count": 12,
     "metadata": {},
     "output_type": "execute_result"
    }
   ],
   "source": [
    "hour = start_course.hour\n",
    "day  = start_course.day\n",
    "month= start_course.month\n",
    "year = start_course.year\n",
    "date = start_course.strftime(\"%Y-%m-%d %H:%M:%S\")\n",
    "id_time=add_time(hour,day,month,year,date)\n",
    "id_time"
   ]
  },
  {
   "cell_type": "code",
   "execution_count": 13,
   "id": "31b6b443",
   "metadata": {
    "execution": {
     "iopub.execute_input": "2021-06-24T23:40:34.282408Z",
     "iopub.status.busy": "2021-06-24T23:40:34.275495Z",
     "iopub.status.idle": "2021-06-24T23:40:34.587660Z",
     "shell.execute_reply": "2021-06-24T23:40:34.592631Z"
    },
    "jupyter": {
     "source_hidden": true
    },
    "papermill": {
     "duration": 0.572243,
     "end_time": "2021-06-24T23:40:34.593048",
     "exception": false,
     "start_time": "2021-06-24T23:40:34.020805",
     "status": "completed"
    },
    "scrolled": true,
    "tags": []
   },
   "outputs": [
    {
     "name": "stdout",
     "output_type": "stream",
     "text": [
      "student: 193\n",
      "student: 194\n",
      "student: 195\n",
      "student: 196\n",
      "student: 197\n",
      "student: 198\n",
      "student: 199\n",
      "student: 200\n",
      "student: 201\n",
      "student: 202\n",
      "student: 203\n",
      "student: 204\n",
      "student: 205\n",
      "student: 206\n",
      "student: 207\n",
      "student: 208\n",
      "student: 209\n",
      "student: 210\n",
      "student: 211\n",
      "student: 212\n",
      "student: 213\n",
      "student: 214\n",
      "student: 215\n",
      "student: 216\n",
      "student: 217\n",
      "student: 218\n",
      "student: 219\n",
      "student:"
     ]
    },
    {
     "name": "stdout",
     "output_type": "stream",
     "text": [
      " 220\n",
      "student: 221\n",
      "student: 222\n",
      "student: 223\n",
      "student: 224\n"
     ]
    }
   ],
   "source": [
    "#ADD DS TO STUDENTS TABLE\n",
    "for index, row in df_ds.iterrows():\n",
    "    major=\"DS\"\n",
    "    name,gender,email,course,major = row[\"Nom\"],None,row[\"email\"],course,major\n",
    "    id_student=add_student(name,gender,email,course,major)\n",
    "    print(\"student:\",id_student)"
   ]
  },
  {
   "cell_type": "code",
   "execution_count": 14,
   "id": "43cfb06c",
   "metadata": {
    "execution": {
     "iopub.execute_input": "2021-06-24T23:40:34.705104Z",
     "iopub.status.busy": "2021-06-24T23:40:34.699605Z",
     "iopub.status.idle": "2021-06-24T23:40:35.217754Z",
     "shell.execute_reply": "2021-06-24T23:40:35.220945Z"
    },
    "jupyter": {
     "source_hidden": true
    },
    "papermill": {
     "duration": 0.578846,
     "end_time": "2021-06-24T23:40:35.221456",
     "exception": false,
     "start_time": "2021-06-24T23:40:34.642610",
     "status": "completed"
    },
    "scrolled": true,
    "tags": []
   },
   "outputs": [
    {
     "name": "stdout",
     "output_type": "stream",
     "text": [
      "professor: 6\n",
      "professor: 6\n"
     ]
    },
    {
     "name": "stdout",
     "output_type": "stream",
     "text": [
      "student: 203\n",
      "student: 228\n",
      "student: 195\n",
      "student: 208\n",
      "student: 202\n",
      "student: 225\n",
      "student: 264\n",
      "student: 216\n",
      "student: 194\n",
      "student: 241\n",
      "student: 241\n",
      "student: 212\n",
      "student: 212\n",
      "student: 212\n",
      "student: 235\n",
      "student: 236\n",
      "student: 222\n",
      "student: 221\n",
      "student: 221\n",
      "student: 221\n",
      "student: 233\n",
      "student: 237\n",
      "student:"
     ]
    },
    {
     "name": "stdout",
     "output_type": "stream",
     "text": [
      " 246\n",
      "student: 243\n",
      "student: 232\n",
      "student: 242\n",
      "student: 242\n",
      "student: 204\n",
      "student: 204\n"
     ]
    },
    {
     "name": "stdout",
     "output_type": "stream",
     "text": [
      "student: 220\n",
      "student: 199\n",
      "student: 240\n",
      "student: 238\n",
      "student: 258\n",
      "student: 258\n",
      "student: 258\n",
      "student: 196\n",
      "student: 231\n",
      "student: 234\n",
      "student: 234\n",
      "student: 227\n",
      "student: 230\n",
      "student: 249\n",
      "student: 209\n",
      "student: 209\n",
      "student: 239\n"
     ]
    },
    {
     "name": "stdout",
     "output_type": "stream",
     "text": [
      "student: 218\n",
      "student: 244\n",
      "student: 244\n",
      "student: 244\n",
      "student: 254\n",
      "student: 254\n",
      "student: 254\n"
     ]
    },
    {
     "name": "stdout",
     "output_type": "stream",
     "text": [
      "student: 247\n",
      "student: 252\n",
      "student: 215\n",
      "student: 253\n",
      "student: 226\n",
      "student: 205\n"
     ]
    }
   ],
   "source": [
    "#ADD STUDENTS FROM LOG TO TABLE\n",
    "for index, row in df_log.iterrows():\n",
    "    if row[\"Rôle\"]!=\"Organisateur\":\n",
    "        result = df_ds[df_ds[\"email\"]==row[\"E-mail\"]]\n",
    "        if(len(result) > 0):\n",
    "            major=\"DS\"\n",
    "        else:\n",
    "            major=\"DSE\"\n",
    "        name,gender,email,course,major = row[\"Nom complet\"],None,row[\"E-mail\"],course,major\n",
    "        id_student=add_student(name,gender,email,course,major)\n",
    "        print(\"student:\",id_student)\n",
    "    else:\n",
    "        name,email = row[\"Nom complet\"],row[\"E-mail\"]\n",
    "        id_prof = add_professor(name,email)\n",
    "        print(\"professor:\",id_prof)"
   ]
  },
  {
   "cell_type": "code",
   "execution_count": 15,
   "id": "f3708b92",
   "metadata": {
    "execution": {
     "iopub.execute_input": "2021-06-24T23:40:35.376468Z",
     "iopub.status.busy": "2021-06-24T23:40:35.375215Z",
     "iopub.status.idle": "2021-06-24T23:40:35.382951Z",
     "shell.execute_reply": "2021-06-24T23:40:35.385879Z"
    },
    "jupyter": {
     "source_hidden": true
    },
    "papermill": {
     "duration": 0.077454,
     "end_time": "2021-06-24T23:40:35.386251",
     "exception": false,
     "start_time": "2021-06-24T23:40:35.308797",
     "status": "completed"
    },
    "tags": []
   },
   "outputs": [],
   "source": [
    "groups = df_log.groupby(\"E-mail\")"
   ]
  },
  {
   "cell_type": "code",
   "execution_count": 16,
   "id": "7924aacf",
   "metadata": {
    "execution": {
     "iopub.execute_input": "2021-06-24T23:40:35.512255Z",
     "iopub.status.busy": "2021-06-24T23:40:35.510966Z",
     "iopub.status.idle": "2021-06-24T23:40:35.530395Z",
     "shell.execute_reply": "2021-06-24T23:40:35.532776Z"
    },
    "jupyter": {
     "source_hidden": true
    },
    "papermill": {
     "duration": 0.08665,
     "end_time": "2021-06-24T23:40:35.533212",
     "exception": false,
     "start_time": "2021-06-24T23:40:35.446562",
     "status": "completed"
    },
    "tags": []
   },
   "outputs": [],
   "source": [
    "mydb = mysql.connector.connect(database=\"airflow_db\", user=\"db_kali\", password=\"123456789\", host=\"localhost\")\n",
    "mycursor = mydb.cursor()\n",
    "mycursor.execute(\"SELECT * FROM students\")\n",
    "myresult = mycursor.fetchall()\n",
    "emails=[]\n",
    "for result in myresult:\n",
    "    emails.append(result[3])"
   ]
  },
  {
   "cell_type": "code",
   "execution_count": 17,
   "id": "98dcdaad",
   "metadata": {
    "execution": {
     "iopub.execute_input": "2021-06-24T23:40:35.667974Z",
     "iopub.status.busy": "2021-06-24T23:40:35.666502Z",
     "iopub.status.idle": "2021-06-24T23:40:35.677349Z",
     "shell.execute_reply": "2021-06-24T23:40:35.678507Z"
    },
    "jupyter": {
     "source_hidden": true
    },
    "papermill": {
     "duration": 0.083883,
     "end_time": "2021-06-24T23:40:35.678798",
     "exception": false,
     "start_time": "2021-06-24T23:40:35.594915",
     "status": "completed"
    },
    "scrolled": true,
    "tags": []
   },
   "outputs": [
    {
     "name": "stdout",
     "output_type": "stream",
     "text": [
      "amenani@insea.ac.ma\n",
      "amsanoussilabo@insea.ac.ma\n",
      "aezzouine@insea.ac.ma \n",
      "aajarray@insea.ac.ma\n",
      "acheddad@insea.ac.ma\n",
      "aelomairi@insea.ac.ma\n",
      "asinare@insea.ac.ma\n",
      "aoussar@insea.ac.ma\n",
      "ahamdi@insea.ac.ma\n",
      "aelhadine@insea.ac.ma\n",
      "cbelkarkor@insea.ac.ma\n",
      "cbenallalhassani@insea.ac.ma\n",
      "hchafai@insea.ac.ma\n",
      "hhoumane@insea.ac.ma\n",
      "hdah@insea.ac.ma\n",
      "hlagramez@insea.ac.ma\n",
      "imourad@insea.ac.ma\n",
      "ikonkobo@insea.ac.ma\n",
      "ibelmezouar@insea.ac.ma\n",
      "kbensatti@insea.ac.ma\n",
      "yakhallouq@insea.ac.ma\n",
      "mamallah@insea.ac.ma\n",
      "magouram@insea.ac.ma\n",
      "msidibe@insea.ac.ma\n",
      "nchahboun@insea.ac.ma\n",
      "rouhmiz@insea.ac.ma\n",
      "selhairech@insea.ac.ma\n",
      "sdaouaji@insea.ac.ma\n",
      "tmajjati@insea.ac.ma\n",
      "yelhilali@insea.ac.ma\n",
      "yamaghoss@insea.ac.ma\n",
      "ysadki@insea.ac.ma\n",
      "hbounar@insea.ac.ma\n",
      "sboukili@insea.ac.ma\n",
      "aelfadili@insea.ac.ma\n",
      "zjaafari@insea.ac.ma\n",
      "seaouari@insea.ac.ma\n",
      "hboudinar@insea.ac.ma\n",
      "helmouhsine@insea.ac.ma\n",
      "fbanah@insea.ac.ma\n",
      "selhasnaoui@insea.ac.ma\n",
      "abalij@insea.ac.ma\n",
      "hmehdioui@insea.ac.ma\n",
      "smellak@insea.ac.ma\n",
      "ohabiballah@insea.ac.ma\n",
      "amamansouley@insea.ac.ma\n",
      "zrhosne@insea.ac.ma\n",
      "yfadoul@insea.ac.ma\n",
      "msangare@insea.ac.ma\n",
      "ooucouc@insea.ac.ma\n",
      "aoubaha@insea.ac.ma\n",
      "aelbahji@insea.ac.ma\n",
      "selkhyati@insea.ac.ma\n",
      "olaabadia@insea.ac.ma\n",
      "kkajja@insea.ac.ma\n",
      "catraoui@insea.ac.ma\n",
      "cbouzouf@insea.ac.ma\n",
      "amakrane@insea.ac.ma\n",
      "mafarfaoua@insea.ac.ma\n",
      "oyousr@insea.ac.ma\n",
      "ymouzaki@insea.ac.ma\n",
      "nchigr@insea.ac.ma\n",
      "alaachir@insea.ac.ma\n",
      "fdani@insea.ac.ma\n",
      "hgaoui@insea.ac.ma\n",
      "yaitmalek@insea.ac.ma\n",
      "selmouslih@insea.ac.ma\n",
      "yzouhri@insea.ac.ma\n",
      "esoummer@insea.ac.ma\n",
      "satiche@insea.ac.ma\n",
      "helouafi@insea.ac.ma\n",
      "szarrouq@insea.ac.ma\n",
      "olamhamdialaoui@insea.ac.ma\n",
      "aelkassmi@insea.ac.ma\n",
      "tebouzelmad@insea.ac.ma\n",
      "smaatouf@insea.ac.ma\n",
      "yaitmha@insea.ac.ma\n",
      "aramoudi@insea.ac.ma\n",
      "hhabbouza@insea.ac.ma\n"
     ]
    }
   ],
   "source": [
    "print(\"\\n\".join(emails))"
   ]
  },
  {
   "cell_type": "code",
   "execution_count": 18,
   "id": "a5f68fe7",
   "metadata": {
    "execution": {
     "iopub.execute_input": "2021-06-24T23:40:35.844535Z",
     "iopub.status.busy": "2021-06-24T23:40:35.843151Z",
     "iopub.status.idle": "2021-06-24T23:40:38.280922Z",
     "shell.execute_reply": "2021-06-24T23:40:38.284971Z"
    },
    "jupyter": {
     "source_hidden": true
    },
    "papermill": {
     "duration": 2.555169,
     "end_time": "2021-06-24T23:40:38.298849",
     "exception": false,
     "start_time": "2021-06-24T23:40:35.743680",
     "status": "completed"
    },
    "scrolled": true,
    "tags": []
   },
   "outputs": [
    {
     "name": "stdout",
     "output_type": "stream",
     "text": [
      "not found 'amenani@insea.ac.ma'\n",
      "student: 194\n",
      "not found 'aezzouine@insea.ac.ma '\n",
      "student: 196\n",
      "not found 'acheddad@insea.ac.ma'\n",
      "not found 'aelomairi@insea.ac.ma'\n"
     ]
    },
    {
     "name": "stdout",
     "output_type": "stream",
     "text": [
      "student: 199\n",
      "not found 'aoussar@insea.ac.ma'\n",
      "not found 'ahamdi@insea.ac.ma'\n",
      "student: 202\n",
      "student: 203\n",
      "student: 204\n",
      "student: 205\n",
      "not found 'hhoumane@insea.ac.ma'\n",
      "not found 'hdah@insea.ac.ma'\n",
      "student: 208\n"
     ]
    },
    {
     "name": "stdout",
     "output_type": "stream",
     "text": [
      "student: 209\n",
      "not found 'ikonkobo@insea.ac.ma'\n",
      "not found 'ibelmezouar@insea.ac.ma'\n",
      "student: 212\n",
      "not found 'yakhallouq@insea.ac.ma'\n",
      "not found 'mamallah@insea.ac.ma'\n",
      "student: 215\n",
      "student: 216\n"
     ]
    },
    {
     "name": "stdout",
     "output_type": "stream",
     "text": [
      "not found 'nchahboun@insea.ac.ma'\n",
      "student: 218\n",
      "not found 'selhairech@insea.ac.ma'\n",
      "student: 220\n",
      "student: 221\n",
      "student: 222\n",
      "not found 'yamaghoss@insea.ac.ma'\n",
      "not found 'ysadki@insea.ac.ma'\n",
      "student: 225\n",
      "student: 226\n",
      "student: 227\n",
      "student: 228\n",
      "not found 'seaouari@insea.ac.ma'\n",
      "student: 230\n"
     ]
    },
    {
     "name": "stdout",
     "output_type": "stream",
     "text": [
      "student: 231\n",
      "student: 232\n",
      "student: 233\n",
      "student: 234\n",
      "student: 235\n",
      "student: 236\n",
      "student: 237\n",
      "student: 238\n",
      "student: 239\n",
      "student: 240\n",
      "student: 241\n"
     ]
    },
    {
     "name": "stdout",
     "output_type": "stream",
     "text": [
      "student: 242\n",
      "student: 243\n",
      "student: 244\n",
      "not found"
     ]
    },
    {
     "name": "stdout",
     "output_type": "stream",
     "text": [
      " 'selkhyati@insea.ac.ma'\n",
      "student: 246\n",
      "student: 247\n",
      "not found 'catraoui@insea.ac.ma'\n",
      "student: 249\n",
      "not found 'amakrane@insea.ac.ma'\n",
      "not found 'mafarfaoua@insea.ac.ma'\n",
      "student: 252\n"
     ]
    },
    {
     "name": "stdout",
     "output_type": "stream",
     "text": [
      "student: 253\n",
      "student: 254\n",
      "not found 'alaachir@insea.ac.ma'\n",
      "not found 'fdani@insea.ac.ma'\n",
      "not found 'hgaoui@insea.ac.ma'\n",
      "student: 258\n",
      "not found 'selmouslih@insea.ac.ma'\n",
      "not found 'yzouhri@insea.ac.ma'\n",
      "not found 'esoummer@insea.ac.ma'\n"
     ]
    },
    {
     "name": "stdout",
     "output_type": "stream",
     "text": [
      "not found 'satiche@insea.ac.ma'\n",
      "not found 'helouafi@insea.ac.ma'\n",
      "student: 264\n",
      "not found 'olamhamdialaoui@insea.ac.ma'\n",
      "not found 'aelkassmi@insea.ac.ma'\n",
      "not found 'tebouzelmad@insea.ac.ma'\n"
     ]
    },
    {
     "name": "stdout",
     "output_type": "stream",
     "text": [
      "not found 'smaatouf@insea.ac.ma'\n",
      "not found 'yaitmha@insea.ac.ma'\n",
      "not found 'aramoudi@insea.ac.ma'\n"
     ]
    },
    {
     "name": "stdout",
     "output_type": "stream",
     "text": [
      "not found 'hhabbouza@insea.ac.ma'\n"
     ]
    }
   ],
   "source": [
    "\n",
    "for email in emails:\n",
    "    name,gender,email,course,major = None,None,email,course,None\n",
    "    id_student=add_student(name,gender,email,course,major)\n",
    "    try:\n",
    "        data = groups.get_group(email).reset_index()\n",
    "        nb_abs = 0\n",
    "        #DURATION\n",
    "        duration=0\n",
    "        got_first_start=False\n",
    "        for index, row in data.iterrows():\n",
    "            start_str = row[\"Heure d'arrivée\"].replace(\" à\",\"\")\n",
    "            end_str   = row[\"Heure de départ\"].replace(\" à\",\"\")\n",
    "            start = datetime.datetime.strptime(start_str, '%d/%m/%Y %H:%M:%S')\n",
    "            end = datetime.datetime.strptime(end_str, '%d/%m/%Y %H:%M:%S')\n",
    "            duration = duration + ((end-start).total_seconds() / 60.0)\n",
    "            if not got_first_start:\n",
    "                got_first_start = True\n",
    "                first_start = start\n",
    "        if duration > 120:\n",
    "            duration=120\n",
    "        #NB LATES  \n",
    "        if ((first_start-start_course).total_seconds() / 60.0) > 15:\n",
    "            nb_lates = 1\n",
    "        else:\n",
    "            nb_lates = 0\n",
    "        \n",
    "        nb_pres = 1\n",
    "        \n",
    "        #ABS DURATION\n",
    "        abs_duration = 120-duration\n",
    "        \n",
    "        #DURATION IN INTEGER IN DB!\n",
    "        duration = int(duration)\n",
    "        \n",
    "        #is student\n",
    "        print(\"student:\",id_student)\n",
    "        if duration <= 15:\n",
    "            nb_abs = 1\n",
    "            nb_lates=0\n",
    "            nb_pres=0\n",
    "    \n",
    "    except KeyError as e:\n",
    "        print(\"not found\",e)\n",
    "        nb_abs = 1\n",
    "        abs_duration = 120\n",
    "        nb_lates=0\n",
    "        nb_pres=0\n",
    "        duration=0\n",
    "    #insert to data mart now\n",
    "    try:\n",
    "        mydb = mysql.connector.connect(database=\"airflow_db\", user=\"db_kali\", password=\"123456789\", host=\"localhost\")\n",
    "        mycursor = mydb.cursor()\n",
    "        sql = \"INSERT INTO fact_table (id_time,id_prof,id_student,nb_abs,abs_duration,nb_lates,nb_pres,duration) VALUES (%s,%s,%s,%s,%s,%s,%s,%s);\"\n",
    "        val = (id_time,id_prof,id_student,nb_abs,abs_duration,nb_lates,nb_pres,duration)\n",
    "        mycursor.execute(sql, val)\n",
    "        mydb.commit()\n",
    "    except :\n",
    "        continue"
   ]
  },
  {
   "cell_type": "code",
   "execution_count": 19,
   "id": "0067bcb5",
   "metadata": {
    "execution": {
     "iopub.execute_input": "2021-06-24T23:40:38.587051Z",
     "iopub.status.busy": "2021-06-24T23:40:38.573010Z",
     "iopub.status.idle": "2021-06-24T23:40:38.677078Z",
     "shell.execute_reply": "2021-06-24T23:40:38.681778Z"
    },
    "jupyter": {
     "source_hidden": true
    },
    "papermill": {
     "duration": 0.259877,
     "end_time": "2021-06-24T23:40:38.684529",
     "exception": false,
     "start_time": "2021-06-24T23:40:38.424652",
     "status": "completed"
    },
    "tags": []
   },
   "outputs": [
    {
     "data": {
      "text/plain": [
       "0"
      ]
     },
     "execution_count": 19,
     "metadata": {},
     "output_type": "execute_result"
    }
   ],
   "source": [
    "os.system(f'mv \"{input_file}\" \"/home/kali/project/processed/\"')"
   ]
  }
 ],
 "metadata": {
  "kernelspec": {
   "display_name": "Python 3",
   "language": "python",
   "name": "python3"
  },
  "language_info": {
   "codemirror_mode": {
    "name": "ipython",
    "version": 3
   },
   "file_extension": ".py",
   "mimetype": "text/x-python",
   "name": "python",
   "nbconvert_exporter": "python",
   "pygments_lexer": "ipython3",
   "version": "3.7.5"
  },
  "papermill": {
   "default_parameters": {},
   "duration": 15.542222,
   "end_time": "2021-06-24T23:40:41.055287",
   "environment_variables": {},
   "exception": null,
   "input_path": "/home/kali/project/process_input_list.ipynb",
   "output_path": "/home/kali/project/outs/out-process_input_list2021-06-24T23:39:57.515733+00:00.ipynb",
   "parameters": {
    "msgs": "Ran from Airflow at 2021-06-24T23:39:57.515733+00:00!"
   },
   "start_time": "2021-06-24T23:40:25.513065",
   "version": "2.3.3"
  }
 },
 "nbformat": 4,
 "nbformat_minor": 5
}