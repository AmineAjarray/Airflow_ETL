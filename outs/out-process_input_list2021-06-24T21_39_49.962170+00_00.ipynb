{
 "cells": [
  {
   "cell_type": "code",
   "execution_count": 1,
   "id": "0e980fb1",
   "metadata": {
    "execution": {
     "iopub.execute_input": "2021-06-24T23:36:55.247131Z",
     "iopub.status.busy": "2021-06-24T23:36:55.239424Z",
     "iopub.status.idle": "2021-06-24T23:36:55.269092Z",
     "shell.execute_reply": "2021-06-24T23:36:55.270911Z"
    },
    "jupyter": {
     "source_hidden": true
    },
    "papermill": {
     "duration": 0.082936,
     "end_time": "2021-06-24T23:36:55.271450",
     "exception": false,
     "start_time": "2021-06-24T23:36:55.188514",
     "status": "completed"
    },
    "tags": [
     "injected-parameters"
    ]
   },
   "outputs": [],
   "source": [
    "# Parameters\n",
    "msgs = \"Ran from Airflow at 2021-06-24T21:39:49.962170+00:00!\"\n"
   ]
  },
  {
   "cell_type": "code",
   "execution_count": 2,
   "id": "13c6f718",
   "metadata": {
    "execution": {
     "iopub.execute_input": "2021-06-24T23:36:55.368323Z",
     "iopub.status.busy": "2021-06-24T23:36:55.366728Z",
     "iopub.status.idle": "2021-06-24T23:36:56.718817Z",
     "shell.execute_reply": "2021-06-24T23:36:56.720723Z"
    },
    "jupyter": {
     "source_hidden": true
    },
    "papermill": {
     "duration": 1.400124,
     "end_time": "2021-06-24T23:36:56.721062",
     "exception": false,
     "start_time": "2021-06-24T23:36:55.320938",
     "status": "completed"
    },
    "tags": []
   },
   "outputs": [],
   "source": [
    "import pandas as pd\n",
    "import mysql.connector\n",
    "import os\n",
    "#import json\n",
    "import datetime"
   ]
  },
  {
   "cell_type": "code",
   "execution_count": 3,
   "id": "f49514fe",
   "metadata": {
    "execution": {
     "iopub.execute_input": "2021-06-24T23:36:56.894560Z",
     "iopub.status.busy": "2021-06-24T23:36:56.884281Z",
     "iopub.status.idle": "2021-06-24T23:36:56.908908Z",
     "shell.execute_reply": "2021-06-24T23:36:56.915564Z"
    },
    "jupyter": {
     "source_hidden": true
    },
    "papermill": {
     "duration": 0.120821,
     "end_time": "2021-06-24T23:36:56.916126",
     "exception": false,
     "start_time": "2021-06-24T23:36:56.795305",
     "status": "completed"
    },
    "tags": []
   },
   "outputs": [
    {
     "name": "stdout",
     "output_type": "stream",
     "text": [
      "will process: /home/kali/project/input/meetingAttendanceReport(General) (9).csv\n"
     ]
    }
   ],
   "source": [
    "with open(\"/home/kali/project/input_config.txt\") as f:\n",
    "    input_file=f.readline()\n",
    "print(\"will process:\",input_file)"
   ]
  },
  {
   "cell_type": "code",
   "execution_count": 4,
   "id": "6d2ea9e2",
   "metadata": {
    "execution": {
     "iopub.execute_input": "2021-06-24T23:36:57.080183Z",
     "iopub.status.busy": "2021-06-24T23:36:57.078460Z",
     "iopub.status.idle": "2021-06-24T23:36:57.095953Z",
     "shell.execute_reply": "2021-06-24T23:36:57.098850Z"
    },
    "jupyter": {
     "source_hidden": true
    },
    "papermill": {
     "duration": 0.08053,
     "end_time": "2021-06-24T23:36:57.099254",
     "exception": false,
     "start_time": "2021-06-24T23:36:57.018724",
     "status": "completed"
    },
    "tags": []
   },
   "outputs": [],
   "source": [
    "meta_data=[]\n",
    "log_call=[]\n",
    "lines=[]\n",
    "with open(input_file,encoding=\"utf-16\") as f:\n",
    "    lines=f.readlines()\n",
    "meta_data=lines[0:5]\n",
    "log_call=lines[6:]"
   ]
  },
  {
   "cell_type": "code",
   "execution_count": 5,
   "id": "03a595c6",
   "metadata": {
    "execution": {
     "iopub.execute_input": "2021-06-24T23:36:57.227035Z",
     "iopub.status.busy": "2021-06-24T23:36:57.215430Z",
     "iopub.status.idle": "2021-06-24T23:36:57.327197Z",
     "shell.execute_reply": "2021-06-24T23:36:57.324435Z"
    },
    "jupyter": {
     "source_hidden": true
    },
    "papermill": {
     "duration": 0.180483,
     "end_time": "2021-06-24T23:36:57.327499",
     "exception": false,
     "start_time": "2021-06-24T23:36:57.147016",
     "status": "completed"
    },
    "scrolled": true,
    "tags": []
   },
   "outputs": [
    {
     "data": {
      "text/plain": [
       "'General'"
      ]
     },
     "execution_count": 5,
     "metadata": {},
     "output_type": "execute_result"
    }
   ],
   "source": [
    "course = meta_data[2].replace(\"Titre de la réunion\\t\",\"\").replace(\"\\n\",\"\")\n",
    "course"
   ]
  },
  {
   "cell_type": "code",
   "execution_count": 6,
   "id": "7c932598",
   "metadata": {
    "execution": {
     "iopub.execute_input": "2021-06-24T23:36:57.540520Z",
     "iopub.status.busy": "2021-06-24T23:36:57.539246Z",
     "iopub.status.idle": "2021-06-24T23:36:57.607604Z",
     "shell.execute_reply": "2021-06-24T23:36:57.609174Z"
    },
    "jupyter": {
     "source_hidden": true
    },
    "papermill": {
     "duration": 0.141297,
     "end_time": "2021-06-24T23:36:57.609505",
     "exception": false,
     "start_time": "2021-06-24T23:36:57.468208",
     "status": "completed"
    },
    "tags": []
   },
   "outputs": [
    {
     "data": {
      "text/html": [
       "<div>\n",
       "<style scoped>\n",
       "    .dataframe tbody tr th:only-of-type {\n",
       "        vertical-align: middle;\n",
       "    }\n",
       "\n",
       "    .dataframe tbody tr th {\n",
       "        vertical-align: top;\n",
       "    }\n",
       "\n",
       "    .dataframe thead th {\n",
       "        text-align: right;\n",
       "    }\n",
       "</style>\n",
       "<table border=\"1\" class=\"dataframe\">\n",
       "  <thead>\n",
       "    <tr style=\"text-align: right;\">\n",
       "      <th></th>\n",
       "      <th>Nom complet</th>\n",
       "      <th>Heure d'arrivée</th>\n",
       "      <th>Heure de départ</th>\n",
       "      <th>Durée</th>\n",
       "      <th>E-mail</th>\n",
       "      <th>Rôle</th>\n",
       "    </tr>\n",
       "  </thead>\n",
       "  <tbody>\n",
       "    <tr>\n",
       "      <th>0</th>\n",
       "      <td>Imade BENELALLAM</td>\n",
       "      <td>14/04/2021 à 13:08:06</td>\n",
       "      <td>14/04/2021 à 15:35:57</td>\n",
       "      <td>2 h 27 m</td>\n",
       "      <td>i.benelallam@insea.ac.ma</td>\n",
       "      <td>Organisateur</td>\n",
       "    </tr>\n",
       "    <tr>\n",
       "      <th>1</th>\n",
       "      <td>Andre SINARE</td>\n",
       "      <td>14/04/2021 à 13:08:18</td>\n",
       "      <td>14/04/2021 à 14:42:38</td>\n",
       "      <td>1 h 34 m</td>\n",
       "      <td>asinare@insea.ac.ma</td>\n",
       "      <td>Présentateur</td>\n",
       "    </tr>\n",
       "    <tr>\n",
       "      <th>2</th>\n",
       "      <td>Chaimaa BELKARKOR</td>\n",
       "      <td>14/04/2021 à 13:08:25</td>\n",
       "      <td>14/04/2021 à 15:28:57</td>\n",
       "      <td>2 h 20 m</td>\n",
       "      <td>cbelkarkor@insea.ac.ma</td>\n",
       "      <td>Présentateur</td>\n",
       "    </tr>\n",
       "    <tr>\n",
       "      <th>3</th>\n",
       "      <td>Hibatallah BOUNAR</td>\n",
       "      <td>14/04/2021 à 13:08:51</td>\n",
       "      <td>14/04/2021 à 14:42:55</td>\n",
       "      <td>1 h 34 m</td>\n",
       "      <td>hbounar@insea.ac.ma</td>\n",
       "      <td>Présentateur</td>\n",
       "    </tr>\n",
       "    <tr>\n",
       "      <th>4</th>\n",
       "      <td>Mahamadou SANGARE</td>\n",
       "      <td>14/04/2021 à 13:09:08</td>\n",
       "      <td>14/04/2021 à 14:47:29</td>\n",
       "      <td>1 h 38 m</td>\n",
       "      <td>msangare@insea.ac.ma</td>\n",
       "      <td>Présentateur</td>\n",
       "    </tr>\n",
       "    <tr>\n",
       "      <th>...</th>\n",
       "      <td>...</td>\n",
       "      <td>...</td>\n",
       "      <td>...</td>\n",
       "      <td>...</td>\n",
       "      <td>...</td>\n",
       "      <td>...</td>\n",
       "    </tr>\n",
       "    <tr>\n",
       "      <th>82</th>\n",
       "      <td>Amine AJARRAY</td>\n",
       "      <td>14/04/2021 à 15:05:33</td>\n",
       "      <td>14/04/2021 à 15:06:58</td>\n",
       "      <td>1 m 24 s</td>\n",
       "      <td>aajarray@insea.ac.ma</td>\n",
       "      <td>Présentateur</td>\n",
       "    </tr>\n",
       "    <tr>\n",
       "      <th>83</th>\n",
       "      <td>Hajar CHAFAI</td>\n",
       "      <td>14/04/2021 à 14:17:22</td>\n",
       "      <td>14/04/2021 à 15:07:42</td>\n",
       "      <td>50 m 20 s</td>\n",
       "      <td>hchafai@insea.ac.ma</td>\n",
       "      <td>Présentateur</td>\n",
       "    </tr>\n",
       "    <tr>\n",
       "      <th>84</th>\n",
       "      <td>Yassine ZOUHRI</td>\n",
       "      <td>14/04/2021 à 14:27:34</td>\n",
       "      <td>14/04/2021 à 14:43:17</td>\n",
       "      <td>15 m 42 s</td>\n",
       "      <td>yzouhri@insea.ac.ma</td>\n",
       "      <td>Présentateur</td>\n",
       "    </tr>\n",
       "    <tr>\n",
       "      <th>85</th>\n",
       "      <td>Abderrahim ELBAHJI</td>\n",
       "      <td>14/04/2021 à 14:37:19</td>\n",
       "      <td>14/04/2021 à 14:42:58</td>\n",
       "      <td>5 m 39 s</td>\n",
       "      <td>aelbahji@insea.ac.ma</td>\n",
       "      <td>Présentateur</td>\n",
       "    </tr>\n",
       "    <tr>\n",
       "      <th>86</th>\n",
       "      <td>Kawtar BENSATTI</td>\n",
       "      <td>14/04/2021 à 14:46:43</td>\n",
       "      <td>14/04/2021 à 15:12:41</td>\n",
       "      <td>25 m 58 s</td>\n",
       "      <td>kbensatti@insea.ac.ma</td>\n",
       "      <td>Présentateur</td>\n",
       "    </tr>\n",
       "  </tbody>\n",
       "</table>\n",
       "<p>87 rows × 6 columns</p>\n",
       "</div>"
      ],
      "text/plain": [
       "           Nom complet        Heure d'arrivée        Heure de départ  \\\n",
       "0     Imade BENELALLAM  14/04/2021 à 13:08:06  14/04/2021 à 15:35:57   \n",
       "1         Andre SINARE  14/04/2021 à 13:08:18  14/04/2021 à 14:42:38   \n",
       "2    Chaimaa BELKARKOR  14/04/2021 à 13:08:25  14/04/2021 à 15:28:57   \n",
       "3    Hibatallah BOUNAR  14/04/2021 à 13:08:51  14/04/2021 à 14:42:55   \n",
       "4    Mahamadou SANGARE  14/04/2021 à 13:09:08  14/04/2021 à 14:47:29   \n",
       "..                 ...                    ...                    ...   \n",
       "82       Amine AJARRAY  14/04/2021 à 15:05:33  14/04/2021 à 15:06:58   \n",
       "83        Hajar CHAFAI  14/04/2021 à 14:17:22  14/04/2021 à 15:07:42   \n",
       "84      Yassine ZOUHRI  14/04/2021 à 14:27:34  14/04/2021 à 14:43:17   \n",
       "85  Abderrahim ELBAHJI  14/04/2021 à 14:37:19  14/04/2021 à 14:42:58   \n",
       "86     Kawtar BENSATTI  14/04/2021 à 14:46:43  14/04/2021 à 15:12:41   \n",
       "\n",
       "        Durée                    E-mail          Rôle  \n",
       "0    2 h 27 m  i.benelallam@insea.ac.ma  Organisateur  \n",
       "1    1 h 34 m       asinare@insea.ac.ma  Présentateur  \n",
       "2    2 h 20 m    cbelkarkor@insea.ac.ma  Présentateur  \n",
       "3    1 h 34 m       hbounar@insea.ac.ma  Présentateur  \n",
       "4    1 h 38 m      msangare@insea.ac.ma  Présentateur  \n",
       "..        ...                       ...           ...  \n",
       "82   1 m 24 s      aajarray@insea.ac.ma  Présentateur  \n",
       "83  50 m 20 s       hchafai@insea.ac.ma  Présentateur  \n",
       "84  15 m 42 s       yzouhri@insea.ac.ma  Présentateur  \n",
       "85   5 m 39 s      aelbahji@insea.ac.ma  Présentateur  \n",
       "86  25 m 58 s     kbensatti@insea.ac.ma  Présentateur  \n",
       "\n",
       "[87 rows x 6 columns]"
      ]
     },
     "execution_count": 6,
     "metadata": {},
     "output_type": "execute_result"
    }
   ],
   "source": [
    "with open(f\"/home/kali/project/output/log_{input_file.split('/')[-1]}\",\"w\") as f:\n",
    "    for value in log_call:\n",
    "        f.write(value)\n",
    "    f.close()\n",
    "df_log = pd.read_csv(f\"/home/kali/project/output/log_{input_file.split('/')[-1]}\",sep=\"\\t\")\n",
    "df_log"
   ]
  },
  {
   "cell_type": "code",
   "execution_count": 7,
   "id": "7f7b9fa1",
   "metadata": {
    "execution": {
     "iopub.execute_input": "2021-06-24T23:36:57.704412Z",
     "iopub.status.busy": "2021-06-24T23:36:57.703016Z",
     "iopub.status.idle": "2021-06-24T23:36:57.715752Z",
     "shell.execute_reply": "2021-06-24T23:36:57.717480Z"
    },
    "jupyter": {
     "source_hidden": true
    },
    "papermill": {
     "duration": 0.065954,
     "end_time": "2021-06-24T23:36:57.717742",
     "exception": false,
     "start_time": "2021-06-24T23:36:57.651788",
     "status": "completed"
    },
    "tags": []
   },
   "outputs": [],
   "source": [
    "start_str = meta_data[3].replace(\"Heure de début de la réunion\\t\",\"\").replace(\"\\n\",\"\").replace(\" à\",\"\")\n",
    "end_str   = meta_data[4].replace(\"Heure de fin\\t\",\"\").replace(\"\\n\",\"\").replace(\" à\",\"\")\n",
    "start_course = datetime.datetime.strptime(start_str, '%d/%m/%Y %H:%M:%S')\n",
    "end_course = datetime.datetime.strptime(end_str, '%d/%m/%Y %H:%M:%S')"
   ]
  },
  {
   "cell_type": "code",
   "execution_count": 8,
   "id": "270a1bba",
   "metadata": {
    "execution": {
     "iopub.execute_input": "2021-06-24T23:36:57.818612Z",
     "iopub.status.busy": "2021-06-24T23:36:57.817123Z",
     "iopub.status.idle": "2021-06-24T23:36:58.499217Z",
     "shell.execute_reply": "2021-06-24T23:36:58.500792Z"
    },
    "jupyter": {
     "source_hidden": true
    },
    "papermill": {
     "duration": 0.740411,
     "end_time": "2021-06-24T23:36:58.501090",
     "exception": false,
     "start_time": "2021-06-24T23:36:57.760679",
     "status": "completed"
    },
    "tags": []
   },
   "outputs": [],
   "source": [
    "df_ds = pd.read_excel(\"/home/kali/project/lists_excel/Liste des 2èmes années DS.xlsx\")\n",
    "#df_dse = pd.read_excel(\"/home/kali/notebook/project2/lists_excel/Liste 2A DSE.xlsx\")"
   ]
  },
  {
   "cell_type": "code",
   "execution_count": 9,
   "id": "3b19bbfa",
   "metadata": {
    "execution": {
     "iopub.execute_input": "2021-06-24T23:36:58.603045Z",
     "iopub.status.busy": "2021-06-24T23:36:58.599340Z",
     "iopub.status.idle": "2021-06-24T23:36:58.693930Z",
     "shell.execute_reply": "2021-06-24T23:36:58.691453Z"
    },
    "jupyter": {
     "source_hidden": true
    },
    "papermill": {
     "duration": 0.144769,
     "end_time": "2021-06-24T23:36:58.694232",
     "exception": false,
     "start_time": "2021-06-24T23:36:58.549463",
     "status": "completed"
    },
    "tags": []
   },
   "outputs": [],
   "source": [
    "mydb = mysql.connector.connect(database=\"airflow_db\", user=\"db_kali\", password=\"123456789\", host=\"localhost\")"
   ]
  },
  {
   "cell_type": "code",
   "execution_count": 10,
   "id": "74c1959a",
   "metadata": {
    "execution": {
     "iopub.execute_input": "2021-06-24T23:36:58.841733Z",
     "iopub.status.busy": "2021-06-24T23:36:58.837934Z",
     "iopub.status.idle": "2021-06-24T23:36:58.843047Z",
     "shell.execute_reply": "2021-06-24T23:36:58.843970Z"
    },
    "jupyter": {
     "source_hidden": true
    },
    "papermill": {
     "duration": 0.067259,
     "end_time": "2021-06-24T23:36:58.844214",
     "exception": false,
     "start_time": "2021-06-24T23:36:58.776955",
     "status": "completed"
    },
    "tags": []
   },
   "outputs": [],
   "source": [
    "#mycursor = mydb.cursor()\n",
    "#table=\"fact_table\"\n",
    "#mycursor.execute(f\"SELECT * FROM information_schema.columns WHERE table_schema = 'biabsence' AND table_name   = '{table}' ;\")\n",
    "#myresult = mycursor.fetchall()\n",
    "#for value in myresult:\n",
    "#    print(value[3],\":\",value[7])"
   ]
  },
  {
   "cell_type": "code",
   "execution_count": 11,
   "id": "f0b1542d",
   "metadata": {
    "execution": {
     "iopub.execute_input": "2021-06-24T23:36:58.945204Z",
     "iopub.status.busy": "2021-06-24T23:36:58.942876Z",
     "iopub.status.idle": "2021-06-24T23:36:58.980962Z",
     "shell.execute_reply": "2021-06-24T23:36:58.982800Z"
    },
    "jupyter": {
     "source_hidden": true
    },
    "papermill": {
     "duration": 0.095819,
     "end_time": "2021-06-24T23:36:58.983130",
     "exception": false,
     "start_time": "2021-06-24T23:36:58.887311",
     "status": "completed"
    },
    "tags": []
   },
   "outputs": [],
   "source": [
    "def add_student(name,gender,email,course,major):\n",
    "    mydb = mysql.connector.connect(database=\"airflow_db\", user=\"db_kali\", password=\"123456789\", host=\"localhost\") \n",
    "    mycursor = mydb.cursor()\n",
    "    sql1 = \"SELECT * FROM students where email = %s;\"\n",
    "    vals1 = (email,)\n",
    "    mycursor.execute(sql1, vals1)\n",
    "    myresult = mycursor.fetchall()\n",
    "    if len(myresult) != 0:\n",
    "        return myresult[0][0]\n",
    "    if len(myresult) == 0:\n",
    "        sql = \"INSERT INTO students (name,gender,email,course,major) VALUES (%s,%s,%s,%s,%s);\"\n",
    "        val = (name,gender,email,course,major)\n",
    "        mycursor.execute(sql, val)\n",
    "        mydb.commit()\n",
    "        # print(mycursor.rowcount, \"record inserted.\")\n",
    "        sql3 = \"SELECT * FROM students where email = %s;\"\n",
    "        vals3 = (email,)\n",
    "        mycursor.execute(sql3, vals3)\n",
    "        myresult = mycursor.fetchall()\n",
    "        return myresult[0][0]\n",
    "    \n",
    "def add_professor(name,email):\n",
    "    mydb = mysql.connector.connect(database=\"airflow_db\", user=\"db_kali\", password=\"123456789\", host=\"localhost\") \n",
    "    mycursor = mydb.cursor()\n",
    "    sql1 = \"SELECT * FROM professors where email = %s;\"\n",
    "    vals1 = (email, )\n",
    "    mycursor.execute(sql1, vals1)\n",
    "    myresult = mycursor.fetchall()\n",
    "    if len(myresult) != 0:\n",
    "        return myresult[0][0]\n",
    "    if len(myresult) == 0:\n",
    "        sql = \"INSERT INTO professors (name,email) VALUES (%s,%s);\"\n",
    "        val = (name,email,)\n",
    "        mycursor.execute(sql, val)\n",
    "        mydb.commit()\n",
    "        # print(mycursor.rowcount, \"record inserted.\")\n",
    "        sql3 = \"SELECT * FROM professors where email = %s;\"\n",
    "        vals3 = (email, )\n",
    "        mycursor.execute(sql1, vals1)\n",
    "        myresult = mycursor.fetchall()\n",
    "        return myresult[0][0]\n",
    "    \n",
    "def add_time(hour,day,month,year,date):\n",
    "    mydb = mysql.connector.connect(database=\"airflow_db\", user=\"db_kali\", password=\"123456789\", host=\"localhost\")\n",
    "    mycursor = mydb.cursor()\n",
    "    sql1 = \"SELECT * FROM time WHERE year = %s and month=%s and day=%s and hour=%s;\"\n",
    "    vals1 = (year, month, day, hour, )\n",
    "    mycursor.execute(sql1, vals1)\n",
    "    myresult = mycursor.fetchall()\n",
    "    if len(myresult) != 0:\n",
    "        return myresult[0][0]\n",
    "    if len(myresult) == 0:\n",
    "        sql = \"INSERT INTO time (hour,day,month,year,date) VALUES (%s,%s,%s,%s,%s);\"\n",
    "        val = (hour,day,month,year,date)\n",
    "        mycursor.execute(sql, val)\n",
    "        mydb.commit()\n",
    "        # print(mycursor.rowcount, \"record inserted.\")\n",
    "        sql3 = \"SELECT * FROM time WHERE year = %s and month=%s and day=%s and hour=%s;\"\n",
    "        vals3 = (year, month, day, hour, )\n",
    "        mycursor.execute(sql3, vals3)\n",
    "        myresult = mycursor.fetchall()\n",
    "        return myresult[0][0]"
   ]
  },
  {
   "cell_type": "code",
   "execution_count": 12,
   "id": "72ece278",
   "metadata": {
    "execution": {
     "iopub.execute_input": "2021-06-24T23:36:59.104168Z",
     "iopub.status.busy": "2021-06-24T23:36:59.102878Z",
     "iopub.status.idle": "2021-06-24T23:36:59.180308Z",
     "shell.execute_reply": "2021-06-24T23:36:59.186772Z"
    },
    "jupyter": {
     "source_hidden": true
    },
    "papermill": {
     "duration": 0.158544,
     "end_time": "2021-06-24T23:36:59.187661",
     "exception": false,
     "start_time": "2021-06-24T23:36:59.029117",
     "status": "completed"
    },
    "tags": []
   },
   "outputs": [
    {
     "data": {
      "text/plain": [
       "6"
      ]
     },
     "execution_count": 12,
     "metadata": {},
     "output_type": "execute_result"
    }
   ],
   "source": [
    "hour = start_course.hour\n",
    "day  = start_course.day\n",
    "month= start_course.month\n",
    "year = start_course.year\n",
    "date = start_course.strftime(\"%Y-%m-%d %H:%M:%S\")\n",
    "id_time=add_time(hour,day,month,year,date)\n",
    "id_time"
   ]
  },
  {
   "cell_type": "code",
   "execution_count": 13,
   "id": "31b6b443",
   "metadata": {
    "execution": {
     "iopub.execute_input": "2021-06-24T23:36:59.317032Z",
     "iopub.status.busy": "2021-06-24T23:36:59.315045Z",
     "iopub.status.idle": "2021-06-24T23:36:59.504032Z",
     "shell.execute_reply": "2021-06-24T23:36:59.506720Z"
    },
    "jupyter": {
     "source_hidden": true
    },
    "papermill": {
     "duration": 0.254457,
     "end_time": "2021-06-24T23:36:59.507075",
     "exception": false,
     "start_time": "2021-06-24T23:36:59.252618",
     "status": "completed"
    },
    "scrolled": true,
    "tags": []
   },
   "outputs": [
    {
     "name": "stdout",
     "output_type": "stream",
     "text": [
      "student: 193\n",
      "student: 194\n",
      "student: 195\n",
      "student: 196\n",
      "student: 197\n",
      "student: 198\n",
      "student: 199\n",
      "student: 200\n",
      "student: 201\n",
      "student: 202\n",
      "student: 203\n",
      "student: 204\n",
      "student: 205\n",
      "student: 206\n",
      "student: 207\n",
      "student: 208\n",
      "student: 209\n",
      "student: 210\n",
      "student: 211\n",
      "student: 212\n",
      "student: 213\n",
      "student: 214\n",
      "student: 215\n",
      "student: 216\n",
      "student: 217\n",
      "student: 218\n",
      "student: 219\n",
      "student: 220\n",
      "student: 221\n",
      "student: 222\n",
      "student: 223\n",
      "student: 224\n"
     ]
    }
   ],
   "source": [
    "#ADD DS TO STUDENTS TABLE\n",
    "for index, row in df_ds.iterrows():\n",
    "    major=\"DS\"\n",
    "    name,gender,email,course,major = row[\"Nom\"],None,row[\"email\"],course,major\n",
    "    id_student=add_student(name,gender,email,course,major)\n",
    "    print(\"student:\",id_student)"
   ]
  },
  {
   "cell_type": "code",
   "execution_count": 14,
   "id": "43cfb06c",
   "metadata": {
    "execution": {
     "iopub.execute_input": "2021-06-24T23:36:59.612019Z",
     "iopub.status.busy": "2021-06-24T23:36:59.610872Z",
     "iopub.status.idle": "2021-06-24T23:37:00.704514Z",
     "shell.execute_reply": "2021-06-24T23:37:00.710104Z"
    },
    "jupyter": {
     "source_hidden": true
    },
    "papermill": {
     "duration": 1.154604,
     "end_time": "2021-06-24T23:37:00.710794",
     "exception": false,
     "start_time": "2021-06-24T23:36:59.556190",
     "status": "completed"
    },
    "scrolled": true,
    "tags": []
   },
   "outputs": [
    {
     "name": "stdout",
     "output_type": "stream",
     "text": [
      "professor: 6\n",
      "student: 199\n",
      "student: 203\n",
      "student: 225\n",
      "student: 241\n",
      "student: 234\n",
      "student: 195\n",
      "student: 195\n",
      "student: 195\n",
      "student: 237\n",
      "student: 243\n",
      "student: 265\n",
      "student: 194\n",
      "student: 232\n",
      "student: 232\n",
      "student: 232\n",
      "student: 209\n",
      "student: 222\n",
      "student: 222\n",
      "student: 235\n",
      "student: 216\n",
      "student: 216\n",
      "student: 228\n",
      "student: 210\n",
      "student: 210\n",
      "student: "
     ]
    },
    {
     "name": "stdout",
     "output_type": "stream",
     "text": [
      "210\n",
      "student: 230\n",
      "student: 246\n",
      "student: 255\n",
      "student: 255\n",
      "student: 239\n",
      "student: 239\n",
      "student: 227\n",
      "student: 226\n",
      "student: 226\n",
      "student: 231\n",
      "student: 231\n",
      "student: 220\n",
      "student: 240\n",
      "student: 259\n",
      "student: 221\n",
      "student: 221\n"
     ]
    },
    {
     "name": "stdout",
     "output_type": "stream",
     "text": [
      "student: 221\n",
      "student: 221\n",
      "student: 248\n",
      "student: 242\n",
      "student: 242\n",
      "student: 242\n",
      "student: 268\n",
      "student: 214\n",
      "student: 261\n",
      "student: 254\n",
      "student: 254\n",
      "student: 217\n",
      "student: 217\n",
      "student: 211\n",
      "student: 263\n",
      "student: 215\n",
      "student: 215\n",
      "student: 256\n",
      "student: 253\n"
     ]
    },
    {
     "name": "stdout",
     "output_type": "stream",
     "text": [
      "student: 208\n",
      "student: 208\n",
      "student: 208\n",
      "student: 238\n",
      "student: 247\n",
      "student: 262\n",
      "student: 262\n",
      "student: 262\n",
      "student: 233\n",
      "student: 200\n"
     ]
    },
    {
     "name": "stdout",
     "output_type": "stream",
     "text": [
      "student: 229\n",
      "student: 252\n",
      "student: 204\n",
      "student: 204\n",
      "student: 213\n",
      "student: 213\n",
      "student: 250\n",
      "student: 223\n",
      "student: 245\n",
      "student: 196\n",
      "student: 196\n",
      "student: 196\n",
      "student: 205\n",
      "student: 260\n",
      "student: 244\n"
     ]
    },
    {
     "name": "stdout",
     "output_type": "stream",
     "text": [
      "student: 212\n"
     ]
    }
   ],
   "source": [
    "#ADD STUDENTS FROM LOG TO TABLE\n",
    "for index, row in df_log.iterrows():\n",
    "    if row[\"Rôle\"]!=\"Organisateur\":\n",
    "        result = df_ds[df_ds[\"email\"]==row[\"E-mail\"]]\n",
    "        if(len(result) > 0):\n",
    "            major=\"DS\"\n",
    "        else:\n",
    "            major=\"DSE\"\n",
    "        name,gender,email,course,major = row[\"Nom complet\"],None,row[\"E-mail\"],course,major\n",
    "        id_student=add_student(name,gender,email,course,major)\n",
    "        print(\"student:\",id_student)\n",
    "    else:\n",
    "        name,email = row[\"Nom complet\"],row[\"E-mail\"]\n",
    "        id_prof = add_professor(name,email)\n",
    "        print(\"professor:\",id_prof)"
   ]
  },
  {
   "cell_type": "code",
   "execution_count": 15,
   "id": "f3708b92",
   "metadata": {
    "execution": {
     "iopub.execute_input": "2021-06-24T23:37:00.939052Z",
     "iopub.status.busy": "2021-06-24T23:37:00.933277Z",
     "iopub.status.idle": "2021-06-24T23:37:00.944736Z",
     "shell.execute_reply": "2021-06-24T23:37:00.949005Z"
    },
    "jupyter": {
     "source_hidden": true
    },
    "papermill": {
     "duration": 0.081676,
     "end_time": "2021-06-24T23:37:00.949441",
     "exception": false,
     "start_time": "2021-06-24T23:37:00.867765",
     "status": "completed"
    },
    "tags": []
   },
   "outputs": [],
   "source": [
    "groups = df_log.groupby(\"E-mail\")"
   ]
  },
  {
   "cell_type": "code",
   "execution_count": 16,
   "id": "7924aacf",
   "metadata": {
    "execution": {
     "iopub.execute_input": "2021-06-24T23:37:01.081992Z",
     "iopub.status.busy": "2021-06-24T23:37:01.076992Z",
     "iopub.status.idle": "2021-06-24T23:37:01.105037Z",
     "shell.execute_reply": "2021-06-24T23:37:01.106729Z"
    },
    "jupyter": {
     "source_hidden": true
    },
    "papermill": {
     "duration": 0.090528,
     "end_time": "2021-06-24T23:37:01.107050",
     "exception": false,
     "start_time": "2021-06-24T23:37:01.016522",
     "status": "completed"
    },
    "tags": []
   },
   "outputs": [],
   "source": [
    "mydb = mysql.connector.connect(database=\"airflow_db\", user=\"db_kali\", password=\"123456789\", host=\"localhost\")\n",
    "mycursor = mydb.cursor()\n",
    "mycursor.execute(\"SELECT * FROM students\")\n",
    "myresult = mycursor.fetchall()\n",
    "emails=[]\n",
    "for result in myresult:\n",
    "    emails.append(result[3])"
   ]
  },
  {
   "cell_type": "code",
   "execution_count": 17,
   "id": "98dcdaad",
   "metadata": {
    "execution": {
     "iopub.execute_input": "2021-06-24T23:37:01.252662Z",
     "iopub.status.busy": "2021-06-24T23:37:01.251312Z",
     "iopub.status.idle": "2021-06-24T23:37:01.263557Z",
     "shell.execute_reply": "2021-06-24T23:37:01.265311Z"
    },
    "jupyter": {
     "source_hidden": true
    },
    "papermill": {
     "duration": 0.078251,
     "end_time": "2021-06-24T23:37:01.265814",
     "exception": false,
     "start_time": "2021-06-24T23:37:01.187563",
     "status": "completed"
    },
    "scrolled": true,
    "tags": []
   },
   "outputs": [
    {
     "name": "stdout",
     "output_type": "stream",
     "text": [
      "amenani@insea.ac.ma\n",
      "amsanoussilabo@insea.ac.ma\n",
      "aezzouine@insea.ac.ma \n",
      "aajarray@insea.ac.ma\n",
      "acheddad@insea.ac.ma\n",
      "aelomairi@insea.ac.ma\n",
      "asinare@insea.ac.ma\n",
      "aoussar@insea.ac.ma\n",
      "ahamdi@insea.ac.ma\n",
      "aelhadine@insea.ac.ma\n",
      "cbelkarkor@insea.ac.ma\n",
      "cbenallalhassani@insea.ac.ma\n",
      "hchafai@insea.ac.ma\n",
      "hhoumane@insea.ac.ma\n",
      "hdah@insea.ac.ma\n",
      "hlagramez@insea.ac.ma\n",
      "imourad@insea.ac.ma\n",
      "ikonkobo@insea.ac.ma\n",
      "ibelmezouar@insea.ac.ma\n",
      "kbensatti@insea.ac.ma\n",
      "yakhallouq@insea.ac.ma\n",
      "mamallah@insea.ac.ma\n",
      "magouram@insea.ac.ma\n",
      "msidibe@insea.ac.ma\n",
      "nchahboun@insea.ac.ma\n",
      "rouhmiz@insea.ac.ma\n",
      "selhairech@insea.ac.ma\n",
      "sdaouaji@insea.ac.ma\n",
      "tmajjati@insea.ac.ma\n",
      "yelhilali@insea.ac.ma\n",
      "yamaghoss@insea.ac.ma\n",
      "ysadki@insea.ac.ma\n",
      "hbounar@insea.ac.ma\n",
      "sboukili@insea.ac.ma\n",
      "aelfadili@insea.ac.ma\n",
      "zjaafari@insea.ac.ma\n",
      "seaouari@insea.ac.ma\n",
      "hboudinar@insea.ac.ma\n",
      "helmouhsine@insea.ac.ma\n",
      "fbanah@insea.ac.ma\n",
      "selhasnaoui@insea.ac.ma\n",
      "abalij@insea.ac.ma\n",
      "hmehdioui@insea.ac.ma\n",
      "smellak@insea.ac.ma\n",
      "ohabiballah@insea.ac.ma\n",
      "amamansouley@insea.ac.ma\n",
      "zrhosne@insea.ac.ma\n",
      "yfadoul@insea.ac.ma\n",
      "msangare@insea.ac.ma\n",
      "ooucouc@insea.ac.ma\n",
      "aoubaha@insea.ac.ma\n",
      "aelbahji@insea.ac.ma\n",
      "selkhyati@insea.ac.ma\n",
      "olaabadia@insea.ac.ma\n",
      "kkajja@insea.ac.ma\n",
      "catraoui@insea.ac.ma\n",
      "cbouzouf@insea.ac.ma\n",
      "amakrane@insea.ac.ma\n",
      "mafarfaoua@insea.ac.ma\n",
      "oyousr@insea.ac.ma\n",
      "ymouzaki@insea.ac.ma\n",
      "nchigr@insea.ac.ma\n",
      "alaachir@insea.ac.ma\n",
      "fdani@insea.ac.ma\n",
      "hgaoui@insea.ac.ma\n",
      "yaitmalek@insea.ac.ma\n",
      "selmouslih@insea.ac.ma\n",
      "yzouhri@insea.ac.ma\n",
      "esoummer@insea.ac.ma\n",
      "satiche@insea.ac.ma\n",
      "helouafi@insea.ac.ma\n",
      "szarrouq@insea.ac.ma\n",
      "olamhamdialaoui@insea.ac.ma\n",
      "aelkassmi@insea.ac.ma\n",
      "tebouzelmad@insea.ac.ma\n",
      "smaatouf@insea.ac.ma\n",
      "yaitmha@insea.ac.ma\n",
      "aramoudi@insea.ac.ma\n",
      "hhabbouza@insea.ac.ma\n"
     ]
    }
   ],
   "source": [
    "print(\"\\n\".join(emails))"
   ]
  },
  {
   "cell_type": "code",
   "execution_count": 18,
   "id": "a5f68fe7",
   "metadata": {
    "execution": {
     "iopub.execute_input": "2021-06-24T23:37:01.409939Z",
     "iopub.status.busy": "2021-06-24T23:37:01.400848Z",
     "iopub.status.idle": "2021-06-24T23:37:03.259451Z",
     "shell.execute_reply": "2021-06-24T23:37:03.261053Z"
    },
    "jupyter": {
     "source_hidden": true
    },
    "papermill": {
     "duration": 1.936496,
     "end_time": "2021-06-24T23:37:03.266004",
     "exception": false,
     "start_time": "2021-06-24T23:37:01.329508",
     "status": "completed"
    },
    "scrolled": true,
    "tags": []
   },
   "outputs": [
    {
     "name": "stdout",
     "output_type": "stream",
     "text": [
      "not found 'amenani@insea.ac.ma'\n",
      "student: 194\n",
      "not found 'aezzouine@insea.ac.ma '\n",
      "student: 196\n",
      "not found 'acheddad@insea.ac.ma'\n",
      "not found 'aelomairi@insea.ac.ma'\n",
      "student: 199\n",
      "student: 200\n",
      "not found 'ahamdi@insea.ac.ma'\n",
      "not found 'aelhadine@insea.ac.ma'\n",
      "student: 203\n",
      "student: 204\n",
      "student: 205\n"
     ]
    },
    {
     "name": "stdout",
     "output_type": "stream",
     "text": [
      "not found 'hhoumane@insea.ac.ma'\n",
      "not found 'hdah@insea.ac.ma'\n",
      "student: 208\n",
      "student: 209\n",
      "student: 210\n",
      "student: 211\n",
      "student: 212\n",
      "student: 213\n",
      "student: 214\n",
      "student: 215\n",
      "student: 216\n",
      "student: 217\n",
      "not found 'rouhmiz@insea.ac.ma'\n",
      "not found"
     ]
    },
    {
     "name": "stdout",
     "output_type": "stream",
     "text": [
      " 'selhairech@insea.ac.ma'\n",
      "student: 220\n",
      "student: 221\n",
      "student: 222\n",
      "student: 223\n",
      "not found 'ysadki@insea.ac.ma'\n",
      "student: 225\n",
      "student: 226\n",
      "student: 227\n",
      "student: 228\n",
      "student: 229\n",
      "student: 230\n",
      "student: 231\n",
      "student: 232\n",
      "student: 233\n"
     ]
    },
    {
     "name": "stdout",
     "output_type": "stream",
     "text": [
      "student: 234\n",
      "student: 235\n",
      "not found 'smellak@insea.ac.ma'\n",
      "student: 237\n",
      "student: 238\n",
      "student: 239\n",
      "student: 240\n"
     ]
    },
    {
     "name": "stdout",
     "output_type": "stream",
     "text": [
      "student: 241\n",
      "student: 242\n"
     ]
    },
    {
     "name": "stdout",
     "output_type": "stream",
     "text": [
      "student: 243\n",
      "student: 244\n",
      "student: 245\n",
      "student: 246\n",
      "student: 247\n",
      "student: 248\n",
      "not found 'cbouzouf@insea.ac.ma'\n",
      "student: 250\n",
      "not found 'mafarfaoua@insea.ac.ma'\n",
      "student: 252\n"
     ]
    },
    {
     "name": "stdout",
     "output_type": "stream",
     "text": [
      "student: 253\n",
      "student: 254\n",
      "student: 255\n",
      "student: 256\n",
      "not found 'hgaoui@insea.ac.ma'\n",
      "not found 'yaitmalek@insea.ac.ma'\n",
      "student: 259\n",
      "student: 260\n"
     ]
    },
    {
     "name": "stdout",
     "output_type": "stream",
     "text": [
      "student: 261\n",
      "student: 262\n",
      "student: 263\n",
      "not found 'szarrouq@insea.ac.ma'\n",
      "student: 265\n",
      "not found 'aelkassmi@insea.ac.ma'\n",
      "not found 'tebouzelmad@insea.ac.ma'\n",
      "student: 268\n",
      "not found 'yaitmha@insea.ac.ma'\n",
      "not found 'aramoudi@insea.ac.ma'\n",
      "not found 'hhabbouza@insea.ac.ma'\n"
     ]
    }
   ],
   "source": [
    "\n",
    "for email in emails:\n",
    "    name,gender,email,course,major = None,None,email,course,None\n",
    "    id_student=add_student(name,gender,email,course,major)\n",
    "    try:\n",
    "        data = groups.get_group(email).reset_index()\n",
    "        nb_abs = 0\n",
    "        #DURATION\n",
    "        duration=0\n",
    "        got_first_start=False\n",
    "        for index, row in data.iterrows():\n",
    "            start_str = row[\"Heure d'arrivée\"].replace(\" à\",\"\")\n",
    "            end_str   = row[\"Heure de départ\"].replace(\" à\",\"\")\n",
    "            start = datetime.datetime.strptime(start_str, '%d/%m/%Y %H:%M:%S')\n",
    "            end = datetime.datetime.strptime(end_str, '%d/%m/%Y %H:%M:%S')\n",
    "            duration = duration + ((end-start).total_seconds() / 60.0)\n",
    "            if not got_first_start:\n",
    "                got_first_start = True\n",
    "                first_start = start\n",
    "        if duration > 120:\n",
    "            duration=120\n",
    "        #NB LATES  \n",
    "        if ((first_start-start_course).total_seconds() / 60.0) > 15:\n",
    "            nb_lates = 1\n",
    "        else:\n",
    "            nb_lates = 0\n",
    "        \n",
    "        nb_pres = 1\n",
    "        \n",
    "        #ABS DURATION\n",
    "        abs_duration = 120-duration\n",
    "        \n",
    "        #DURATION IN INTEGER IN DB!\n",
    "        duration = int(duration)\n",
    "        \n",
    "        #is student\n",
    "        print(\"student:\",id_student)\n",
    "        if duration <= 15:\n",
    "            nb_abs = 1\n",
    "            nb_lates=0\n",
    "            nb_pres=0\n",
    "    \n",
    "    except KeyError as e:\n",
    "        print(\"not found\",e)\n",
    "        nb_abs = 1\n",
    "        abs_duration = 120\n",
    "        nb_lates=0\n",
    "        nb_pres=0\n",
    "        duration=0\n",
    "    #insert to data mart now\n",
    "    try:\n",
    "        mydb = mysql.connector.connect(database=\"airflow_db\", user=\"db_kali\", password=\"123456789\", host=\"localhost\")\n",
    "        mycursor = mydb.cursor()\n",
    "        sql = \"INSERT INTO fact_table (id_time,id_prof,id_student,nb_abs,abs_duration,nb_lates,nb_pres,duration) VALUES (%s,%s,%s,%s,%s,%s,%s,%s);\"\n",
    "        val = (id_time,id_prof,id_student,nb_abs,abs_duration,nb_lates,nb_pres,duration)\n",
    "        mycursor.execute(sql, val)\n",
    "        mydb.commit()\n",
    "    except :\n",
    "        continue"
   ]
  },
  {
   "cell_type": "code",
   "execution_count": 19,
   "id": "0067bcb5",
   "metadata": {
    "execution": {
     "iopub.execute_input": "2021-06-24T23:37:03.747039Z",
     "iopub.status.busy": "2021-06-24T23:37:03.741898Z",
     "iopub.status.idle": "2021-06-24T23:37:03.814869Z",
     "shell.execute_reply": "2021-06-24T23:37:03.821872Z"
    },
    "jupyter": {
     "source_hidden": true
    },
    "papermill": {
     "duration": 0.268342,
     "end_time": "2021-06-24T23:37:03.824529",
     "exception": false,
     "start_time": "2021-06-24T23:37:03.556187",
     "status": "completed"
    },
    "tags": []
   },
   "outputs": [
    {
     "data": {
      "text/plain": [
       "0"
      ]
     },
     "execution_count": 19,
     "metadata": {},
     "output_type": "execute_result"
    }
   ],
   "source": [
    "os.system(f'mv \"{input_file}\" \"/home/kali/project/processed/\"')"
   ]
  }
 ],
 "metadata": {
  "kernelspec": {
   "display_name": "Python 3",
   "language": "python",
   "name": "python3"
  },
  "language_info": {
   "codemirror_mode": {
    "name": "ipython",
    "version": 3
   },
   "file_extension": ".py",
   "mimetype": "text/x-python",
   "name": "python",
   "nbconvert_exporter": "python",
   "pygments_lexer": "ipython3",
   "version": "3.7.5"
  },
  "papermill": {
   "default_parameters": {},
   "duration": 13.264462,
   "end_time": "2021-06-24T23:37:04.787238",
   "environment_variables": {},
   "exception": null,
   "input_path": "/home/kali/project/process_input_list.ipynb",
   "output_path": "/home/kali/project/outs/out-process_input_list2021-06-24T21:39:49.962170+00:00.ipynb",
   "parameters": {
    "msgs": "Ran from Airflow at 2021-06-24T21:39:49.962170+00:00!"
   },
   "start_time": "2021-06-24T23:36:51.522776",
   "version": "2.3.3"
  }
 },
 "nbformat": 4,
 "nbformat_minor": 5
}