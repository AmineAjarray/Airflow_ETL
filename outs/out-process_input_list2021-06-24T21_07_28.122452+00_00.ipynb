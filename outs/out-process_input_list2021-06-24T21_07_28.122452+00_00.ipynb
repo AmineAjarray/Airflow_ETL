{
 "cells": [
  {
   "cell_type": "code",
   "execution_count": 1,
   "id": "76d87e0c",
   "metadata": {
    "execution": {
     "iopub.execute_input": "2021-06-24T21:09:07.307172Z",
     "iopub.status.busy": "2021-06-24T21:09:07.300126Z",
     "iopub.status.idle": "2021-06-24T21:09:07.334462Z",
     "shell.execute_reply": "2021-06-24T21:09:07.331028Z"
    },
    "jupyter": {
     "source_hidden": true
    },
    "papermill": {
     "duration": 0.099077,
     "end_time": "2021-06-24T21:09:07.334833",
     "exception": false,
     "start_time": "2021-06-24T21:09:07.235756",
     "status": "completed"
    },
    "tags": [
     "injected-parameters"
    ]
   },
   "outputs": [],
   "source": [
    "# Parameters\n",
    "msgs = \"Ran from Airflow at 2021-06-24T21:07:28.122452+00:00!\"\n"
   ]
  },
  {
   "cell_type": "code",
   "execution_count": 2,
   "id": "13c6f718",
   "metadata": {
    "execution": {
     "iopub.execute_input": "2021-06-24T21:09:07.423571Z",
     "iopub.status.busy": "2021-06-24T21:09:07.420856Z",
     "iopub.status.idle": "2021-06-24T21:09:08.889821Z",
     "shell.execute_reply": "2021-06-24T21:09:08.892076Z"
    },
    "jupyter": {
     "source_hidden": true
    },
    "papermill": {
     "duration": 1.51598,
     "end_time": "2021-06-24T21:09:08.892487",
     "exception": false,
     "start_time": "2021-06-24T21:09:07.376507",
     "status": "completed"
    },
    "tags": []
   },
   "outputs": [],
   "source": [
    "import pandas as pd\n",
    "import mysql.connector\n",
    "import os\n",
    "#import json\n",
    "import datetime"
   ]
  },
  {
   "cell_type": "code",
   "execution_count": 3,
   "id": "f49514fe",
   "metadata": {
    "execution": {
     "iopub.execute_input": "2021-06-24T21:09:08.992483Z",
     "iopub.status.busy": "2021-06-24T21:09:08.990402Z",
     "iopub.status.idle": "2021-06-24T21:09:09.004546Z",
     "shell.execute_reply": "2021-06-24T21:09:09.005752Z"
    },
    "jupyter": {
     "source_hidden": true
    },
    "papermill": {
     "duration": 0.06849,
     "end_time": "2021-06-24T21:09:09.006043",
     "exception": false,
     "start_time": "2021-06-24T21:09:08.937553",
     "status": "completed"
    },
    "tags": []
   },
   "outputs": [
    {
     "name": "stdout",
     "output_type": "stream",
     "text": [
      "will process: /home/kali/notebook/input/meetingAttendanceReport(General) (4).csv\n"
     ]
    }
   ],
   "source": [
    "with open(\"/home/kali/project/input_config.txt\") as f:\n",
    "    input_file=f.readline()\n",
    "print(\"will process:\",input_file)"
   ]
  },
  {
   "cell_type": "code",
   "execution_count": 4,
   "id": "6d2ea9e2",
   "metadata": {
    "execution": {
     "iopub.execute_input": "2021-06-24T21:09:09.129131Z",
     "iopub.status.busy": "2021-06-24T21:09:09.124804Z",
     "iopub.status.idle": "2021-06-24T21:09:09.139420Z",
     "shell.execute_reply": "2021-06-24T21:09:09.141204Z"
    },
    "jupyter": {
     "source_hidden": true
    },
    "papermill": {
     "duration": 0.092391,
     "end_time": "2021-06-24T21:09:09.142114",
     "exception": false,
     "start_time": "2021-06-24T21:09:09.049723",
     "status": "completed"
    },
    "tags": []
   },
   "outputs": [],
   "source": [
    "meta_data=[]\n",
    "log_call=[]\n",
    "lines=[]\n",
    "with open(input_file,encoding=\"utf-16\") as f:\n",
    "    lines=f.readlines()\n",
    "meta_data=lines[0:5]\n",
    "log_call=lines[6:]"
   ]
  },
  {
   "cell_type": "code",
   "execution_count": 5,
   "id": "03a595c6",
   "metadata": {
    "execution": {
     "iopub.execute_input": "2021-06-24T21:09:09.240306Z",
     "iopub.status.busy": "2021-06-24T21:09:09.238917Z",
     "iopub.status.idle": "2021-06-24T21:09:09.270399Z",
     "shell.execute_reply": "2021-06-24T21:09:09.272603Z"
    },
    "jupyter": {
     "source_hidden": true
    },
    "papermill": {
     "duration": 0.086229,
     "end_time": "2021-06-24T21:09:09.273026",
     "exception": false,
     "start_time": "2021-06-24T21:09:09.186797",
     "status": "completed"
    },
    "scrolled": true,
    "tags": []
   },
   "outputs": [
    {
     "data": {
      "text/plain": [
       "'General'"
      ]
     },
     "execution_count": 5,
     "metadata": {},
     "output_type": "execute_result"
    }
   ],
   "source": [
    "course = meta_data[2].replace(\"Titre de la réunion\\t\",\"\").replace(\"\\n\",\"\")\n",
    "course"
   ]
  },
  {
   "cell_type": "code",
   "execution_count": 6,
   "id": "7c932598",
   "metadata": {
    "execution": {
     "iopub.execute_input": "2021-06-24T21:09:09.376855Z",
     "iopub.status.busy": "2021-06-24T21:09:09.371616Z",
     "iopub.status.idle": "2021-06-24T21:09:09.465394Z",
     "shell.execute_reply": "2021-06-24T21:09:09.462261Z"
    },
    "jupyter": {
     "source_hidden": true
    },
    "papermill": {
     "duration": 0.14419,
     "end_time": "2021-06-24T21:09:09.465745",
     "exception": false,
     "start_time": "2021-06-24T21:09:09.321555",
     "status": "completed"
    },
    "tags": []
   },
   "outputs": [
    {
     "data": {
      "text/html": [
       "<div>\n",
       "<style scoped>\n",
       "    .dataframe tbody tr th:only-of-type {\n",
       "        vertical-align: middle;\n",
       "    }\n",
       "\n",
       "    .dataframe tbody tr th {\n",
       "        vertical-align: top;\n",
       "    }\n",
       "\n",
       "    .dataframe thead th {\n",
       "        text-align: right;\n",
       "    }\n",
       "</style>\n",
       "<table border=\"1\" class=\"dataframe\">\n",
       "  <thead>\n",
       "    <tr style=\"text-align: right;\">\n",
       "      <th></th>\n",
       "      <th>Nom complet</th>\n",
       "      <th>Heure d'arrivée</th>\n",
       "      <th>Heure de départ</th>\n",
       "      <th>Durée</th>\n",
       "      <th>E-mail</th>\n",
       "      <th>Rôle</th>\n",
       "    </tr>\n",
       "  </thead>\n",
       "  <tbody>\n",
       "    <tr>\n",
       "      <th>0</th>\n",
       "      <td>Imade BENELALLAM</td>\n",
       "      <td>06/04/2021 à 14:05:42</td>\n",
       "      <td>06/04/2021 à 16:04:32</td>\n",
       "      <td>1 h 58 m</td>\n",
       "      <td>i.benelallam@insea.ac.ma</td>\n",
       "      <td>Organisateur</td>\n",
       "    </tr>\n",
       "    <tr>\n",
       "      <th>1</th>\n",
       "      <td>Salah Eddine AOUARI</td>\n",
       "      <td>06/04/2021 à 14:05:52</td>\n",
       "      <td>06/04/2021 à 16:04:43</td>\n",
       "      <td>1 h 58 m</td>\n",
       "      <td>seaouari@insea.ac.ma</td>\n",
       "      <td>Présentateur</td>\n",
       "    </tr>\n",
       "    <tr>\n",
       "      <th>2</th>\n",
       "      <td>Chaimaa BELKARKOR</td>\n",
       "      <td>06/04/2021 à 14:05:57</td>\n",
       "      <td>06/04/2021 à 16:04:43</td>\n",
       "      <td>1 h 58 m</td>\n",
       "      <td>cbelkarkor@insea.ac.ma</td>\n",
       "      <td>Présentateur</td>\n",
       "    </tr>\n",
       "    <tr>\n",
       "      <th>3</th>\n",
       "      <td>Ibtihal MOURAD</td>\n",
       "      <td>06/04/2021 à 14:06:08</td>\n",
       "      <td>06/04/2021 à 16:28:17</td>\n",
       "      <td>2 h 22 m</td>\n",
       "      <td>imourad@insea.ac.ma</td>\n",
       "      <td>Présentateur</td>\n",
       "    </tr>\n",
       "    <tr>\n",
       "      <th>4</th>\n",
       "      <td>Akram EL FADILI</td>\n",
       "      <td>06/04/2021 à 14:06:13</td>\n",
       "      <td>06/04/2021 à 16:02:20</td>\n",
       "      <td>1 h 56 m</td>\n",
       "      <td>aelfadili@insea.ac.ma</td>\n",
       "      <td>Présentateur</td>\n",
       "    </tr>\n",
       "    <tr>\n",
       "      <th>...</th>\n",
       "      <td>...</td>\n",
       "      <td>...</td>\n",
       "      <td>...</td>\n",
       "      <td>...</td>\n",
       "      <td>...</td>\n",
       "      <td>...</td>\n",
       "    </tr>\n",
       "    <tr>\n",
       "      <th>68</th>\n",
       "      <td>Niima CHIGR</td>\n",
       "      <td>06/04/2021 à 14:58:03</td>\n",
       "      <td>06/04/2021 à 15:48:12</td>\n",
       "      <td>50 m 9 s</td>\n",
       "      <td>nchigr@insea.ac.ma</td>\n",
       "      <td>Présentateur</td>\n",
       "    </tr>\n",
       "    <tr>\n",
       "      <th>69</th>\n",
       "      <td>Yassine ZOUHRI</td>\n",
       "      <td>06/04/2021 à 15:16:55</td>\n",
       "      <td>06/04/2021 à 15:48:30</td>\n",
       "      <td>31 m 35 s</td>\n",
       "      <td>yzouhri@insea.ac.ma</td>\n",
       "      <td>Présentateur</td>\n",
       "    </tr>\n",
       "    <tr>\n",
       "      <th>70</th>\n",
       "      <td>Yassine ZOUHRI</td>\n",
       "      <td>06/04/2021 à 15:50:42</td>\n",
       "      <td>06/04/2021 à 16:04:51</td>\n",
       "      <td>14 m 8 s</td>\n",
       "      <td>yzouhri@insea.ac.ma</td>\n",
       "      <td>Présentateur</td>\n",
       "    </tr>\n",
       "    <tr>\n",
       "      <th>71</th>\n",
       "      <td>Oussama YOUSR</td>\n",
       "      <td>06/04/2021 à 15:19:22</td>\n",
       "      <td>06/04/2021 à 16:04:49</td>\n",
       "      <td>45 m 26 s</td>\n",
       "      <td>oyousr@insea.ac.ma</td>\n",
       "      <td>Présentateur</td>\n",
       "    </tr>\n",
       "    <tr>\n",
       "      <th>72</th>\n",
       "      <td>Hamza LAGRAMEZ</td>\n",
       "      <td>06/04/2021 à 16:23:48</td>\n",
       "      <td>06/04/2021 à 16:24:00</td>\n",
       "      <td>12 s</td>\n",
       "      <td>hlagramez@insea.ac.ma</td>\n",
       "      <td>Présentateur</td>\n",
       "    </tr>\n",
       "  </tbody>\n",
       "</table>\n",
       "<p>73 rows × 6 columns</p>\n",
       "</div>"
      ],
      "text/plain": [
       "            Nom complet        Heure d'arrivée        Heure de départ  \\\n",
       "0      Imade BENELALLAM  06/04/2021 à 14:05:42  06/04/2021 à 16:04:32   \n",
       "1   Salah Eddine AOUARI  06/04/2021 à 14:05:52  06/04/2021 à 16:04:43   \n",
       "2     Chaimaa BELKARKOR  06/04/2021 à 14:05:57  06/04/2021 à 16:04:43   \n",
       "3        Ibtihal MOURAD  06/04/2021 à 14:06:08  06/04/2021 à 16:28:17   \n",
       "4       Akram EL FADILI  06/04/2021 à 14:06:13  06/04/2021 à 16:02:20   \n",
       "..                  ...                    ...                    ...   \n",
       "68          Niima CHIGR  06/04/2021 à 14:58:03  06/04/2021 à 15:48:12   \n",
       "69       Yassine ZOUHRI  06/04/2021 à 15:16:55  06/04/2021 à 15:48:30   \n",
       "70       Yassine ZOUHRI  06/04/2021 à 15:50:42  06/04/2021 à 16:04:51   \n",
       "71        Oussama YOUSR  06/04/2021 à 15:19:22  06/04/2021 à 16:04:49   \n",
       "72       Hamza LAGRAMEZ  06/04/2021 à 16:23:48  06/04/2021 à 16:24:00   \n",
       "\n",
       "        Durée                    E-mail          Rôle  \n",
       "0    1 h 58 m  i.benelallam@insea.ac.ma  Organisateur  \n",
       "1    1 h 58 m      seaouari@insea.ac.ma  Présentateur  \n",
       "2    1 h 58 m    cbelkarkor@insea.ac.ma  Présentateur  \n",
       "3    2 h 22 m       imourad@insea.ac.ma  Présentateur  \n",
       "4    1 h 56 m     aelfadili@insea.ac.ma  Présentateur  \n",
       "..        ...                       ...           ...  \n",
       "68   50 m 9 s        nchigr@insea.ac.ma  Présentateur  \n",
       "69  31 m 35 s       yzouhri@insea.ac.ma  Présentateur  \n",
       "70   14 m 8 s       yzouhri@insea.ac.ma  Présentateur  \n",
       "71  45 m 26 s        oyousr@insea.ac.ma  Présentateur  \n",
       "72       12 s     hlagramez@insea.ac.ma  Présentateur  \n",
       "\n",
       "[73 rows x 6 columns]"
      ]
     },
     "execution_count": 6,
     "metadata": {},
     "output_type": "execute_result"
    }
   ],
   "source": [
    "with open(f\"/home/kali/project/output/log_{input_file.split('/')[-1]}\",\"w\") as f:\n",
    "    for value in log_call:\n",
    "        f.write(value)\n",
    "    f.close()\n",
    "df_log = pd.read_csv(f\"/home/kali/project/output/log_{input_file.split('/')[-1]}\",sep=\"\\t\")\n",
    "df_log"
   ]
  },
  {
   "cell_type": "code",
   "execution_count": 7,
   "id": "7f7b9fa1",
   "metadata": {
    "execution": {
     "iopub.execute_input": "2021-06-24T21:09:09.769686Z",
     "iopub.status.busy": "2021-06-24T21:09:09.763559Z",
     "iopub.status.idle": "2021-06-24T21:09:09.779506Z",
     "shell.execute_reply": "2021-06-24T21:09:09.781922Z"
    },
    "jupyter": {
     "source_hidden": true
    },
    "papermill": {
     "duration": 0.162931,
     "end_time": "2021-06-24T21:09:09.782910",
     "exception": false,
     "start_time": "2021-06-24T21:09:09.619979",
     "status": "completed"
    },
    "tags": []
   },
   "outputs": [],
   "source": [
    "start_str = meta_data[3].replace(\"Heure de début de la réunion\\t\",\"\").replace(\"\\n\",\"\").replace(\" à\",\"\")\n",
    "end_str   = meta_data[4].replace(\"Heure de fin\\t\",\"\").replace(\"\\n\",\"\").replace(\" à\",\"\")\n",
    "start_course = datetime.datetime.strptime(start_str, '%d/%m/%Y %H:%M:%S')\n",
    "end_course = datetime.datetime.strptime(end_str, '%d/%m/%Y %H:%M:%S')"
   ]
  },
  {
   "cell_type": "code",
   "execution_count": 8,
   "id": "270a1bba",
   "metadata": {
    "execution": {
     "iopub.execute_input": "2021-06-24T21:09:09.908210Z",
     "iopub.status.busy": "2021-06-24T21:09:09.904553Z",
     "iopub.status.idle": "2021-06-24T21:09:10.634289Z",
     "shell.execute_reply": "2021-06-24T21:09:10.636076Z"
    },
    "jupyter": {
     "source_hidden": true
    },
    "papermill": {
     "duration": 0.796587,
     "end_time": "2021-06-24T21:09:10.636435",
     "exception": false,
     "start_time": "2021-06-24T21:09:09.839848",
     "status": "completed"
    },
    "tags": []
   },
   "outputs": [],
   "source": [
    "df_ds = pd.read_excel(\"/home/kali/project/lists_excel/Liste des 2èmes années DS.xlsx\")\n",
    "#df_dse = pd.read_excel(\"/home/kali/notebook/project2/lists_excel/Liste 2A DSE.xlsx\")"
   ]
  },
  {
   "cell_type": "code",
   "execution_count": 9,
   "id": "3b19bbfa",
   "metadata": {
    "execution": {
     "iopub.execute_input": "2021-06-24T21:09:10.740428Z",
     "iopub.status.busy": "2021-06-24T21:09:10.739160Z",
     "iopub.status.idle": "2021-06-24T21:09:10.869253Z",
     "shell.execute_reply": "2021-06-24T21:09:10.871118Z"
    },
    "jupyter": {
     "source_hidden": true
    },
    "papermill": {
     "duration": 0.188748,
     "end_time": "2021-06-24T21:09:10.871501",
     "exception": false,
     "start_time": "2021-06-24T21:09:10.682753",
     "status": "completed"
    },
    "tags": []
   },
   "outputs": [],
   "source": [
    "mydb = mysql.connector.connect(database=\"airflow_db\", user=\"db_kali\", password=\"123456789\", host=\"localhost\")"
   ]
  },
  {
   "cell_type": "code",
   "execution_count": 10,
   "id": "74c1959a",
   "metadata": {
    "execution": {
     "iopub.execute_input": "2021-06-24T21:09:11.010469Z",
     "iopub.status.busy": "2021-06-24T21:09:11.004568Z",
     "iopub.status.idle": "2021-06-24T21:09:11.011905Z",
     "shell.execute_reply": "2021-06-24T21:09:11.013048Z"
    },
    "jupyter": {
     "source_hidden": true
    },
    "papermill": {
     "duration": 0.064334,
     "end_time": "2021-06-24T21:09:11.013376",
     "exception": false,
     "start_time": "2021-06-24T21:09:10.949042",
     "status": "completed"
    },
    "tags": []
   },
   "outputs": [],
   "source": [
    "#mycursor = mydb.cursor()\n",
    "#table=\"fact_table\"\n",
    "#mycursor.execute(f\"SELECT * FROM information_schema.columns WHERE table_schema = 'biabsence' AND table_name   = '{table}' ;\")\n",
    "#myresult = mycursor.fetchall()\n",
    "#for value in myresult:\n",
    "#    print(value[3],\":\",value[7])"
   ]
  },
  {
   "cell_type": "code",
   "execution_count": 11,
   "id": "f0b1542d",
   "metadata": {
    "execution": {
     "iopub.execute_input": "2021-06-24T21:09:11.121491Z",
     "iopub.status.busy": "2021-06-24T21:09:11.115689Z",
     "iopub.status.idle": "2021-06-24T21:09:11.193995Z",
     "shell.execute_reply": "2021-06-24T21:09:11.195933Z"
    },
    "jupyter": {
     "source_hidden": true
    },
    "papermill": {
     "duration": 0.137151,
     "end_time": "2021-06-24T21:09:11.196246",
     "exception": false,
     "start_time": "2021-06-24T21:09:11.059095",
     "status": "completed"
    },
    "tags": []
   },
   "outputs": [],
   "source": [
    "def add_student(name,gender,email,course,major):\n",
    "    mydb = mysql.connector.connect(database=\"airflow_db\", user=\"db_kali\", password=\"123456789\", host=\"localhost\") \n",
    "    mycursor = mydb.cursor()\n",
    "    sql1 = \"SELECT * FROM students where email = %s;\"\n",
    "    vals1 = (email,)\n",
    "    mycursor.execute(sql1, vals1)\n",
    "    myresult = mycursor.fetchall()\n",
    "    if len(myresult) != 0:\n",
    "        return myresult[0][0]\n",
    "    if len(myresult) == 0:\n",
    "        sql = \"INSERT INTO students (name,gender,email,course,major) VALUES (%s,%s,%s,%s,%s);\"\n",
    "        val = (name,gender,email,course,major)\n",
    "        mycursor.execute(sql, val)\n",
    "        mydb.commit()\n",
    "        # print(mycursor.rowcount, \"record inserted.\")\n",
    "        sql3 = \"SELECT * FROM students where email = %s;\"\n",
    "        vals3 = (email,)\n",
    "        mycursor.execute(sql3, vals3)\n",
    "        myresult = mycursor.fetchall()\n",
    "        return myresult[0][0]\n",
    "    \n",
    "def add_professor(name,email):\n",
    "    mydb = mysql.connector.connect(database=\"airflow_db\", user=\"db_kali\", password=\"123456789\", host=\"localhost\") \n",
    "    mycursor = mydb.cursor()\n",
    "    sql1 = \"SELECT * FROM professors where email = %s;\"\n",
    "    vals1 = (email, )\n",
    "    mycursor.execute(sql1, vals1)\n",
    "    myresult = mycursor.fetchall()\n",
    "    if len(myresult) != 0:\n",
    "        return myresult[0][0]\n",
    "    if len(myresult) == 0:\n",
    "        sql = \"INSERT INTO professors (name,email) VALUES (%s,%s);\"\n",
    "        val = (name,email,)\n",
    "        mycursor.execute(sql, val)\n",
    "        mydb.commit()\n",
    "        # print(mycursor.rowcount, \"record inserted.\")\n",
    "        sql3 = \"SELECT * FROM professors where email = %s;\"\n",
    "        vals3 = (email, )\n",
    "        mycursor.execute(sql1, vals1)\n",
    "        myresult = mycursor.fetchall()\n",
    "        return myresult[0][0]\n",
    "    \n",
    "def add_time(hour,day,month,year,date):\n",
    "    mydb = mysql.connector.connect(database=\"airflow_db\", user=\"db_kali\", password=\"123456789\", host=\"localhost\")\n",
    "    mycursor = mydb.cursor()\n",
    "    sql1 = \"SELECT * FROM time WHERE year = %s and month=%s and day=%s and hour=%s;\"\n",
    "    vals1 = (year, month, day, hour, )\n",
    "    mycursor.execute(sql1, vals1)\n",
    "    myresult = mycursor.fetchall()\n",
    "    if len(myresult) != 0:\n",
    "        return myresult[0][0]\n",
    "    if len(myresult) == 0:\n",
    "        sql = \"INSERT INTO time (hour,day,month,year,date) VALUES (%s,%s,%s,%s,%s);\"\n",
    "        val = (hour,day,month,year,date)\n",
    "        mycursor.execute(sql, val)\n",
    "        mydb.commit()\n",
    "        # print(mycursor.rowcount, \"record inserted.\")\n",
    "        sql3 = \"SELECT * FROM time WHERE year = %s and month=%s and day=%s and hour=%s;\"\n",
    "        vals3 = (year, month, day, hour, )\n",
    "        mycursor.execute(sql3, vals3)\n",
    "        myresult = mycursor.fetchall()\n",
    "        return myresult[0][0]"
   ]
  },
  {
   "cell_type": "code",
   "execution_count": 12,
   "id": "72ece278",
   "metadata": {
    "execution": {
     "iopub.execute_input": "2021-06-24T21:09:11.376053Z",
     "iopub.status.busy": "2021-06-24T21:09:11.374688Z",
     "iopub.status.idle": "2021-06-24T21:09:11.490612Z",
     "shell.execute_reply": "2021-06-24T21:09:11.496067Z"
    },
    "jupyter": {
     "source_hidden": true
    },
    "papermill": {
     "duration": 0.18673,
     "end_time": "2021-06-24T21:09:11.496627",
     "exception": false,
     "start_time": "2021-06-24T21:09:11.309897",
     "status": "completed"
    },
    "tags": []
   },
   "outputs": [
    {
     "data": {
      "text/plain": [
       "3"
      ]
     },
     "execution_count": 12,
     "metadata": {},
     "output_type": "execute_result"
    }
   ],
   "source": [
    "hour = start_course.hour\n",
    "day  = start_course.day\n",
    "month= start_course.month\n",
    "year = start_course.year\n",
    "date = start_course.strftime(\"%Y-%m-%d %H:%M:%S\")\n",
    "id_time=add_time(hour,day,month,year,date)\n",
    "id_time"
   ]
  },
  {
   "cell_type": "code",
   "execution_count": 13,
   "id": "31b6b443",
   "metadata": {
    "execution": {
     "iopub.execute_input": "2021-06-24T21:09:11.621160Z",
     "iopub.status.busy": "2021-06-24T21:09:11.619455Z",
     "iopub.status.idle": "2021-06-24T21:09:11.989462Z",
     "shell.execute_reply": "2021-06-24T21:09:11.991823Z"
    },
    "jupyter": {
     "source_hidden": true
    },
    "papermill": {
     "duration": 0.437125,
     "end_time": "2021-06-24T21:09:11.992223",
     "exception": false,
     "start_time": "2021-06-24T21:09:11.555098",
     "status": "completed"
    },
    "scrolled": true,
    "tags": []
   },
   "outputs": [
    {
     "name": "stdout",
     "output_type": "stream",
     "text": [
      "student: 129\n",
      "student: 130\n",
      "student: 131\n",
      "student: 132\n",
      "student: 133\n",
      "student: 134\n",
      "student: 135\n",
      "student: 136\n",
      "student: 137\n",
      "student: 138\n",
      "student: 139\n",
      "student: 140\n",
      "student: 141\n",
      "student: 142\n",
      "student: 143\n",
      "student: 144\n",
      "student: 145\n",
      "student: 146\n",
      "student: 147\n",
      "student: 148\n"
     ]
    },
    {
     "name": "stdout",
     "output_type": "stream",
     "text": [
      "student: 149\n",
      "student: 150\n",
      "student: 151\n",
      "student: 152\n",
      "student: 153\n",
      "student: 154\n",
      "student: 155\n",
      "student: 156\n",
      "student: 157\n",
      "student: 158\n",
      "student: 159\n",
      "student: 160\n"
     ]
    }
   ],
   "source": [
    "#ADD DS TO STUDENTS TABLE\n",
    "for index, row in df_ds.iterrows():\n",
    "    major=\"DS\"\n",
    "    name,gender,email,course,major = row[\"Nom\"],None,row[\"email\"],course,major\n",
    "    id_student=add_student(name,gender,email,course,major)\n",
    "    print(\"student:\",id_student)"
   ]
  },
  {
   "cell_type": "code",
   "execution_count": 14,
   "id": "43cfb06c",
   "metadata": {
    "execution": {
     "iopub.execute_input": "2021-06-24T21:09:12.131637Z",
     "iopub.status.busy": "2021-06-24T21:09:12.129700Z",
     "iopub.status.idle": "2021-06-24T21:09:13.176089Z",
     "shell.execute_reply": "2021-06-24T21:09:13.177952Z"
    },
    "jupyter": {
     "source_hidden": true
    },
    "papermill": {
     "duration": 1.10833,
     "end_time": "2021-06-24T21:09:13.178235",
     "exception": false,
     "start_time": "2021-06-24T21:09:12.069905",
     "status": "completed"
    },
    "scrolled": true,
    "tags": []
   },
   "outputs": [
    {
     "name": "stdout",
     "output_type": "stream",
     "text": [
      "professor: 5\n",
      "student: 161\n",
      "student: 139\n",
      "student: 145\n",
      "student: 162\n",
      "student: 163\n",
      "student: 164\n",
      "student: 130\n",
      "student: 165\n",
      "student: 166\n",
      "student: 167\n",
      "student: 135\n",
      "student: 140\n",
      "student: 168\n"
     ]
    },
    {
     "name": "stdout",
     "output_type": "stream",
     "text": [
      "student: 156\n",
      "student: 156\n",
      "student: 169\n",
      "student: 146\n",
      "student: 170\n",
      "student: 171\n",
      "student: 150\n",
      "student: 149\n",
      "student: 149\n",
      "student: 172\n",
      "student: 131\n",
      "student: 131\n",
      "student: 173\n",
      "student: 173\n",
      "student: 174\n"
     ]
    },
    {
     "name": "stdout",
     "output_type": "stream",
     "text": [
      "student: 175\n",
      "student: 152\n",
      "student: 176\n",
      "student: 177\n",
      "student: 178\n",
      "student: 179\n",
      "student: 180\n",
      "student: 159\n",
      "student: 154\n"
     ]
    },
    {
     "name": "stdout",
     "output_type": "stream",
     "text": [
      "student: 154\n",
      "student: 181\n",
      "student: 182\n",
      "student: 183\n",
      "student: 151\n",
      "student: 151\n",
      "student: 132\n",
      "student: 132\n",
      "student: 132\n",
      "student: 132\n",
      "student: 132\n",
      "student: 132\n",
      "student: 157\n",
      "student: 157\n",
      "student: 157\n",
      "student: 157\n",
      "student: 157\n",
      "student: 157\n"
     ]
    },
    {
     "name": "stdout",
     "output_type": "stream",
     "text": [
      "student: 184\n",
      "student: 184\n",
      "student: 185\n",
      "student: 186\n",
      "student: 187\n",
      "student: 187\n",
      "student: 188\n",
      "student: 188\n",
      "student: 189\n",
      "student: 142\n",
      "student: 142\n",
      "student: 136\n",
      "student: 190\n",
      "student: 191\n",
      "student: 191\n",
      "student: 192\n",
      "student: 144\n"
     ]
    }
   ],
   "source": [
    "#ADD STUDENTS FROM LOG TO TABLE\n",
    "for index, row in df_log.iterrows():\n",
    "    if row[\"Rôle\"]!=\"Organisateur\":\n",
    "        result = df_ds[df_ds[\"email\"]==row[\"E-mail\"]]\n",
    "        if(len(result) > 0):\n",
    "            major=\"DS\"\n",
    "        else:\n",
    "            major=\"DSE\"\n",
    "        name,gender,email,course,major = row[\"Nom complet\"],None,row[\"E-mail\"],course,major\n",
    "        id_student=add_student(name,gender,email,course,major)\n",
    "        print(\"student:\",id_student)\n",
    "    else:\n",
    "        name,email = row[\"Nom complet\"],row[\"E-mail\"]\n",
    "        id_prof = add_professor(name,email)\n",
    "        print(\"professor:\",id_prof)"
   ]
  },
  {
   "cell_type": "code",
   "execution_count": 15,
   "id": "f3708b92",
   "metadata": {
    "execution": {
     "iopub.execute_input": "2021-06-24T21:09:13.378562Z",
     "iopub.status.busy": "2021-06-24T21:09:13.367343Z",
     "iopub.status.idle": "2021-06-24T21:09:13.382817Z",
     "shell.execute_reply": "2021-06-24T21:09:13.381006Z"
    },
    "jupyter": {
     "source_hidden": true
    },
    "papermill": {
     "duration": 0.138748,
     "end_time": "2021-06-24T21:09:13.383086",
     "exception": false,
     "start_time": "2021-06-24T21:09:13.244338",
     "status": "completed"
    },
    "tags": []
   },
   "outputs": [],
   "source": [
    "groups = df_log.groupby(\"E-mail\")"
   ]
  },
  {
   "cell_type": "code",
   "execution_count": 16,
   "id": "7924aacf",
   "metadata": {
    "execution": {
     "iopub.execute_input": "2021-06-24T21:09:13.517518Z",
     "iopub.status.busy": "2021-06-24T21:09:13.510973Z",
     "iopub.status.idle": "2021-06-24T21:09:13.532524Z",
     "shell.execute_reply": "2021-06-24T21:09:13.534498Z"
    },
    "jupyter": {
     "source_hidden": true
    },
    "papermill": {
     "duration": 0.086319,
     "end_time": "2021-06-24T21:09:13.534799",
     "exception": false,
     "start_time": "2021-06-24T21:09:13.448480",
     "status": "completed"
    },
    "tags": []
   },
   "outputs": [],
   "source": [
    "mydb = mysql.connector.connect(database=\"airflow_db\", user=\"db_kali\", password=\"123456789\", host=\"localhost\")\n",
    "mycursor = mydb.cursor()\n",
    "mycursor.execute(\"SELECT * FROM students\")\n",
    "myresult = mycursor.fetchall()\n",
    "emails=[]\n",
    "for result in myresult:\n",
    "    emails.append(result[3])"
   ]
  },
  {
   "cell_type": "code",
   "execution_count": 17,
   "id": "98dcdaad",
   "metadata": {
    "execution": {
     "iopub.execute_input": "2021-06-24T21:09:13.675904Z",
     "iopub.status.busy": "2021-06-24T21:09:13.674160Z",
     "iopub.status.idle": "2021-06-24T21:09:13.686152Z",
     "shell.execute_reply": "2021-06-24T21:09:13.687637Z"
    },
    "jupyter": {
     "source_hidden": true
    },
    "papermill": {
     "duration": 0.086331,
     "end_time": "2021-06-24T21:09:13.687935",
     "exception": false,
     "start_time": "2021-06-24T21:09:13.601604",
     "status": "completed"
    },
    "scrolled": true,
    "tags": []
   },
   "outputs": [
    {
     "name": "stdout",
     "output_type": "stream",
     "text": [
      "amenani@insea.ac.ma\n",
      "amsanoussilabo@insea.ac.ma\n",
      "aezzouine@insea.ac.ma \n",
      "aajarray@insea.ac.ma\n",
      "acheddad@insea.ac.ma\n",
      "aelomairi@insea.ac.ma\n",
      "asinare@insea.ac.ma\n",
      "aoussar@insea.ac.ma\n",
      "ahamdi@insea.ac.ma\n",
      "aelhadine@insea.ac.ma\n",
      "cbelkarkor@insea.ac.ma\n",
      "cbenallalhassani@insea.ac.ma\n",
      "hchafai@insea.ac.ma\n",
      "hhoumane@insea.ac.ma\n",
      "hdah@insea.ac.ma\n",
      "hlagramez@insea.ac.ma\n",
      "imourad@insea.ac.ma\n",
      "ikonkobo@insea.ac.ma\n",
      "ibelmezouar@insea.ac.ma\n",
      "kbensatti@insea.ac.ma\n",
      "yakhallouq@insea.ac.ma\n",
      "mamallah@insea.ac.ma\n",
      "magouram@insea.ac.ma\n",
      "msidibe@insea.ac.ma\n",
      "nchahboun@insea.ac.ma\n",
      "rouhmiz@insea.ac.ma\n",
      "selhairech@insea.ac.ma\n",
      "sdaouaji@insea.ac.ma\n",
      "tmajjati@insea.ac.ma\n",
      "yelhilali@insea.ac.ma\n",
      "yamaghoss@insea.ac.ma\n",
      "ysadki@insea.ac.ma\n",
      "seaouari@insea.ac.ma\n",
      "aelfadili@insea.ac.ma\n",
      "abalij@insea.ac.ma\n",
      "hbounar@insea.ac.ma\n",
      "cbouzouf@insea.ac.ma\n",
      "hboudinar@insea.ac.ma\n",
      "hmehdioui@insea.ac.ma\n",
      "amamansouley@insea.ac.ma\n",
      "ohabiballah@insea.ac.ma\n",
      "helouafi@insea.ac.ma\n",
      "sboukili@insea.ac.ma\n",
      "aoubaha@insea.ac.ma\n",
      "esoummer@insea.ac.ma\n",
      "olaabadia@insea.ac.ma\n",
      "aelbahji@insea.ac.ma\n",
      "mafarfaoua@insea.ac.ma\n",
      "ooucouc@insea.ac.ma\n",
      "fbanah@insea.ac.ma\n",
      "msangare@insea.ac.ma\n",
      "aelkassmi@insea.ac.ma\n",
      "catraoui@insea.ac.ma\n",
      "aramoudi@insea.ac.ma\n",
      "zjaafari@insea.ac.ma\n",
      "yaitmalek@insea.ac.ma\n",
      "yfadoul@insea.ac.ma\n",
      "szarrouq@insea.ac.ma\n",
      "kkajja@insea.ac.ma\n",
      "ymouzaki@insea.ac.ma\n",
      "selkhyati@insea.ac.ma\n",
      "nchigr@insea.ac.ma\n",
      "yzouhri@insea.ac.ma\n",
      "oyousr@insea.ac.ma\n"
     ]
    }
   ],
   "source": [
    "print(\"\\n\".join(emails))"
   ]
  },
  {
   "cell_type": "code",
   "execution_count": 18,
   "id": "a5f68fe7",
   "metadata": {
    "execution": {
     "iopub.execute_input": "2021-06-24T21:09:13.822087Z",
     "iopub.status.busy": "2021-06-24T21:09:13.815955Z",
     "iopub.status.idle": "2021-06-24T21:09:15.024490Z",
     "shell.execute_reply": "2021-06-24T21:09:15.027488Z"
    },
    "jupyter": {
     "source_hidden": true
    },
    "papermill": {
     "duration": 1.278086,
     "end_time": "2021-06-24T21:09:15.027953",
     "exception": false,
     "start_time": "2021-06-24T21:09:13.749867",
     "status": "completed"
    },
    "scrolled": true,
    "tags": []
   },
   "outputs": [
    {
     "name": "stdout",
     "output_type": "stream",
     "text": [
      "not found 'amenani@insea.ac.ma'\n"
     ]
    },
    {
     "name": "stdout",
     "output_type": "stream",
     "text": [
      "student: 130\n",
      "not found 'aezzouine@insea.ac.ma '\n",
      "student: 132\n",
      "not found 'acheddad@insea.ac.ma'\n",
      "not found 'aelomairi@insea.ac.ma'\n",
      "student: 135\n",
      "student: 136\n",
      "not found 'ahamdi@insea.ac.ma'\n",
      "not found 'aelhadine@insea.ac.ma'\n",
      "student: 139\n",
      "student: 140\n",
      "not found 'hchafai@insea.ac.ma'\n",
      "student: 142\n"
     ]
    },
    {
     "name": "stdout",
     "output_type": "stream",
     "text": [
      "not found 'hdah@insea.ac.ma'\n",
      "student: 144"
     ]
    },
    {
     "name": "stdout",
     "output_type": "stream",
     "text": [
      "\n",
      "student: 145\n",
      "student: 146\n",
      "not found 'ibelmezouar@insea.ac.ma'\n",
      "not found 'kbensatti@insea.ac.ma'\n",
      "student: 149\n",
      "student: 150\n",
      "student: 151\n",
      "student: 152\n",
      "not found 'nchahboun@insea.ac.ma'\n"
     ]
    },
    {
     "name": "stdout",
     "output_type": "stream",
     "text": [
      "student: 154\n"
     ]
    },
    {
     "name": "stdout",
     "output_type": "stream",
     "text": [
      "not found 'selhairech@insea.ac.ma'\n",
      "student: 156\n",
      "student: 157\n",
      "not found 'yelhilali@insea.ac.ma'\n",
      "student: 159\n",
      "not found 'ysadki@insea.ac.ma'\n"
     ]
    },
    {
     "name": "stdout",
     "output_type": "stream",
     "text": [
      "student: 161\n",
      "student: 162\n"
     ]
    },
    {
     "name": "stdout",
     "output_type": "stream",
     "text": [
      "student: 163\n",
      "student: 164\n",
      "student: 165\n",
      "student: 166\n",
      "student: 167\n",
      "student: 168\n",
      "student: 169\n",
      "student: 170\n",
      "student: 171\n",
      "student: 172\n"
     ]
    },
    {
     "name": "stdout",
     "output_type": "stream",
     "text": [
      "student: 173\n",
      "student: 174\n"
     ]
    },
    {
     "name": "stdout",
     "output_type": "stream",
     "text": [
      "student: 175\n",
      "student: 176\n",
      "student: 177\n",
      "student: 178\n",
      "student: 179\n",
      "student: 180\n",
      "student: 181\n",
      "student: 182\n",
      "student: 183\n",
      "student: 184\n",
      "student: 185\n"
     ]
    },
    {
     "name": "stdout",
     "output_type": "stream",
     "text": [
      "student: 186\n",
      "student: 187\n",
      "student: 188\n"
     ]
    },
    {
     "name": "stdout",
     "output_type": "stream",
     "text": [
      "student: 189\n",
      "student: 190\n",
      "student: 191\n",
      "student: 192\n"
     ]
    }
   ],
   "source": [
    "\n",
    "for email in emails:\n",
    "    name,gender,email,course,major = None,None,email,course,None\n",
    "    id_student=add_student(name,gender,email,course,major)\n",
    "    try:\n",
    "        data = groups.get_group(email).reset_index()\n",
    "        nb_abs = 0\n",
    "        #DURATION\n",
    "        duration=0\n",
    "        got_first_start=False\n",
    "        for index, row in data.iterrows():\n",
    "            start_str = row[\"Heure d'arrivée\"].replace(\" à\",\"\")\n",
    "            end_str   = row[\"Heure de départ\"].replace(\" à\",\"\")\n",
    "            start = datetime.datetime.strptime(start_str, '%d/%m/%Y %H:%M:%S')\n",
    "            end = datetime.datetime.strptime(end_str, '%d/%m/%Y %H:%M:%S')\n",
    "            duration = duration + ((end-start).total_seconds() / 60.0)\n",
    "            if not got_first_start:\n",
    "                got_first_start = True\n",
    "                first_start = start\n",
    "        if duration > 120:\n",
    "            duration=120\n",
    "        #NB LATES  \n",
    "        if ((first_start-start_course).total_seconds() / 60.0) > 15:\n",
    "            nb_lates = 1\n",
    "        else:\n",
    "            nb_lates = 0\n",
    "        \n",
    "        nb_pres = 1\n",
    "        \n",
    "        #ABS DURATION\n",
    "        abs_duration = 120-duration\n",
    "        \n",
    "        #DURATION IN INTEGER IN DB!\n",
    "        duration = int(duration)\n",
    "        \n",
    "        #is student\n",
    "        print(\"student:\",id_student)\n",
    "        if duration <= 15:\n",
    "            nb_abs = 1\n",
    "            nb_lates=0\n",
    "            nb_pres=0\n",
    "    \n",
    "    except KeyError as e:\n",
    "        print(\"not found\",e)\n",
    "        nb_abs = 1\n",
    "        abs_duration = 120\n",
    "        nb_lates=0\n",
    "        nb_pres=0\n",
    "        duration=0\n",
    "    #insert to data mart now\n",
    "    try:\n",
    "        mydb = mysql.connector.connect(database=\"airflow_db\", user=\"db_kali\", password=\"123456789\", host=\"localhost\")\n",
    "        mycursor = mydb.cursor()\n",
    "        sql = \"INSERT INTO fact_table (id_time,id_prof,id_student,nb_abs,abs_duration,nb_lates,nb_pres,duration) VALUES (%s,%s,%s,%s,%s,%s,%s,%s);\"\n",
    "        val = (id_time,id_prof,id_student,nb_abs,abs_duration,nb_lates,nb_pres,duration)\n",
    "        mycursor.execute(sql, val)\n",
    "        mydb.commit()\n",
    "    except :\n",
    "        continue"
   ]
  },
  {
   "cell_type": "code",
   "execution_count": 19,
   "id": "0067bcb5",
   "metadata": {
    "execution": {
     "iopub.execute_input": "2021-06-24T21:09:15.200821Z",
     "iopub.status.busy": "2021-06-24T21:09:15.198936Z",
     "iopub.status.idle": "2021-06-24T21:09:15.244522Z",
     "shell.execute_reply": "2021-06-24T21:09:15.250438Z"
    },
    "jupyter": {
     "source_hidden": true
    },
    "papermill": {
     "duration": 0.139226,
     "end_time": "2021-06-24T21:09:15.251604",
     "exception": false,
     "start_time": "2021-06-24T21:09:15.112378",
     "status": "completed"
    },
    "tags": []
   },
   "outputs": [
    {
     "data": {
      "text/plain": [
       "0"
      ]
     },
     "execution_count": 19,
     "metadata": {},
     "output_type": "execute_result"
    }
   ],
   "source": [
    "os.system(f'mv \"{input_file}\" \"/home/kali/project/processed/\"')"
   ]
  }
 ],
 "metadata": {
  "kernelspec": {
   "display_name": "Python 3",
   "language": "python",
   "name": "python3"
  },
  "language_info": {
   "codemirror_mode": {
    "name": "ipython",
    "version": 3
   },
   "file_extension": ".py",
   "mimetype": "text/x-python",
   "name": "python",
   "nbconvert_exporter": "python",
   "pygments_lexer": "ipython3",
   "version": "3.7.5"
  },
  "papermill": {
   "default_parameters": {},
   "duration": 13.864574,
   "end_time": "2021-06-24T21:09:17.105166",
   "environment_variables": {},
   "exception": null,
   "input_path": "/home/kali/project/process_input_list.ipynb",
   "output_path": "/home/kali/project/outs/out-process_input_list2021-06-24T21:07:28.122452+00:00.ipynb",
   "parameters": {
    "msgs": "Ran from Airflow at 2021-06-24T21:07:28.122452+00:00!"
   },
   "start_time": "2021-06-24T21:09:03.240592",
   "version": "2.3.3"
  }
 },
 "nbformat": 4,
 "nbformat_minor": 5
}