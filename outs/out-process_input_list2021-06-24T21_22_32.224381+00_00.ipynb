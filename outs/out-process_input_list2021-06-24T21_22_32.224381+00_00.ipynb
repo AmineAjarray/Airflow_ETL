{
 "cells": [
  {
   "cell_type": "markdown",
   "id": "1f91fab0",
   "metadata": {
    "tags": [
     "papermill-error-cell-tag"
    ]
   },
   "source": [
    "<span style=\"color:red; font-family:Helvetica Neue, Helvetica, Arial, sans-serif; font-size:2em;\">An Exception was encountered at '<a href=\"#papermill-error-cell\">In [4]</a>'.</span>"
   ]
  },
  {
   "cell_type": "code",
   "execution_count": 1,
   "id": "98426b9a",
   "metadata": {
    "execution": {
     "iopub.execute_input": "2021-06-24T21:23:04.927050Z",
     "iopub.status.busy": "2021-06-24T21:23:04.922000Z",
     "iopub.status.idle": "2021-06-24T21:23:04.943935Z",
     "shell.execute_reply": "2021-06-24T21:23:04.945859Z"
    },
    "jupyter": {
     "source_hidden": true
    },
    "papermill": {
     "duration": 0.087843,
     "end_time": "2021-06-24T21:23:04.946389",
     "exception": false,
     "start_time": "2021-06-24T21:23:04.858546",
     "status": "completed"
    },
    "tags": [
     "injected-parameters"
    ]
   },
   "outputs": [],
   "source": [
    "# Parameters\n",
    "msgs = \"Ran from Airflow at 2021-06-24T21:22:32.224381+00:00!\"\n"
   ]
  },
  {
   "cell_type": "code",
   "execution_count": 2,
   "id": "13c6f718",
   "metadata": {
    "execution": {
     "iopub.execute_input": "2021-06-24T21:23:05.078100Z",
     "iopub.status.busy": "2021-06-24T21:23:05.075271Z",
     "iopub.status.idle": "2021-06-24T21:23:06.815734Z",
     "shell.execute_reply": "2021-06-24T21:23:06.814034Z"
    },
    "jupyter": {
     "source_hidden": true
    },
    "papermill": {
     "duration": 1.821752,
     "end_time": "2021-06-24T21:23:06.816005",
     "exception": false,
     "start_time": "2021-06-24T21:23:04.994253",
     "status": "completed"
    },
    "tags": []
   },
   "outputs": [],
   "source": [
    "import pandas as pd\n",
    "import mysql.connector\n",
    "import os\n",
    "#import json\n",
    "import datetime"
   ]
  },
  {
   "cell_type": "code",
   "execution_count": 3,
   "id": "f49514fe",
   "metadata": {
    "execution": {
     "iopub.execute_input": "2021-06-24T21:23:06.919710Z",
     "iopub.status.busy": "2021-06-24T21:23:06.918586Z",
     "iopub.status.idle": "2021-06-24T21:23:06.944363Z",
     "shell.execute_reply": "2021-06-24T21:23:06.943410Z"
    },
    "jupyter": {
     "source_hidden": true
    },
    "papermill": {
     "duration": 0.084264,
     "end_time": "2021-06-24T21:23:06.944588",
     "exception": false,
     "start_time": "2021-06-24T21:23:06.860324",
     "status": "completed"
    },
    "tags": []
   },
   "outputs": [
    {
     "name": "stdout",
     "output_type": "stream",
     "text": [
      "will process: /home/kali/project/input/log_meetingAttendanceReport(General).csv\n"
     ]
    }
   ],
   "source": [
    "with open(\"/home/kali/project/input_config.txt\") as f:\n",
    "    input_file=f.readline()\n",
    "print(\"will process:\",input_file)"
   ]
  },
  {
   "cell_type": "markdown",
   "id": "88ccd9cd",
   "metadata": {
    "tags": [
     "papermill-error-cell-tag"
    ]
   },
   "source": [
    "<span id=\"papermill-error-cell\" style=\"color:red; font-family:Helvetica Neue, Helvetica, Arial, sans-serif; font-size:2em;\">Execution using papermill encountered an exception here and stopped:</span>"
   ]
  },
  {
   "cell_type": "code",
   "execution_count": 4,
   "id": "6d2ea9e2",
   "metadata": {
    "execution": {
     "iopub.execute_input": "2021-06-24T21:23:07.040935Z",
     "iopub.status.busy": "2021-06-24T21:23:07.039429Z",
     "iopub.status.idle": "2021-06-24T21:23:07.659199Z",
     "shell.execute_reply": "2021-06-24T21:23:07.654560Z"
    },
    "jupyter": {
     "source_hidden": true
    },
    "papermill": {
     "duration": 0.672122,
     "end_time": "2021-06-24T21:23:07.659792",
     "exception": true,
     "start_time": "2021-06-24T21:23:06.987670",
     "status": "failed"
    },
    "tags": []
   },
   "outputs": [
    {
     "ename": "UnicodeError",
     "evalue": "UTF-16 stream does not start with BOM",
     "output_type": "error",
     "traceback": [
      "\u001b[0;31m---------------------------------------------------------------------------\u001b[0m",
      "\u001b[0;31mUnicodeError\u001b[0m                              Traceback (most recent call last)",
      "\u001b[0;32m<ipython-input-4-e1a96a4a8c3c>\u001b[0m in \u001b[0;36m<module>\u001b[0;34m\u001b[0m\n\u001b[1;32m      3\u001b[0m \u001b[0mlines\u001b[0m\u001b[0;34m=\u001b[0m\u001b[0;34m[\u001b[0m\u001b[0;34m]\u001b[0m\u001b[0;34m\u001b[0m\u001b[0;34m\u001b[0m\u001b[0m\n\u001b[1;32m      4\u001b[0m \u001b[0;32mwith\u001b[0m \u001b[0mopen\u001b[0m\u001b[0;34m(\u001b[0m\u001b[0minput_file\u001b[0m\u001b[0;34m,\u001b[0m\u001b[0mencoding\u001b[0m\u001b[0;34m=\u001b[0m\u001b[0;34m\"utf-16\"\u001b[0m\u001b[0;34m)\u001b[0m \u001b[0;32mas\u001b[0m \u001b[0mf\u001b[0m\u001b[0;34m:\u001b[0m\u001b[0;34m\u001b[0m\u001b[0;34m\u001b[0m\u001b[0m\n\u001b[0;32m----> 5\u001b[0;31m     \u001b[0mlines\u001b[0m\u001b[0;34m=\u001b[0m\u001b[0mf\u001b[0m\u001b[0;34m.\u001b[0m\u001b[0mreadlines\u001b[0m\u001b[0;34m(\u001b[0m\u001b[0;34m)\u001b[0m\u001b[0;34m\u001b[0m\u001b[0;34m\u001b[0m\u001b[0m\n\u001b[0m\u001b[1;32m      6\u001b[0m \u001b[0mmeta_data\u001b[0m\u001b[0;34m=\u001b[0m\u001b[0mlines\u001b[0m\u001b[0;34m[\u001b[0m\u001b[0;36m0\u001b[0m\u001b[0;34m:\u001b[0m\u001b[0;36m5\u001b[0m\u001b[0;34m]\u001b[0m\u001b[0;34m\u001b[0m\u001b[0;34m\u001b[0m\u001b[0m\n\u001b[1;32m      7\u001b[0m \u001b[0mlog_call\u001b[0m\u001b[0;34m=\u001b[0m\u001b[0mlines\u001b[0m\u001b[0;34m[\u001b[0m\u001b[0;36m6\u001b[0m\u001b[0;34m:\u001b[0m\u001b[0;34m]\u001b[0m\u001b[0;34m\u001b[0m\u001b[0;34m\u001b[0m\u001b[0m\n",
      "\u001b[0;32m/usr/local/lib/python3.7/codecs.py\u001b[0m in \u001b[0;36mdecode\u001b[0;34m(self, input, final)\u001b[0m\n\u001b[1;32m    320\u001b[0m         \u001b[0;31m# decode input (taking the buffer into account)\u001b[0m\u001b[0;34m\u001b[0m\u001b[0;34m\u001b[0m\u001b[0;34m\u001b[0m\u001b[0m\n\u001b[1;32m    321\u001b[0m         \u001b[0mdata\u001b[0m \u001b[0;34m=\u001b[0m \u001b[0mself\u001b[0m\u001b[0;34m.\u001b[0m\u001b[0mbuffer\u001b[0m \u001b[0;34m+\u001b[0m \u001b[0minput\u001b[0m\u001b[0;34m\u001b[0m\u001b[0;34m\u001b[0m\u001b[0m\n\u001b[0;32m--> 322\u001b[0;31m         \u001b[0;34m(\u001b[0m\u001b[0mresult\u001b[0m\u001b[0;34m,\u001b[0m \u001b[0mconsumed\u001b[0m\u001b[0;34m)\u001b[0m \u001b[0;34m=\u001b[0m \u001b[0mself\u001b[0m\u001b[0;34m.\u001b[0m\u001b[0m_buffer_decode\u001b[0m\u001b[0;34m(\u001b[0m\u001b[0mdata\u001b[0m\u001b[0;34m,\u001b[0m \u001b[0mself\u001b[0m\u001b[0;34m.\u001b[0m\u001b[0merrors\u001b[0m\u001b[0;34m,\u001b[0m \u001b[0mfinal\u001b[0m\u001b[0;34m)\u001b[0m\u001b[0;34m\u001b[0m\u001b[0;34m\u001b[0m\u001b[0m\n\u001b[0m\u001b[1;32m    323\u001b[0m         \u001b[0;31m# keep undecoded input until the next call\u001b[0m\u001b[0;34m\u001b[0m\u001b[0;34m\u001b[0m\u001b[0;34m\u001b[0m\u001b[0m\n\u001b[1;32m    324\u001b[0m         \u001b[0mself\u001b[0m\u001b[0;34m.\u001b[0m\u001b[0mbuffer\u001b[0m \u001b[0;34m=\u001b[0m \u001b[0mdata\u001b[0m\u001b[0;34m[\u001b[0m\u001b[0mconsumed\u001b[0m\u001b[0;34m:\u001b[0m\u001b[0;34m]\u001b[0m\u001b[0;34m\u001b[0m\u001b[0;34m\u001b[0m\u001b[0m\n",
      "\u001b[0;32m/usr/local/lib/python3.7/encodings/utf_16.py\u001b[0m in \u001b[0;36m_buffer_decode\u001b[0;34m(self, input, errors, final)\u001b[0m\n\u001b[1;32m     65\u001b[0m                 \u001b[0mself\u001b[0m\u001b[0;34m.\u001b[0m\u001b[0mdecoder\u001b[0m \u001b[0;34m=\u001b[0m \u001b[0mcodecs\u001b[0m\u001b[0;34m.\u001b[0m\u001b[0mutf_16_be_decode\u001b[0m\u001b[0;34m\u001b[0m\u001b[0;34m\u001b[0m\u001b[0m\n\u001b[1;32m     66\u001b[0m             \u001b[0;32melif\u001b[0m \u001b[0mconsumed\u001b[0m \u001b[0;34m>=\u001b[0m \u001b[0;36m2\u001b[0m\u001b[0;34m:\u001b[0m\u001b[0;34m\u001b[0m\u001b[0;34m\u001b[0m\u001b[0m\n\u001b[0;32m---> 67\u001b[0;31m                 \u001b[0;32mraise\u001b[0m \u001b[0mUnicodeError\u001b[0m\u001b[0;34m(\u001b[0m\u001b[0;34m\"UTF-16 stream does not start with BOM\"\u001b[0m\u001b[0;34m)\u001b[0m\u001b[0;34m\u001b[0m\u001b[0;34m\u001b[0m\u001b[0m\n\u001b[0m\u001b[1;32m     68\u001b[0m             \u001b[0;32mreturn\u001b[0m \u001b[0;34m(\u001b[0m\u001b[0moutput\u001b[0m\u001b[0;34m,\u001b[0m \u001b[0mconsumed\u001b[0m\u001b[0;34m)\u001b[0m\u001b[0;34m\u001b[0m\u001b[0;34m\u001b[0m\u001b[0m\n\u001b[1;32m     69\u001b[0m         \u001b[0;32mreturn\u001b[0m \u001b[0mself\u001b[0m\u001b[0;34m.\u001b[0m\u001b[0mdecoder\u001b[0m\u001b[0;34m(\u001b[0m\u001b[0minput\u001b[0m\u001b[0;34m,\u001b[0m \u001b[0mself\u001b[0m\u001b[0;34m.\u001b[0m\u001b[0merrors\u001b[0m\u001b[0;34m,\u001b[0m \u001b[0mfinal\u001b[0m\u001b[0;34m)\u001b[0m\u001b[0;34m\u001b[0m\u001b[0;34m\u001b[0m\u001b[0m\n",
      "\u001b[0;31mUnicodeError\u001b[0m: UTF-16 stream does not start with BOM"
     ]
    }
   ],
   "source": [
    "meta_data=[]\n",
    "log_call=[]\n",
    "lines=[]\n",
    "with open(input_file,encoding=\"utf-16\") as f:\n",
    "    lines=f.readlines()\n",
    "meta_data=lines[0:5]\n",
    "log_call=lines[6:]"
   ]
  },
  {
   "cell_type": "code",
   "execution_count": null,
   "id": "03a595c6",
   "metadata": {
    "jupyter": {
     "source_hidden": true
    },
    "papermill": {
     "duration": null,
     "end_time": null,
     "exception": null,
     "start_time": null,
     "status": "pending"
    },
    "scrolled": true,
    "tags": []
   },
   "outputs": [],
   "source": [
    "course = meta_data[2].replace(\"Titre de la réunion\\t\",\"\").replace(\"\\n\",\"\")\n",
    "course"
   ]
  },
  {
   "cell_type": "code",
   "execution_count": null,
   "id": "7c932598",
   "metadata": {
    "jupyter": {
     "source_hidden": true
    },
    "papermill": {
     "duration": null,
     "end_time": null,
     "exception": null,
     "start_time": null,
     "status": "pending"
    },
    "tags": []
   },
   "outputs": [],
   "source": [
    "with open(f\"/home/kali/project/output/log_{input_file.split('/')[-1]}\",\"w\") as f:\n",
    "    for value in log_call:\n",
    "        f.write(value)\n",
    "    f.close()\n",
    "df_log = pd.read_csv(f\"/home/kali/project/output/log_{input_file.split('/')[-1]}\",sep=\"\\t\")\n",
    "df_log"
   ]
  },
  {
   "cell_type": "code",
   "execution_count": null,
   "id": "7f7b9fa1",
   "metadata": {
    "jupyter": {
     "source_hidden": true
    },
    "papermill": {
     "duration": null,
     "end_time": null,
     "exception": null,
     "start_time": null,
     "status": "pending"
    },
    "tags": []
   },
   "outputs": [],
   "source": [
    "start_str = meta_data[3].replace(\"Heure de début de la réunion\\t\",\"\").replace(\"\\n\",\"\").replace(\" à\",\"\")\n",
    "end_str   = meta_data[4].replace(\"Heure de fin\\t\",\"\").replace(\"\\n\",\"\").replace(\" à\",\"\")\n",
    "start_course = datetime.datetime.strptime(start_str, '%d/%m/%Y %H:%M:%S')\n",
    "end_course = datetime.datetime.strptime(end_str, '%d/%m/%Y %H:%M:%S')"
   ]
  },
  {
   "cell_type": "code",
   "execution_count": null,
   "id": "270a1bba",
   "metadata": {
    "jupyter": {
     "source_hidden": true
    },
    "papermill": {
     "duration": null,
     "end_time": null,
     "exception": null,
     "start_time": null,
     "status": "pending"
    },
    "tags": []
   },
   "outputs": [],
   "source": [
    "df_ds = pd.read_excel(\"/home/kali/project/lists_excel/Liste des 2èmes années DS.xlsx\")\n",
    "#df_dse = pd.read_excel(\"/home/kali/notebook/project2/lists_excel/Liste 2A DSE.xlsx\")"
   ]
  },
  {
   "cell_type": "code",
   "execution_count": null,
   "id": "3b19bbfa",
   "metadata": {
    "jupyter": {
     "source_hidden": true
    },
    "papermill": {
     "duration": null,
     "end_time": null,
     "exception": null,
     "start_time": null,
     "status": "pending"
    },
    "tags": []
   },
   "outputs": [],
   "source": [
    "mydb = mysql.connector.connect(database=\"airflow_db\", user=\"db_kali\", password=\"123456789\", host=\"localhost\")"
   ]
  },
  {
   "cell_type": "code",
   "execution_count": null,
   "id": "74c1959a",
   "metadata": {
    "jupyter": {
     "source_hidden": true
    },
    "papermill": {
     "duration": null,
     "end_time": null,
     "exception": null,
     "start_time": null,
     "status": "pending"
    },
    "tags": []
   },
   "outputs": [],
   "source": [
    "#mycursor = mydb.cursor()\n",
    "#table=\"fact_table\"\n",
    "#mycursor.execute(f\"SELECT * FROM information_schema.columns WHERE table_schema = 'biabsence' AND table_name   = '{table}' ;\")\n",
    "#myresult = mycursor.fetchall()\n",
    "#for value in myresult:\n",
    "#    print(value[3],\":\",value[7])"
   ]
  },
  {
   "cell_type": "code",
   "execution_count": null,
   "id": "f0b1542d",
   "metadata": {
    "jupyter": {
     "source_hidden": true
    },
    "papermill": {
     "duration": null,
     "end_time": null,
     "exception": null,
     "start_time": null,
     "status": "pending"
    },
    "tags": []
   },
   "outputs": [],
   "source": [
    "def add_student(name,gender,email,course,major):\n",
    "    mydb = mysql.connector.connect(database=\"airflow_db\", user=\"db_kali\", password=\"123456789\", host=\"localhost\") \n",
    "    mycursor = mydb.cursor()\n",
    "    sql1 = \"SELECT * FROM students where email = %s;\"\n",
    "    vals1 = (email,)\n",
    "    mycursor.execute(sql1, vals1)\n",
    "    myresult = mycursor.fetchall()\n",
    "    if len(myresult) != 0:\n",
    "        return myresult[0][0]\n",
    "    if len(myresult) == 0:\n",
    "        sql = \"INSERT INTO students (name,gender,email,course,major) VALUES (%s,%s,%s,%s,%s);\"\n",
    "        val = (name,gender,email,course,major)\n",
    "        mycursor.execute(sql, val)\n",
    "        mydb.commit()\n",
    "        # print(mycursor.rowcount, \"record inserted.\")\n",
    "        sql3 = \"SELECT * FROM students where email = %s;\"\n",
    "        vals3 = (email,)\n",
    "        mycursor.execute(sql3, vals3)\n",
    "        myresult = mycursor.fetchall()\n",
    "        return myresult[0][0]\n",
    "    \n",
    "def add_professor(name,email):\n",
    "    mydb = mysql.connector.connect(database=\"airflow_db\", user=\"db_kali\", password=\"123456789\", host=\"localhost\") \n",
    "    mycursor = mydb.cursor()\n",
    "    sql1 = \"SELECT * FROM professors where email = %s;\"\n",
    "    vals1 = (email, )\n",
    "    mycursor.execute(sql1, vals1)\n",
    "    myresult = mycursor.fetchall()\n",
    "    if len(myresult) != 0:\n",
    "        return myresult[0][0]\n",
    "    if len(myresult) == 0:\n",
    "        sql = \"INSERT INTO professors (name,email) VALUES (%s,%s);\"\n",
    "        val = (name,email,)\n",
    "        mycursor.execute(sql, val)\n",
    "        mydb.commit()\n",
    "        # print(mycursor.rowcount, \"record inserted.\")\n",
    "        sql3 = \"SELECT * FROM professors where email = %s;\"\n",
    "        vals3 = (email, )\n",
    "        mycursor.execute(sql1, vals1)\n",
    "        myresult = mycursor.fetchall()\n",
    "        return myresult[0][0]\n",
    "    \n",
    "def add_time(hour,day,month,year,date):\n",
    "    mydb = mysql.connector.connect(database=\"airflow_db\", user=\"db_kali\", password=\"123456789\", host=\"localhost\")\n",
    "    mycursor = mydb.cursor()\n",
    "    sql1 = \"SELECT * FROM time WHERE year = %s and month=%s and day=%s and hour=%s;\"\n",
    "    vals1 = (year, month, day, hour, )\n",
    "    mycursor.execute(sql1, vals1)\n",
    "    myresult = mycursor.fetchall()\n",
    "    if len(myresult) != 0:\n",
    "        return myresult[0][0]\n",
    "    if len(myresult) == 0:\n",
    "        sql = \"INSERT INTO time (hour,day,month,year,date) VALUES (%s,%s,%s,%s,%s);\"\n",
    "        val = (hour,day,month,year,date)\n",
    "        mycursor.execute(sql, val)\n",
    "        mydb.commit()\n",
    "        # print(mycursor.rowcount, \"record inserted.\")\n",
    "        sql3 = \"SELECT * FROM time WHERE year = %s and month=%s and day=%s and hour=%s;\"\n",
    "        vals3 = (year, month, day, hour, )\n",
    "        mycursor.execute(sql3, vals3)\n",
    "        myresult = mycursor.fetchall()\n",
    "        return myresult[0][0]"
   ]
  },
  {
   "cell_type": "code",
   "execution_count": null,
   "id": "72ece278",
   "metadata": {
    "jupyter": {
     "source_hidden": true
    },
    "papermill": {
     "duration": null,
     "end_time": null,
     "exception": null,
     "start_time": null,
     "status": "pending"
    },
    "tags": []
   },
   "outputs": [],
   "source": [
    "hour = start_course.hour\n",
    "day  = start_course.day\n",
    "month= start_course.month\n",
    "year = start_course.year\n",
    "date = start_course.strftime(\"%Y-%m-%d %H:%M:%S\")\n",
    "id_time=add_time(hour,day,month,year,date)\n",
    "id_time"
   ]
  },
  {
   "cell_type": "code",
   "execution_count": null,
   "id": "31b6b443",
   "metadata": {
    "jupyter": {
     "source_hidden": true
    },
    "papermill": {
     "duration": null,
     "end_time": null,
     "exception": null,
     "start_time": null,
     "status": "pending"
    },
    "scrolled": true,
    "tags": []
   },
   "outputs": [],
   "source": [
    "#ADD DS TO STUDENTS TABLE\n",
    "for index, row in df_ds.iterrows():\n",
    "    major=\"DS\"\n",
    "    name,gender,email,course,major = row[\"Nom\"],None,row[\"email\"],course,major\n",
    "    id_student=add_student(name,gender,email,course,major)\n",
    "    print(\"student:\",id_student)"
   ]
  },
  {
   "cell_type": "code",
   "execution_count": null,
   "id": "43cfb06c",
   "metadata": {
    "jupyter": {
     "source_hidden": true
    },
    "papermill": {
     "duration": null,
     "end_time": null,
     "exception": null,
     "start_time": null,
     "status": "pending"
    },
    "scrolled": true,
    "tags": []
   },
   "outputs": [],
   "source": [
    "#ADD STUDENTS FROM LOG TO TABLE\n",
    "for index, row in df_log.iterrows():\n",
    "    if row[\"Rôle\"]!=\"Organisateur\":\n",
    "        result = df_ds[df_ds[\"email\"]==row[\"E-mail\"]]\n",
    "        if(len(result) > 0):\n",
    "            major=\"DS\"\n",
    "        else:\n",
    "            major=\"DSE\"\n",
    "        name,gender,email,course,major = row[\"Nom complet\"],None,row[\"E-mail\"],course,major\n",
    "        id_student=add_student(name,gender,email,course,major)\n",
    "        print(\"student:\",id_student)\n",
    "    else:\n",
    "        name,email = row[\"Nom complet\"],row[\"E-mail\"]\n",
    "        id_prof = add_professor(name,email)\n",
    "        print(\"professor:\",id_prof)"
   ]
  },
  {
   "cell_type": "code",
   "execution_count": null,
   "id": "f3708b92",
   "metadata": {
    "jupyter": {
     "source_hidden": true
    },
    "papermill": {
     "duration": null,
     "end_time": null,
     "exception": null,
     "start_time": null,
     "status": "pending"
    },
    "tags": []
   },
   "outputs": [],
   "source": [
    "groups = df_log.groupby(\"E-mail\")"
   ]
  },
  {
   "cell_type": "code",
   "execution_count": null,
   "id": "7924aacf",
   "metadata": {
    "jupyter": {
     "source_hidden": true
    },
    "papermill": {
     "duration": null,
     "end_time": null,
     "exception": null,
     "start_time": null,
     "status": "pending"
    },
    "tags": []
   },
   "outputs": [],
   "source": [
    "mydb = mysql.connector.connect(database=\"airflow_db\", user=\"db_kali\", password=\"123456789\", host=\"localhost\")\n",
    "mycursor = mydb.cursor()\n",
    "mycursor.execute(\"SELECT * FROM students\")\n",
    "myresult = mycursor.fetchall()\n",
    "emails=[]\n",
    "for result in myresult:\n",
    "    emails.append(result[3])"
   ]
  },
  {
   "cell_type": "code",
   "execution_count": null,
   "id": "98dcdaad",
   "metadata": {
    "jupyter": {
     "source_hidden": true
    },
    "papermill": {
     "duration": null,
     "end_time": null,
     "exception": null,
     "start_time": null,
     "status": "pending"
    },
    "scrolled": true,
    "tags": []
   },
   "outputs": [],
   "source": [
    "print(\"\\n\".join(emails))"
   ]
  },
  {
   "cell_type": "code",
   "execution_count": null,
   "id": "a5f68fe7",
   "metadata": {
    "jupyter": {
     "source_hidden": true
    },
    "papermill": {
     "duration": null,
     "end_time": null,
     "exception": null,
     "start_time": null,
     "status": "pending"
    },
    "scrolled": true,
    "tags": []
   },
   "outputs": [],
   "source": [
    "\n",
    "for email in emails:\n",
    "    name,gender,email,course,major = None,None,email,course,None\n",
    "    id_student=add_student(name,gender,email,course,major)\n",
    "    try:\n",
    "        data = groups.get_group(email).reset_index()\n",
    "        nb_abs = 0\n",
    "        #DURATION\n",
    "        duration=0\n",
    "        got_first_start=False\n",
    "        for index, row in data.iterrows():\n",
    "            start_str = row[\"Heure d'arrivée\"].replace(\" à\",\"\")\n",
    "            end_str   = row[\"Heure de départ\"].replace(\" à\",\"\")\n",
    "            start = datetime.datetime.strptime(start_str, '%d/%m/%Y %H:%M:%S')\n",
    "            end = datetime.datetime.strptime(end_str, '%d/%m/%Y %H:%M:%S')\n",
    "            duration = duration + ((end-start).total_seconds() / 60.0)\n",
    "            if not got_first_start:\n",
    "                got_first_start = True\n",
    "                first_start = start\n",
    "        if duration > 120:\n",
    "            duration=120\n",
    "        #NB LATES  \n",
    "        if ((first_start-start_course).total_seconds() / 60.0) > 15:\n",
    "            nb_lates = 1\n",
    "        else:\n",
    "            nb_lates = 0\n",
    "        \n",
    "        nb_pres = 1\n",
    "        \n",
    "        #ABS DURATION\n",
    "        abs_duration = 120-duration\n",
    "        \n",
    "        #DURATION IN INTEGER IN DB!\n",
    "        duration = int(duration)\n",
    "        \n",
    "        #is student\n",
    "        print(\"student:\",id_student)\n",
    "        if duration <= 15:\n",
    "            nb_abs = 1\n",
    "            nb_lates=0\n",
    "            nb_pres=0\n",
    "    \n",
    "    except KeyError as e:\n",
    "        print(\"not found\",e)\n",
    "        nb_abs = 1\n",
    "        abs_duration = 120\n",
    "        nb_lates=0\n",
    "        nb_pres=0\n",
    "        duration=0\n",
    "    #insert to data mart now\n",
    "    try:\n",
    "        mydb = mysql.connector.connect(database=\"airflow_db\", user=\"db_kali\", password=\"123456789\", host=\"localhost\")\n",
    "        mycursor = mydb.cursor()\n",
    "        sql = \"INSERT INTO fact_table (id_time,id_prof,id_student,nb_abs,abs_duration,nb_lates,nb_pres,duration) VALUES (%s,%s,%s,%s,%s,%s,%s,%s);\"\n",
    "        val = (id_time,id_prof,id_student,nb_abs,abs_duration,nb_lates,nb_pres,duration)\n",
    "        mycursor.execute(sql, val)\n",
    "        mydb.commit()\n",
    "    except :\n",
    "        continue"
   ]
  },
  {
   "cell_type": "code",
   "execution_count": null,
   "id": "0067bcb5",
   "metadata": {
    "jupyter": {
     "source_hidden": true
    },
    "papermill": {
     "duration": null,
     "end_time": null,
     "exception": null,
     "start_time": null,
     "status": "pending"
    },
    "tags": []
   },
   "outputs": [],
   "source": [
    "os.system(f'mv \"{input_file}\" \"/home/kali/project/processed/\"')"
   ]
  }
 ],
 "metadata": {
  "kernelspec": {
   "display_name": "Python 3",
   "language": "python",
   "name": "python3"
  },
  "language_info": {
   "codemirror_mode": {
    "name": "ipython",
    "version": 3
   },
   "file_extension": ".py",
   "mimetype": "text/x-python",
   "name": "python",
   "nbconvert_exporter": "python",
   "pygments_lexer": "ipython3",
   "version": "3.7.5"
  },
  "papermill": {
   "default_parameters": {},
   "duration": 7.097958,
   "end_time": "2021-06-24T21:23:08.238416",
   "environment_variables": {},
   "exception": true,
   "input_path": "/home/kali/project/process_input_list.ipynb",
   "output_path": "/home/kali/project/outs/out-process_input_list2021-06-24T21:22:32.224381+00:00.ipynb",
   "parameters": {
    "msgs": "Ran from Airflow at 2021-06-24T21:22:32.224381+00:00!"
   },
   "start_time": "2021-06-24T21:23:01.140458",
   "version": "2.3.3"
  }
 },
 "nbformat": 4,
 "nbformat_minor": 5
}