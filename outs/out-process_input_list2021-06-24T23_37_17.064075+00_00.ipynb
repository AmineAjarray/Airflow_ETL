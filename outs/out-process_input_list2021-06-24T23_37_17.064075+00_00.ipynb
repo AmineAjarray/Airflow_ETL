{
 "cells": [
  {
   "cell_type": "code",
   "execution_count": 1,
   "id": "2fe982b2",
   "metadata": {
    "execution": {
     "iopub.execute_input": "2021-06-24T23:37:47.517370Z",
     "iopub.status.busy": "2021-06-24T23:37:47.507465Z",
     "iopub.status.idle": "2021-06-24T23:37:47.534975Z",
     "shell.execute_reply": "2021-06-24T23:37:47.537508Z"
    },
    "jupyter": {
     "source_hidden": true
    },
    "papermill": {
     "duration": 0.092371,
     "end_time": "2021-06-24T23:37:47.538121",
     "exception": false,
     "start_time": "2021-06-24T23:37:47.445750",
     "status": "completed"
    },
    "tags": [
     "injected-parameters"
    ]
   },
   "outputs": [],
   "source": [
    "# Parameters\n",
    "msgs = \"Ran from Airflow at 2021-06-24T23:37:17.064075+00:00!\"\n"
   ]
  },
  {
   "cell_type": "code",
   "execution_count": 2,
   "id": "13c6f718",
   "metadata": {
    "execution": {
     "iopub.execute_input": "2021-06-24T23:37:47.652471Z",
     "iopub.status.busy": "2021-06-24T23:37:47.651063Z",
     "iopub.status.idle": "2021-06-24T23:37:49.342568Z",
     "shell.execute_reply": "2021-06-24T23:37:49.344338Z"
    },
    "jupyter": {
     "source_hidden": true
    },
    "papermill": {
     "duration": 1.745662,
     "end_time": "2021-06-24T23:37:49.344730",
     "exception": false,
     "start_time": "2021-06-24T23:37:47.599068",
     "status": "completed"
    },
    "tags": []
   },
   "outputs": [],
   "source": [
    "import pandas as pd\n",
    "import mysql.connector\n",
    "import os\n",
    "#import json\n",
    "import datetime"
   ]
  },
  {
   "cell_type": "code",
   "execution_count": 3,
   "id": "f49514fe",
   "metadata": {
    "execution": {
     "iopub.execute_input": "2021-06-24T23:37:49.439301Z",
     "iopub.status.busy": "2021-06-24T23:37:49.438008Z",
     "iopub.status.idle": "2021-06-24T23:37:49.455381Z",
     "shell.execute_reply": "2021-06-24T23:37:49.456673Z"
    },
    "jupyter": {
     "source_hidden": true
    },
    "papermill": {
     "duration": 0.071385,
     "end_time": "2021-06-24T23:37:49.457116",
     "exception": false,
     "start_time": "2021-06-24T23:37:49.385731",
     "status": "completed"
    },
    "tags": []
   },
   "outputs": [
    {
     "name": "stdout",
     "output_type": "stream",
     "text": [
      "will process: /home/kali/project/input/meetingAttendanceReport(General) (8).csv\n"
     ]
    }
   ],
   "source": [
    "with open(\"/home/kali/project/input_config.txt\") as f:\n",
    "    input_file=f.readline()\n",
    "print(\"will process:\",input_file)"
   ]
  },
  {
   "cell_type": "code",
   "execution_count": 4,
   "id": "6d2ea9e2",
   "metadata": {
    "execution": {
     "iopub.execute_input": "2021-06-24T23:37:49.554332Z",
     "iopub.status.busy": "2021-06-24T23:37:49.550350Z",
     "iopub.status.idle": "2021-06-24T23:37:49.567972Z",
     "shell.execute_reply": "2021-06-24T23:37:49.570284Z"
    },
    "jupyter": {
     "source_hidden": true
    },
    "papermill": {
     "duration": 0.072668,
     "end_time": "2021-06-24T23:37:49.570623",
     "exception": false,
     "start_time": "2021-06-24T23:37:49.497955",
     "status": "completed"
    },
    "tags": []
   },
   "outputs": [],
   "source": [
    "meta_data=[]\n",
    "log_call=[]\n",
    "lines=[]\n",
    "with open(input_file,encoding=\"utf-16\") as f:\n",
    "    lines=f.readlines()\n",
    "meta_data=lines[0:5]\n",
    "log_call=lines[6:]"
   ]
  },
  {
   "cell_type": "code",
   "execution_count": 5,
   "id": "03a595c6",
   "metadata": {
    "execution": {
     "iopub.execute_input": "2021-06-24T23:37:49.668750Z",
     "iopub.status.busy": "2021-06-24T23:37:49.667390Z",
     "iopub.status.idle": "2021-06-24T23:37:49.701809Z",
     "shell.execute_reply": "2021-06-24T23:37:49.703513Z"
    },
    "jupyter": {
     "source_hidden": true
    },
    "papermill": {
     "duration": 0.090831,
     "end_time": "2021-06-24T23:37:49.703896",
     "exception": false,
     "start_time": "2021-06-24T23:37:49.613065",
     "status": "completed"
    },
    "scrolled": true,
    "tags": []
   },
   "outputs": [
    {
     "data": {
      "text/plain": [
       "'General'"
      ]
     },
     "execution_count": 5,
     "metadata": {},
     "output_type": "execute_result"
    }
   ],
   "source": [
    "course = meta_data[2].replace(\"Titre de la réunion\\t\",\"\").replace(\"\\n\",\"\")\n",
    "course"
   ]
  },
  {
   "cell_type": "code",
   "execution_count": 6,
   "id": "7c932598",
   "metadata": {
    "execution": {
     "iopub.execute_input": "2021-06-24T23:37:49.831005Z",
     "iopub.status.busy": "2021-06-24T23:37:49.828002Z",
     "iopub.status.idle": "2021-06-24T23:37:49.918703Z",
     "shell.execute_reply": "2021-06-24T23:37:49.915616Z"
    },
    "jupyter": {
     "source_hidden": true
    },
    "papermill": {
     "duration": 0.171228,
     "end_time": "2021-06-24T23:37:49.918992",
     "exception": false,
     "start_time": "2021-06-24T23:37:49.747764",
     "status": "completed"
    },
    "tags": []
   },
   "outputs": [
    {
     "data": {
      "text/html": [
       "<div>\n",
       "<style scoped>\n",
       "    .dataframe tbody tr th:only-of-type {\n",
       "        vertical-align: middle;\n",
       "    }\n",
       "\n",
       "    .dataframe tbody tr th {\n",
       "        vertical-align: top;\n",
       "    }\n",
       "\n",
       "    .dataframe thead th {\n",
       "        text-align: right;\n",
       "    }\n",
       "</style>\n",
       "<table border=\"1\" class=\"dataframe\">\n",
       "  <thead>\n",
       "    <tr style=\"text-align: right;\">\n",
       "      <th></th>\n",
       "      <th>Nom complet</th>\n",
       "      <th>Heure d'arrivée</th>\n",
       "      <th>Heure de départ</th>\n",
       "      <th>Durée</th>\n",
       "      <th>E-mail</th>\n",
       "      <th>Rôle</th>\n",
       "    </tr>\n",
       "  </thead>\n",
       "  <tbody>\n",
       "    <tr>\n",
       "      <th>0</th>\n",
       "      <td>Hafsa EL MOUHSINE</td>\n",
       "      <td>07/04/2021 à 17:05:20</td>\n",
       "      <td>07/04/2021 à 17:05:28</td>\n",
       "      <td>8 s</td>\n",
       "      <td>helmouhsine@insea.ac.ma</td>\n",
       "      <td>Présentateur</td>\n",
       "    </tr>\n",
       "  </tbody>\n",
       "</table>\n",
       "</div>"
      ],
      "text/plain": [
       "         Nom complet        Heure d'arrivée        Heure de départ Durée  \\\n",
       "0  Hafsa EL MOUHSINE  07/04/2021 à 17:05:20  07/04/2021 à 17:05:28   8 s   \n",
       "\n",
       "                    E-mail          Rôle  \n",
       "0  helmouhsine@insea.ac.ma  Présentateur  "
      ]
     },
     "execution_count": 6,
     "metadata": {},
     "output_type": "execute_result"
    }
   ],
   "source": [
    "with open(f\"/home/kali/project/output/log_{input_file.split('/')[-1]}\",\"w\") as f:\n",
    "    for value in log_call:\n",
    "        f.write(value)\n",
    "    f.close()\n",
    "df_log = pd.read_csv(f\"/home/kali/project/output/log_{input_file.split('/')[-1]}\",sep=\"\\t\")\n",
    "df_log"
   ]
  },
  {
   "cell_type": "code",
   "execution_count": 7,
   "id": "7f7b9fa1",
   "metadata": {
    "execution": {
     "iopub.execute_input": "2021-06-24T23:37:50.056859Z",
     "iopub.status.busy": "2021-06-24T23:37:50.055247Z",
     "iopub.status.idle": "2021-06-24T23:37:50.070454Z",
     "shell.execute_reply": "2021-06-24T23:37:50.072170Z"
    },
    "jupyter": {
     "source_hidden": true
    },
    "papermill": {
     "duration": 0.070728,
     "end_time": "2021-06-24T23:37:50.072461",
     "exception": false,
     "start_time": "2021-06-24T23:37:50.001733",
     "status": "completed"
    },
    "tags": []
   },
   "outputs": [],
   "source": [
    "start_str = meta_data[3].replace(\"Heure de début de la réunion\\t\",\"\").replace(\"\\n\",\"\").replace(\" à\",\"\")\n",
    "end_str   = meta_data[4].replace(\"Heure de fin\\t\",\"\").replace(\"\\n\",\"\").replace(\" à\",\"\")\n",
    "start_course = datetime.datetime.strptime(start_str, '%d/%m/%Y %H:%M:%S')\n",
    "end_course = datetime.datetime.strptime(end_str, '%d/%m/%Y %H:%M:%S')"
   ]
  },
  {
   "cell_type": "code",
   "execution_count": 8,
   "id": "270a1bba",
   "metadata": {
    "execution": {
     "iopub.execute_input": "2021-06-24T23:37:50.176230Z",
     "iopub.status.busy": "2021-06-24T23:37:50.175032Z",
     "iopub.status.idle": "2021-06-24T23:37:50.898967Z",
     "shell.execute_reply": "2021-06-24T23:37:50.903700Z"
    },
    "jupyter": {
     "source_hidden": true
    },
    "papermill": {
     "duration": 0.781271,
     "end_time": "2021-06-24T23:37:50.904013",
     "exception": false,
     "start_time": "2021-06-24T23:37:50.122742",
     "status": "completed"
    },
    "tags": []
   },
   "outputs": [],
   "source": [
    "df_ds = pd.read_excel(\"/home/kali/project/lists_excel/Liste des 2èmes années DS.xlsx\")\n",
    "#df_dse = pd.read_excel(\"/home/kali/notebook/project2/lists_excel/Liste 2A DSE.xlsx\")"
   ]
  },
  {
   "cell_type": "code",
   "execution_count": 9,
   "id": "3b19bbfa",
   "metadata": {
    "execution": {
     "iopub.execute_input": "2021-06-24T23:37:51.080738Z",
     "iopub.status.busy": "2021-06-24T23:37:51.079203Z",
     "iopub.status.idle": "2021-06-24T23:37:51.160184Z",
     "shell.execute_reply": "2021-06-24T23:37:51.161756Z"
    },
    "jupyter": {
     "source_hidden": true
    },
    "papermill": {
     "duration": 0.148872,
     "end_time": "2021-06-24T23:37:51.162147",
     "exception": false,
     "start_time": "2021-06-24T23:37:51.013275",
     "status": "completed"
    },
    "tags": []
   },
   "outputs": [],
   "source": [
    "mydb = mysql.connector.connect(database=\"airflow_db\", user=\"db_kali\", password=\"123456789\", host=\"localhost\")"
   ]
  },
  {
   "cell_type": "code",
   "execution_count": 10,
   "id": "74c1959a",
   "metadata": {
    "execution": {
     "iopub.execute_input": "2021-06-24T23:37:51.272040Z",
     "iopub.status.busy": "2021-06-24T23:37:51.270884Z",
     "iopub.status.idle": "2021-06-24T23:37:51.276938Z",
     "shell.execute_reply": "2021-06-24T23:37:51.277897Z"
    },
    "jupyter": {
     "source_hidden": true
    },
    "papermill": {
     "duration": 0.063055,
     "end_time": "2021-06-24T23:37:51.278197",
     "exception": false,
     "start_time": "2021-06-24T23:37:51.215142",
     "status": "completed"
    },
    "tags": []
   },
   "outputs": [],
   "source": [
    "#mycursor = mydb.cursor()\n",
    "#table=\"fact_table\"\n",
    "#mycursor.execute(f\"SELECT * FROM information_schema.columns WHERE table_schema = 'biabsence' AND table_name   = '{table}' ;\")\n",
    "#myresult = mycursor.fetchall()\n",
    "#for value in myresult:\n",
    "#    print(value[3],\":\",value[7])"
   ]
  },
  {
   "cell_type": "code",
   "execution_count": 11,
   "id": "f0b1542d",
   "metadata": {
    "execution": {
     "iopub.execute_input": "2021-06-24T23:37:51.390896Z",
     "iopub.status.busy": "2021-06-24T23:37:51.384856Z",
     "iopub.status.idle": "2021-06-24T23:37:51.428155Z",
     "shell.execute_reply": "2021-06-24T23:37:51.430235Z"
    },
    "jupyter": {
     "source_hidden": true
    },
    "papermill": {
     "duration": 0.104065,
     "end_time": "2021-06-24T23:37:51.430713",
     "exception": false,
     "start_time": "2021-06-24T23:37:51.326648",
     "status": "completed"
    },
    "tags": []
   },
   "outputs": [],
   "source": [
    "def add_student(name,gender,email,course,major):\n",
    "    mydb = mysql.connector.connect(database=\"airflow_db\", user=\"db_kali\", password=\"123456789\", host=\"localhost\") \n",
    "    mycursor = mydb.cursor()\n",
    "    sql1 = \"SELECT * FROM students where email = %s;\"\n",
    "    vals1 = (email,)\n",
    "    mycursor.execute(sql1, vals1)\n",
    "    myresult = mycursor.fetchall()\n",
    "    if len(myresult) != 0:\n",
    "        return myresult[0][0]\n",
    "    if len(myresult) == 0:\n",
    "        sql = \"INSERT INTO students (name,gender,email,course,major) VALUES (%s,%s,%s,%s,%s);\"\n",
    "        val = (name,gender,email,course,major)\n",
    "        mycursor.execute(sql, val)\n",
    "        mydb.commit()\n",
    "        # print(mycursor.rowcount, \"record inserted.\")\n",
    "        sql3 = \"SELECT * FROM students where email = %s;\"\n",
    "        vals3 = (email,)\n",
    "        mycursor.execute(sql3, vals3)\n",
    "        myresult = mycursor.fetchall()\n",
    "        return myresult[0][0]\n",
    "    \n",
    "def add_professor(name,email):\n",
    "    mydb = mysql.connector.connect(database=\"airflow_db\", user=\"db_kali\", password=\"123456789\", host=\"localhost\") \n",
    "    mycursor = mydb.cursor()\n",
    "    sql1 = \"SELECT * FROM professors where email = %s;\"\n",
    "    vals1 = (email, )\n",
    "    mycursor.execute(sql1, vals1)\n",
    "    myresult = mycursor.fetchall()\n",
    "    if len(myresult) != 0:\n",
    "        return myresult[0][0]\n",
    "    if len(myresult) == 0:\n",
    "        sql = \"INSERT INTO professors (name,email) VALUES (%s,%s);\"\n",
    "        val = (name,email,)\n",
    "        mycursor.execute(sql, val)\n",
    "        mydb.commit()\n",
    "        # print(mycursor.rowcount, \"record inserted.\")\n",
    "        sql3 = \"SELECT * FROM professors where email = %s;\"\n",
    "        vals3 = (email, )\n",
    "        mycursor.execute(sql1, vals1)\n",
    "        myresult = mycursor.fetchall()\n",
    "        return myresult[0][0]\n",
    "    \n",
    "def add_time(hour,day,month,year,date):\n",
    "    mydb = mysql.connector.connect(database=\"airflow_db\", user=\"db_kali\", password=\"123456789\", host=\"localhost\")\n",
    "    mycursor = mydb.cursor()\n",
    "    sql1 = \"SELECT * FROM time WHERE year = %s and month=%s and day=%s and hour=%s;\"\n",
    "    vals1 = (year, month, day, hour, )\n",
    "    mycursor.execute(sql1, vals1)\n",
    "    myresult = mycursor.fetchall()\n",
    "    if len(myresult) != 0:\n",
    "        return myresult[0][0]\n",
    "    if len(myresult) == 0:\n",
    "        sql = \"INSERT INTO time (hour,day,month,year,date) VALUES (%s,%s,%s,%s,%s);\"\n",
    "        val = (hour,day,month,year,date)\n",
    "        mycursor.execute(sql, val)\n",
    "        mydb.commit()\n",
    "        # print(mycursor.rowcount, \"record inserted.\")\n",
    "        sql3 = \"SELECT * FROM time WHERE year = %s and month=%s and day=%s and hour=%s;\"\n",
    "        vals3 = (year, month, day, hour, )\n",
    "        mycursor.execute(sql3, vals3)\n",
    "        myresult = mycursor.fetchall()\n",
    "        return myresult[0][0]"
   ]
  },
  {
   "cell_type": "code",
   "execution_count": 12,
   "id": "72ece278",
   "metadata": {
    "execution": {
     "iopub.execute_input": "2021-06-24T23:37:51.557661Z",
     "iopub.status.busy": "2021-06-24T23:37:51.552751Z",
     "iopub.status.idle": "2021-06-24T23:37:51.655394Z",
     "shell.execute_reply": "2021-06-24T23:37:51.661093Z"
    },
    "jupyter": {
     "source_hidden": true
    },
    "papermill": {
     "duration": 0.176425,
     "end_time": "2021-06-24T23:37:51.663859",
     "exception": false,
     "start_time": "2021-06-24T23:37:51.487434",
     "status": "completed"
    },
    "tags": []
   },
   "outputs": [
    {
     "data": {
      "text/plain": [
       "7"
      ]
     },
     "execution_count": 12,
     "metadata": {},
     "output_type": "execute_result"
    }
   ],
   "source": [
    "hour = start_course.hour\n",
    "day  = start_course.day\n",
    "month= start_course.month\n",
    "year = start_course.year\n",
    "date = start_course.strftime(\"%Y-%m-%d %H:%M:%S\")\n",
    "id_time=add_time(hour,day,month,year,date)\n",
    "id_time"
   ]
  },
  {
   "cell_type": "code",
   "execution_count": 13,
   "id": "31b6b443",
   "metadata": {
    "execution": {
     "iopub.execute_input": "2021-06-24T23:37:51.835817Z",
     "iopub.status.busy": "2021-06-24T23:37:51.834249Z",
     "iopub.status.idle": "2021-06-24T23:37:52.348724Z",
     "shell.execute_reply": "2021-06-24T23:37:52.336349Z"
    },
    "jupyter": {
     "source_hidden": true
    },
    "papermill": {
     "duration": 0.578859,
     "end_time": "2021-06-24T23:37:52.350548",
     "exception": false,
     "start_time": "2021-06-24T23:37:51.771689",
     "status": "completed"
    },
    "scrolled": true,
    "tags": []
   },
   "outputs": [
    {
     "name": "stdout",
     "output_type": "stream",
     "text": [
      "student: 193\n",
      "student: 194\n",
      "student: 195\n",
      "student: 196\n",
      "student: 197\n",
      "student: 198\n",
      "student: 199\n",
      "student: 200\n",
      "student: 201\n",
      "student: 202\n",
      "student: 203\n",
      "student: 204\n",
      "student: 205\n",
      "student: 206\n",
      "student: 207\n"
     ]
    },
    {
     "name": "stdout",
     "output_type": "stream",
     "text": [
      "student: 208\n",
      "student: 209\n",
      "student: 210\n",
      "student: 211\n",
      "student: 212\n",
      "student: 213\n",
      "student: 214\n",
      "student: 215\n",
      "student: 216\n",
      "student: 217\n",
      "student: 218\n",
      "student: 219\n",
      "student: 220\n",
      "student: 221\n",
      "student: 222\n",
      "student: 223\n",
      "student:"
     ]
    },
    {
     "name": "stdout",
     "output_type": "stream",
     "text": [
      " 224\n"
     ]
    }
   ],
   "source": [
    "#ADD DS TO STUDENTS TABLE\n",
    "for index, row in df_ds.iterrows():\n",
    "    major=\"DS\"\n",
    "    name,gender,email,course,major = row[\"Nom\"],None,row[\"email\"],course,major\n",
    "    id_student=add_student(name,gender,email,course,major)\n",
    "    print(\"student:\",id_student)"
   ]
  },
  {
   "cell_type": "code",
   "execution_count": 14,
   "id": "43cfb06c",
   "metadata": {
    "execution": {
     "iopub.execute_input": "2021-06-24T23:37:52.673880Z",
     "iopub.status.busy": "2021-06-24T23:37:52.660949Z",
     "iopub.status.idle": "2021-06-24T23:37:52.753910Z",
     "shell.execute_reply": "2021-06-24T23:37:52.756360Z"
    },
    "jupyter": {
     "source_hidden": true
    },
    "papermill": {
     "duration": 0.229435,
     "end_time": "2021-06-24T23:37:52.763335",
     "exception": false,
     "start_time": "2021-06-24T23:37:52.533900",
     "status": "completed"
    },
    "scrolled": true,
    "tags": []
   },
   "outputs": [
    {
     "name": "stdout",
     "output_type": "stream",
     "text": [
      "student: 231\n"
     ]
    }
   ],
   "source": [
    "#ADD STUDENTS FROM LOG TO TABLE\n",
    "for index, row in df_log.iterrows():\n",
    "    if row[\"Rôle\"]!=\"Organisateur\":\n",
    "        result = df_ds[df_ds[\"email\"]==row[\"E-mail\"]]\n",
    "        if(len(result) > 0):\n",
    "            major=\"DS\"\n",
    "        else:\n",
    "            major=\"DSE\"\n",
    "        name,gender,email,course,major = row[\"Nom complet\"],None,row[\"E-mail\"],course,major\n",
    "        id_student=add_student(name,gender,email,course,major)\n",
    "        print(\"student:\",id_student)\n",
    "    else:\n",
    "        name,email = row[\"Nom complet\"],row[\"E-mail\"]\n",
    "        id_prof = add_professor(name,email)\n",
    "        print(\"professor:\",id_prof)"
   ]
  },
  {
   "cell_type": "code",
   "execution_count": 15,
   "id": "f3708b92",
   "metadata": {
    "execution": {
     "iopub.execute_input": "2021-06-24T23:37:52.917370Z",
     "iopub.status.busy": "2021-06-24T23:37:52.916043Z",
     "iopub.status.idle": "2021-06-24T23:37:52.923612Z",
     "shell.execute_reply": "2021-06-24T23:37:52.925949Z"
    },
    "jupyter": {
     "source_hidden": true
    },
    "papermill": {
     "duration": 0.074598,
     "end_time": "2021-06-24T23:37:52.926258",
     "exception": false,
     "start_time": "2021-06-24T23:37:52.851660",
     "status": "completed"
    },
    "tags": []
   },
   "outputs": [],
   "source": [
    "groups = df_log.groupby(\"E-mail\")"
   ]
  },
  {
   "cell_type": "code",
   "execution_count": 16,
   "id": "7924aacf",
   "metadata": {
    "execution": {
     "iopub.execute_input": "2021-06-24T23:37:53.117057Z",
     "iopub.status.busy": "2021-06-24T23:37:53.115607Z",
     "iopub.status.idle": "2021-06-24T23:37:53.171896Z",
     "shell.execute_reply": "2021-06-24T23:37:53.174270Z"
    },
    "jupyter": {
     "source_hidden": true
    },
    "papermill": {
     "duration": 0.19306,
     "end_time": "2021-06-24T23:37:53.174677",
     "exception": false,
     "start_time": "2021-06-24T23:37:52.981617",
     "status": "completed"
    },
    "tags": []
   },
   "outputs": [],
   "source": [
    "mydb = mysql.connector.connect(database=\"airflow_db\", user=\"db_kali\", password=\"123456789\", host=\"localhost\")\n",
    "mycursor = mydb.cursor()\n",
    "mycursor.execute(\"SELECT * FROM students\")\n",
    "myresult = mycursor.fetchall()\n",
    "emails=[]\n",
    "for result in myresult:\n",
    "    emails.append(result[3])"
   ]
  },
  {
   "cell_type": "code",
   "execution_count": 17,
   "id": "98dcdaad",
   "metadata": {
    "execution": {
     "iopub.execute_input": "2021-06-24T23:37:53.369006Z",
     "iopub.status.busy": "2021-06-24T23:37:53.363356Z",
     "iopub.status.idle": "2021-06-24T23:37:53.377125Z",
     "shell.execute_reply": "2021-06-24T23:37:53.378638Z"
    },
    "jupyter": {
     "source_hidden": true
    },
    "papermill": {
     "duration": 0.120512,
     "end_time": "2021-06-24T23:37:53.379030",
     "exception": false,
     "start_time": "2021-06-24T23:37:53.258518",
     "status": "completed"
    },
    "scrolled": true,
    "tags": []
   },
   "outputs": [
    {
     "name": "stdout",
     "output_type": "stream",
     "text": [
      "amenani@insea.ac.ma\n",
      "amsanoussilabo@insea.ac.ma\n",
      "aezzouine@insea.ac.ma \n",
      "aajarray@insea.ac.ma\n",
      "acheddad@insea.ac.ma\n",
      "aelomairi@insea.ac.ma\n",
      "asinare@insea.ac.ma\n",
      "aoussar@insea.ac.ma\n",
      "ahamdi@insea.ac.ma\n",
      "aelhadine@insea.ac.ma\n",
      "cbelkarkor@insea.ac.ma\n",
      "cbenallalhassani@insea.ac.ma\n",
      "hchafai@insea.ac.ma\n",
      "hhoumane@insea.ac.ma\n",
      "hdah@insea.ac.ma\n",
      "hlagramez@insea.ac.ma\n",
      "imourad@insea.ac.ma\n",
      "ikonkobo@insea.ac.ma\n",
      "ibelmezouar@insea.ac.ma\n",
      "kbensatti@insea.ac.ma\n",
      "yakhallouq@insea.ac.ma\n",
      "mamallah@insea.ac.ma\n",
      "magouram@insea.ac.ma\n",
      "msidibe@insea.ac.ma\n",
      "nchahboun@insea.ac.ma\n",
      "rouhmiz@insea.ac.ma\n",
      "selhairech@insea.ac.ma\n",
      "sdaouaji@insea.ac.ma\n",
      "tmajjati@insea.ac.ma\n",
      "yelhilali@insea.ac.ma\n",
      "yamaghoss@insea.ac.ma\n",
      "ysadki@insea.ac.ma\n",
      "hbounar@insea.ac.ma\n",
      "sboukili@insea.ac.ma\n",
      "aelfadili@insea.ac.ma\n",
      "zjaafari@insea.ac.ma\n",
      "seaouari@insea.ac.ma\n",
      "hboudinar@insea.ac.ma\n",
      "helmouhsine@insea.ac.ma\n",
      "fbanah@insea.ac.ma\n",
      "selhasnaoui@insea.ac.ma\n",
      "abalij@insea.ac.ma\n",
      "hmehdioui@insea.ac.ma\n",
      "smellak@insea.ac.ma\n",
      "ohabiballah@insea.ac.ma\n",
      "amamansouley@insea.ac.ma\n",
      "zrhosne@insea.ac.ma\n",
      "yfadoul@insea.ac.ma\n",
      "msangare@insea.ac.ma\n",
      "ooucouc@insea.ac.ma\n",
      "aoubaha@insea.ac.ma\n",
      "aelbahji@insea.ac.ma\n",
      "selkhyati@insea.ac.ma\n",
      "olaabadia@insea.ac.ma\n",
      "kkajja@insea.ac.ma\n",
      "catraoui@insea.ac.ma\n",
      "cbouzouf@insea.ac.ma\n",
      "amakrane@insea.ac.ma\n",
      "mafarfaoua@insea.ac.ma\n",
      "oyousr@insea.ac.ma\n",
      "ymouzaki@insea.ac.ma\n",
      "nchigr@insea.ac.ma\n",
      "alaachir@insea.ac.ma\n",
      "fdani@insea.ac.ma\n",
      "hgaoui@insea.ac.ma\n",
      "yaitmalek@insea.ac.ma\n",
      "selmouslih@insea.ac.ma\n",
      "yzouhri@insea.ac.ma\n",
      "esoummer@insea.ac.ma\n",
      "satiche@insea.ac.ma\n",
      "helouafi@insea.ac.ma\n",
      "szarrouq@insea.ac.ma\n",
      "olamhamdialaoui@insea.ac.ma\n",
      "aelkassmi@insea.ac.ma\n",
      "tebouzelmad@insea.ac.ma\n",
      "smaatouf@insea.ac.ma\n",
      "yaitmha@insea.ac.ma\n",
      "aramoudi@insea.ac.ma\n",
      "hhabbouza@insea.ac.ma\n"
     ]
    }
   ],
   "source": [
    "print(\"\\n\".join(emails))"
   ]
  },
  {
   "cell_type": "code",
   "execution_count": 18,
   "id": "a5f68fe7",
   "metadata": {
    "execution": {
     "iopub.execute_input": "2021-06-24T23:37:53.511929Z",
     "iopub.status.busy": "2021-06-24T23:37:53.510125Z",
     "iopub.status.idle": "2021-06-24T23:37:54.397276Z",
     "shell.execute_reply": "2021-06-24T23:37:54.400008Z"
    },
    "jupyter": {
     "source_hidden": true
    },
    "papermill": {
     "duration": 0.959857,
     "end_time": "2021-06-24T23:37:54.400434",
     "exception": false,
     "start_time": "2021-06-24T23:37:53.440577",
     "status": "completed"
    },
    "scrolled": true,
    "tags": []
   },
   "outputs": [
    {
     "name": "stdout",
     "output_type": "stream",
     "text": [
      "not found 'amenani@insea.ac.ma'\n"
     ]
    },
    {
     "name": "stdout",
     "output_type": "stream",
     "text": [
      "not found 'amsanoussilabo@insea.ac.ma'\n",
      "not found 'aezzouine@insea.ac.ma '\n",
      "not found 'aajarray@insea.ac.ma'\n",
      "not found 'acheddad@insea.ac.ma'\n",
      "not found 'aelomairi@insea.ac.ma'\n",
      "not found 'asinare@insea.ac.ma'\n",
      "not found 'aoussar@insea.ac.ma'\n",
      "not found 'ahamdi@insea.ac.ma'\n",
      "not found 'aelhadine@insea.ac.ma'\n",
      "not found 'cbelkarkor@insea.ac.ma'\n",
      "not found 'cbenallalhassani@insea.ac.ma'\n",
      "not found 'hchafai@insea.ac.ma'\n",
      "not found 'hhoumane@insea.ac.ma'\n",
      "not found 'hdah@insea.ac.ma'\n",
      "not found 'hlagramez@insea.ac.ma'\n",
      "not found 'imourad@insea.ac.ma'\n",
      "not found 'ikonkobo@insea.ac.ma'\n",
      "not found 'ibelmezouar@insea.ac.ma'\n",
      "not found 'kbensatti@insea.ac.ma'\n",
      "not found 'yakhallouq@insea.ac.ma'\n",
      "not found 'mamallah@insea.ac.ma'\n",
      "not found 'magouram@insea.ac.ma'\n",
      "not found 'msidibe@insea.ac.ma'\n"
     ]
    },
    {
     "name": "stdout",
     "output_type": "stream",
     "text": [
      "not found 'nchahboun@insea.ac.ma'\n"
     ]
    },
    {
     "name": "stdout",
     "output_type": "stream",
     "text": [
      "not found 'rouhmiz@insea.ac.ma'\n",
      "not found 'selhairech@insea.ac.ma'\n",
      "not found 'sdaouaji@insea.ac.ma'\n",
      "not found 'tmajjati@insea.ac.ma'\n",
      "not found 'yelhilali@insea.ac.ma'\n",
      "not found 'yamaghoss@insea.ac.ma'\n",
      "not found 'ysadki@insea.ac.ma'\n",
      "not found 'hbounar@insea.ac.ma'\n",
      "not found 'sboukili@insea.ac.ma'\n",
      "not found 'aelfadili@insea.ac.ma'\n",
      "not found 'zjaafari@insea.ac.ma'\n",
      "not found 'seaouari@insea.ac.ma'\n",
      "not found 'hboudinar@insea.ac.ma'\n"
     ]
    },
    {
     "name": "stdout",
     "output_type": "stream",
     "text": [
      "student: 231\n",
      "not found 'fbanah@insea.ac.ma'\n",
      "not found 'selhasnaoui@insea.ac.ma'\n",
      "not found 'abalij@insea.ac.ma'\n",
      "not found 'hmehdioui@insea.ac.ma'\n",
      "not found 'smellak@insea.ac.ma'\n",
      "not found 'ohabiballah@insea.ac.ma'\n",
      "not found 'amamansouley@insea.ac.ma'\n",
      "not found 'zrhosne@insea.ac.ma'\n",
      "not found 'yfadoul@insea.ac.ma'\n",
      "not found 'msangare@insea.ac.ma'\n",
      "not found 'ooucouc@insea.ac.ma'\n",
      "not found 'aoubaha@insea.ac.ma'\n",
      "not found 'aelbahji@insea.ac.ma'\n",
      "not found 'selkhyati@insea.ac.ma'\n",
      "not found 'olaabadia@insea.ac.ma'\n",
      "not found 'kkajja@insea.ac.ma'\n",
      "not found 'catraoui@insea.ac.ma'\n",
      "not found 'cbouzouf@insea.ac.ma'\n",
      "not found 'amakrane@insea.ac.ma'\n"
     ]
    },
    {
     "name": "stdout",
     "output_type": "stream",
     "text": [
      "not found 'mafarfaoua@insea.ac.ma'\n",
      "not found 'oyousr@insea.ac.ma'\n",
      "not found 'ymouzaki@insea.ac.ma'\n",
      "not found 'nchigr@insea.ac.ma'\n",
      "not found 'alaachir@insea.ac.ma'\n",
      "not found 'fdani@insea.ac.ma'\n",
      "not found 'hgaoui@insea.ac.ma'\n",
      "not found 'yaitmalek@insea.ac.ma'\n",
      "not found 'selmouslih@insea.ac.ma'\n",
      "not found 'yzouhri@insea.ac.ma'\n",
      "not found 'esoummer@insea.ac.ma'\n",
      "not found 'satiche@insea.ac.ma'\n",
      "not found 'helouafi@insea.ac.ma'\n",
      "not found 'szarrouq@insea.ac.ma'\n",
      "not found 'olamhamdialaoui@insea.ac.ma'\n",
      "not found 'aelkassmi@insea.ac.ma'\n",
      "not found 'tebouzelmad@insea.ac.ma'\n",
      "not found 'smaatouf@insea.ac.ma'\n",
      "not found 'yaitmha@insea.ac.ma'\n",
      "not found 'aramoudi@insea.ac.ma'\n",
      "not found 'hhabbouza@insea.ac.ma'\n"
     ]
    }
   ],
   "source": [
    "\n",
    "for email in emails:\n",
    "    name,gender,email,course,major = None,None,email,course,None\n",
    "    id_student=add_student(name,gender,email,course,major)\n",
    "    try:\n",
    "        data = groups.get_group(email).reset_index()\n",
    "        nb_abs = 0\n",
    "        #DURATION\n",
    "        duration=0\n",
    "        got_first_start=False\n",
    "        for index, row in data.iterrows():\n",
    "            start_str = row[\"Heure d'arrivée\"].replace(\" à\",\"\")\n",
    "            end_str   = row[\"Heure de départ\"].replace(\" à\",\"\")\n",
    "            start = datetime.datetime.strptime(start_str, '%d/%m/%Y %H:%M:%S')\n",
    "            end = datetime.datetime.strptime(end_str, '%d/%m/%Y %H:%M:%S')\n",
    "            duration = duration + ((end-start).total_seconds() / 60.0)\n",
    "            if not got_first_start:\n",
    "                got_first_start = True\n",
    "                first_start = start\n",
    "        if duration > 120:\n",
    "            duration=120\n",
    "        #NB LATES  \n",
    "        if ((first_start-start_course).total_seconds() / 60.0) > 15:\n",
    "            nb_lates = 1\n",
    "        else:\n",
    "            nb_lates = 0\n",
    "        \n",
    "        nb_pres = 1\n",
    "        \n",
    "        #ABS DURATION\n",
    "        abs_duration = 120-duration\n",
    "        \n",
    "        #DURATION IN INTEGER IN DB!\n",
    "        duration = int(duration)\n",
    "        \n",
    "        #is student\n",
    "        print(\"student:\",id_student)\n",
    "        if duration <= 15:\n",
    "            nb_abs = 1\n",
    "            nb_lates=0\n",
    "            nb_pres=0\n",
    "    \n",
    "    except KeyError as e:\n",
    "        print(\"not found\",e)\n",
    "        nb_abs = 1\n",
    "        abs_duration = 120\n",
    "        nb_lates=0\n",
    "        nb_pres=0\n",
    "        duration=0\n",
    "    #insert to data mart now\n",
    "    try:\n",
    "        mydb = mysql.connector.connect(database=\"airflow_db\", user=\"db_kali\", password=\"123456789\", host=\"localhost\")\n",
    "        mycursor = mydb.cursor()\n",
    "        sql = \"INSERT INTO fact_table (id_time,id_prof,id_student,nb_abs,abs_duration,nb_lates,nb_pres,duration) VALUES (%s,%s,%s,%s,%s,%s,%s,%s);\"\n",
    "        val = (id_time,id_prof,id_student,nb_abs,abs_duration,nb_lates,nb_pres,duration)\n",
    "        mycursor.execute(sql, val)\n",
    "        mydb.commit()\n",
    "    except :\n",
    "        continue"
   ]
  },
  {
   "cell_type": "code",
   "execution_count": 19,
   "id": "0067bcb5",
   "metadata": {
    "execution": {
     "iopub.execute_input": "2021-06-24T23:37:54.555394Z",
     "iopub.status.busy": "2021-06-24T23:37:54.553703Z",
     "iopub.status.idle": "2021-06-24T23:37:54.628272Z",
     "shell.execute_reply": "2021-06-24T23:37:54.637700Z"
    },
    "jupyter": {
     "source_hidden": true
    },
    "papermill": {
     "duration": 0.163996,
     "end_time": "2021-06-24T23:37:54.638099",
     "exception": false,
     "start_time": "2021-06-24T23:37:54.474103",
     "status": "completed"
    },
    "tags": []
   },
   "outputs": [
    {
     "data": {
      "text/plain": [
       "0"
      ]
     },
     "execution_count": 19,
     "metadata": {},
     "output_type": "execute_result"
    }
   ],
   "source": [
    "os.system(f'mv \"{input_file}\" \"/home/kali/project/processed/\"')"
   ]
  }
 ],
 "metadata": {
  "kernelspec": {
   "display_name": "Python 3",
   "language": "python",
   "name": "python3"
  },
  "language_info": {
   "codemirror_mode": {
    "name": "ipython",
    "version": 3
   },
   "file_extension": ".py",
   "mimetype": "text/x-python",
   "name": "python",
   "nbconvert_exporter": "python",
   "pygments_lexer": "ipython3",
   "version": "3.7.5"
  },
  "papermill": {
   "default_parameters": {},
   "duration": 12.446646,
   "end_time": "2021-06-24T23:37:56.237861",
   "environment_variables": {},
   "exception": null,
   "input_path": "/home/kali/project/process_input_list.ipynb",
   "output_path": "/home/kali/project/outs/out-process_input_list2021-06-24T23:37:17.064075+00:00.ipynb",
   "parameters": {
    "msgs": "Ran from Airflow at 2021-06-24T23:37:17.064075+00:00!"
   },
   "start_time": "2021-06-24T23:37:43.791215",
   "version": "2.3.3"
  }
 },
 "nbformat": 4,
 "nbformat_minor": 5
}