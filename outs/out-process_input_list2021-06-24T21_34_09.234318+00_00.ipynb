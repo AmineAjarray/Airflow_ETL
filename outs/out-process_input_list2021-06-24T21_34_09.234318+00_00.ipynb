{
 "cells": [
  {
   "cell_type": "code",
   "execution_count": 1,
   "id": "96655c86",
   "metadata": {
    "execution": {
     "iopub.execute_input": "2021-06-24T21:38:52.392341Z",
     "iopub.status.busy": "2021-06-24T21:38:52.368795Z",
     "iopub.status.idle": "2021-06-24T21:38:52.492531Z",
     "shell.execute_reply": "2021-06-24T21:38:52.494622Z"
    },
    "jupyter": {
     "source_hidden": true
    },
    "papermill": {
     "duration": 0.351488,
     "end_time": "2021-06-24T21:38:52.495131",
     "exception": false,
     "start_time": "2021-06-24T21:38:52.143643",
     "status": "completed"
    },
    "tags": [
     "injected-parameters"
    ]
   },
   "outputs": [],
   "source": [
    "# Parameters\n",
    "msgs = \"Ran from Airflow at 2021-06-24T21:34:09.234318+00:00!\"\n"
   ]
  },
  {
   "cell_type": "code",
   "execution_count": 2,
   "id": "13c6f718",
   "metadata": {
    "execution": {
     "iopub.execute_input": "2021-06-24T21:38:52.684937Z",
     "iopub.status.busy": "2021-06-24T21:38:52.682814Z",
     "iopub.status.idle": "2021-06-24T21:38:54.400280Z",
     "shell.execute_reply": "2021-06-24T21:38:54.397930Z"
    },
    "jupyter": {
     "source_hidden": true
    },
    "papermill": {
     "duration": 1.774083,
     "end_time": "2021-06-24T21:38:54.400639",
     "exception": false,
     "start_time": "2021-06-24T21:38:52.626556",
     "status": "completed"
    },
    "tags": []
   },
   "outputs": [],
   "source": [
    "import pandas as pd\n",
    "import mysql.connector\n",
    "import os\n",
    "#import json\n",
    "import datetime"
   ]
  },
  {
   "cell_type": "code",
   "execution_count": 3,
   "id": "f49514fe",
   "metadata": {
    "execution": {
     "iopub.execute_input": "2021-06-24T21:38:54.519181Z",
     "iopub.status.busy": "2021-06-24T21:38:54.517854Z",
     "iopub.status.idle": "2021-06-24T21:38:54.541114Z",
     "shell.execute_reply": "2021-06-24T21:38:54.542275Z"
    },
    "jupyter": {
     "source_hidden": true
    },
    "papermill": {
     "duration": 0.088832,
     "end_time": "2021-06-24T21:38:54.542571",
     "exception": false,
     "start_time": "2021-06-24T21:38:54.453739",
     "status": "completed"
    },
    "tags": []
   },
   "outputs": [
    {
     "name": "stdout",
     "output_type": "stream",
     "text": [
      "will process: /home/kali/project/input/meetingAttendanceReport(General) (1).csv\n"
     ]
    }
   ],
   "source": [
    "with open(\"/home/kali/project/input_config.txt\") as f:\n",
    "    input_file=f.readline()\n",
    "print(\"will process:\",input_file)"
   ]
  },
  {
   "cell_type": "code",
   "execution_count": 4,
   "id": "6d2ea9e2",
   "metadata": {
    "execution": {
     "iopub.execute_input": "2021-06-24T21:38:54.692650Z",
     "iopub.status.busy": "2021-06-24T21:38:54.690937Z",
     "iopub.status.idle": "2021-06-24T21:38:54.707524Z",
     "shell.execute_reply": "2021-06-24T21:38:54.709484Z"
    },
    "jupyter": {
     "source_hidden": true
    },
    "papermill": {
     "duration": 0.116647,
     "end_time": "2021-06-24T21:38:54.709815",
     "exception": false,
     "start_time": "2021-06-24T21:38:54.593168",
     "status": "completed"
    },
    "tags": []
   },
   "outputs": [],
   "source": [
    "meta_data=[]\n",
    "log_call=[]\n",
    "lines=[]\n",
    "with open(input_file,encoding=\"utf-16\") as f:\n",
    "    lines=f.readlines()\n",
    "meta_data=lines[0:5]\n",
    "log_call=lines[6:]"
   ]
  },
  {
   "cell_type": "code",
   "execution_count": 5,
   "id": "03a595c6",
   "metadata": {
    "execution": {
     "iopub.execute_input": "2021-06-24T21:38:54.876062Z",
     "iopub.status.busy": "2021-06-24T21:38:54.874938Z",
     "iopub.status.idle": "2021-06-24T21:38:54.991604Z",
     "shell.execute_reply": "2021-06-24T21:38:54.994545Z"
    },
    "jupyter": {
     "source_hidden": true
    },
    "papermill": {
     "duration": 0.222085,
     "end_time": "2021-06-24T21:38:54.995033",
     "exception": false,
     "start_time": "2021-06-24T21:38:54.772948",
     "status": "completed"
    },
    "scrolled": true,
    "tags": []
   },
   "outputs": [
    {
     "data": {
      "text/plain": [
       "'General'"
      ]
     },
     "execution_count": 5,
     "metadata": {},
     "output_type": "execute_result"
    }
   ],
   "source": [
    "course = meta_data[2].replace(\"Titre de la réunion\\t\",\"\").replace(\"\\n\",\"\")\n",
    "course"
   ]
  },
  {
   "cell_type": "code",
   "execution_count": 6,
   "id": "7c932598",
   "metadata": {
    "execution": {
     "iopub.execute_input": "2021-06-24T21:38:55.136038Z",
     "iopub.status.busy": "2021-06-24T21:38:55.134818Z",
     "iopub.status.idle": "2021-06-24T21:38:55.290727Z",
     "shell.execute_reply": "2021-06-24T21:38:55.292909Z"
    },
    "jupyter": {
     "source_hidden": true
    },
    "papermill": {
     "duration": 0.235467,
     "end_time": "2021-06-24T21:38:55.293261",
     "exception": false,
     "start_time": "2021-06-24T21:38:55.057794",
     "status": "completed"
    },
    "tags": []
   },
   "outputs": [
    {
     "data": {
      "text/html": [
       "<div>\n",
       "<style scoped>\n",
       "    .dataframe tbody tr th:only-of-type {\n",
       "        vertical-align: middle;\n",
       "    }\n",
       "\n",
       "    .dataframe tbody tr th {\n",
       "        vertical-align: top;\n",
       "    }\n",
       "\n",
       "    .dataframe thead th {\n",
       "        text-align: right;\n",
       "    }\n",
       "</style>\n",
       "<table border=\"1\" class=\"dataframe\">\n",
       "  <thead>\n",
       "    <tr style=\"text-align: right;\">\n",
       "      <th></th>\n",
       "      <th>Nom complet</th>\n",
       "      <th>Heure d'arrivée</th>\n",
       "      <th>Heure de départ</th>\n",
       "      <th>Durée</th>\n",
       "      <th>E-mail</th>\n",
       "      <th>Rôle</th>\n",
       "    </tr>\n",
       "  </thead>\n",
       "  <tbody>\n",
       "    <tr>\n",
       "      <th>0</th>\n",
       "      <td>Imade BENELALLAM</td>\n",
       "      <td>30/03/2021 à 14:01:32</td>\n",
       "      <td>30/03/2021 à 16:04:55</td>\n",
       "      <td>2 h 3 m</td>\n",
       "      <td>i.benelallam@insea.ac.ma</td>\n",
       "      <td>Organisateur</td>\n",
       "    </tr>\n",
       "    <tr>\n",
       "      <th>1</th>\n",
       "      <td>Chaimaa BELKARKOR</td>\n",
       "      <td>30/03/2021 à 14:01:40</td>\n",
       "      <td>30/03/2021 à 16:06:37</td>\n",
       "      <td>2 h 4 m</td>\n",
       "      <td>cbelkarkor@insea.ac.ma</td>\n",
       "      <td>Présentateur</td>\n",
       "    </tr>\n",
       "    <tr>\n",
       "      <th>2</th>\n",
       "      <td>Niima CHIGR</td>\n",
       "      <td>30/03/2021 à 14:01:47</td>\n",
       "      <td>30/03/2021 à 16:05:29</td>\n",
       "      <td>2 h 3 m</td>\n",
       "      <td>nchigr@insea.ac.ma</td>\n",
       "      <td>Présentateur</td>\n",
       "    </tr>\n",
       "    <tr>\n",
       "      <th>3</th>\n",
       "      <td>Achraf BALIJ</td>\n",
       "      <td>30/03/2021 à 14:02:06</td>\n",
       "      <td>30/03/2021 à 16:05:04</td>\n",
       "      <td>2 h 2 m</td>\n",
       "      <td>abalij@insea.ac.ma</td>\n",
       "      <td>Présentateur</td>\n",
       "    </tr>\n",
       "    <tr>\n",
       "      <th>4</th>\n",
       "      <td>Zakariae JAAFARI</td>\n",
       "      <td>30/03/2021 à 14:02:09</td>\n",
       "      <td>30/03/2021 à 16:05:03</td>\n",
       "      <td>2 h 2 m</td>\n",
       "      <td>zjaafari@insea.ac.ma</td>\n",
       "      <td>Présentateur</td>\n",
       "    </tr>\n",
       "    <tr>\n",
       "      <th>...</th>\n",
       "      <td>...</td>\n",
       "      <td>...</td>\n",
       "      <td>...</td>\n",
       "      <td>...</td>\n",
       "      <td>...</td>\n",
       "      <td>...</td>\n",
       "    </tr>\n",
       "    <tr>\n",
       "      <th>85</th>\n",
       "      <td>Achraf RAMOUDI</td>\n",
       "      <td>30/03/2021 à 14:38:27</td>\n",
       "      <td>30/03/2021 à 16:12:48</td>\n",
       "      <td>1 h 34 m</td>\n",
       "      <td>aramoudi@insea.ac.ma</td>\n",
       "      <td>Présentateur</td>\n",
       "    </tr>\n",
       "    <tr>\n",
       "      <th>86</th>\n",
       "      <td>Youness MOUZAKI</td>\n",
       "      <td>30/03/2021 à 15:17:52</td>\n",
       "      <td>30/03/2021 à 16:05:02</td>\n",
       "      <td>47 m 9 s</td>\n",
       "      <td>ymouzaki@insea.ac.ma</td>\n",
       "      <td>Présentateur</td>\n",
       "    </tr>\n",
       "    <tr>\n",
       "      <th>87</th>\n",
       "      <td>Hamdi HABBOUZA</td>\n",
       "      <td>30/03/2021 à 15:24:12</td>\n",
       "      <td>30/03/2021 à 16:08:04</td>\n",
       "      <td>43 m 52 s</td>\n",
       "      <td>hhabbouza@insea.ac.ma</td>\n",
       "      <td>Présentateur</td>\n",
       "    </tr>\n",
       "    <tr>\n",
       "      <th>88</th>\n",
       "      <td>Ayoub ELHADINE</td>\n",
       "      <td>30/03/2021 à 15:28:27</td>\n",
       "      <td>30/03/2021 à 16:01:32</td>\n",
       "      <td>33 m 4 s</td>\n",
       "      <td>aelhadine@insea.ac.ma</td>\n",
       "      <td>Présentateur</td>\n",
       "    </tr>\n",
       "    <tr>\n",
       "      <th>89</th>\n",
       "      <td>Ayoub ELHADINE</td>\n",
       "      <td>30/03/2021 à 16:02:51</td>\n",
       "      <td>30/03/2021 à 16:05:03</td>\n",
       "      <td>2 m 12 s</td>\n",
       "      <td>aelhadine@insea.ac.ma</td>\n",
       "      <td>Présentateur</td>\n",
       "    </tr>\n",
       "  </tbody>\n",
       "</table>\n",
       "<p>90 rows × 6 columns</p>\n",
       "</div>"
      ],
      "text/plain": [
       "          Nom complet        Heure d'arrivée        Heure de départ  \\\n",
       "0    Imade BENELALLAM  30/03/2021 à 14:01:32  30/03/2021 à 16:04:55   \n",
       "1   Chaimaa BELKARKOR  30/03/2021 à 14:01:40  30/03/2021 à 16:06:37   \n",
       "2         Niima CHIGR  30/03/2021 à 14:01:47  30/03/2021 à 16:05:29   \n",
       "3        Achraf BALIJ  30/03/2021 à 14:02:06  30/03/2021 à 16:05:04   \n",
       "4    Zakariae JAAFARI  30/03/2021 à 14:02:09  30/03/2021 à 16:05:03   \n",
       "..                ...                    ...                    ...   \n",
       "85     Achraf RAMOUDI  30/03/2021 à 14:38:27  30/03/2021 à 16:12:48   \n",
       "86    Youness MOUZAKI  30/03/2021 à 15:17:52  30/03/2021 à 16:05:02   \n",
       "87     Hamdi HABBOUZA  30/03/2021 à 15:24:12  30/03/2021 à 16:08:04   \n",
       "88     Ayoub ELHADINE  30/03/2021 à 15:28:27  30/03/2021 à 16:01:32   \n",
       "89     Ayoub ELHADINE  30/03/2021 à 16:02:51  30/03/2021 à 16:05:03   \n",
       "\n",
       "        Durée                    E-mail          Rôle  \n",
       "0     2 h 3 m  i.benelallam@insea.ac.ma  Organisateur  \n",
       "1     2 h 4 m    cbelkarkor@insea.ac.ma  Présentateur  \n",
       "2     2 h 3 m        nchigr@insea.ac.ma  Présentateur  \n",
       "3     2 h 2 m        abalij@insea.ac.ma  Présentateur  \n",
       "4     2 h 2 m      zjaafari@insea.ac.ma  Présentateur  \n",
       "..        ...                       ...           ...  \n",
       "85   1 h 34 m      aramoudi@insea.ac.ma  Présentateur  \n",
       "86   47 m 9 s      ymouzaki@insea.ac.ma  Présentateur  \n",
       "87  43 m 52 s     hhabbouza@insea.ac.ma  Présentateur  \n",
       "88   33 m 4 s     aelhadine@insea.ac.ma  Présentateur  \n",
       "89   2 m 12 s     aelhadine@insea.ac.ma  Présentateur  \n",
       "\n",
       "[90 rows x 6 columns]"
      ]
     },
     "execution_count": 6,
     "metadata": {},
     "output_type": "execute_result"
    }
   ],
   "source": [
    "with open(f\"/home/kali/project/output/log_{input_file.split('/')[-1]}\",\"w\") as f:\n",
    "    for value in log_call:\n",
    "        f.write(value)\n",
    "    f.close()\n",
    "df_log = pd.read_csv(f\"/home/kali/project/output/log_{input_file.split('/')[-1]}\",sep=\"\\t\")\n",
    "df_log"
   ]
  },
  {
   "cell_type": "code",
   "execution_count": 7,
   "id": "7f7b9fa1",
   "metadata": {
    "execution": {
     "iopub.execute_input": "2021-06-24T21:38:55.506981Z",
     "iopub.status.busy": "2021-06-24T21:38:55.505336Z",
     "iopub.status.idle": "2021-06-24T21:38:55.521857Z",
     "shell.execute_reply": "2021-06-24T21:38:55.523930Z"
    },
    "jupyter": {
     "source_hidden": true
    },
    "papermill": {
     "duration": 0.114038,
     "end_time": "2021-06-24T21:38:55.524362",
     "exception": false,
     "start_time": "2021-06-24T21:38:55.410324",
     "status": "completed"
    },
    "tags": []
   },
   "outputs": [],
   "source": [
    "start_str = meta_data[3].replace(\"Heure de début de la réunion\\t\",\"\").replace(\"\\n\",\"\").replace(\" à\",\"\")\n",
    "end_str   = meta_data[4].replace(\"Heure de fin\\t\",\"\").replace(\"\\n\",\"\").replace(\" à\",\"\")\n",
    "start_course = datetime.datetime.strptime(start_str, '%d/%m/%Y %H:%M:%S')\n",
    "end_course = datetime.datetime.strptime(end_str, '%d/%m/%Y %H:%M:%S')"
   ]
  },
  {
   "cell_type": "code",
   "execution_count": 8,
   "id": "270a1bba",
   "metadata": {
    "execution": {
     "iopub.execute_input": "2021-06-24T21:38:55.653524Z",
     "iopub.status.busy": "2021-06-24T21:38:55.650932Z",
     "iopub.status.idle": "2021-06-24T21:38:56.895135Z",
     "shell.execute_reply": "2021-06-24T21:38:56.892965Z"
    },
    "jupyter": {
     "source_hidden": true
    },
    "papermill": {
     "duration": 1.304702,
     "end_time": "2021-06-24T21:38:56.895500",
     "exception": false,
     "start_time": "2021-06-24T21:38:55.590798",
     "status": "completed"
    },
    "tags": []
   },
   "outputs": [],
   "source": [
    "df_ds = pd.read_excel(\"/home/kali/project/lists_excel/Liste des 2èmes années DS.xlsx\")\n",
    "#df_dse = pd.read_excel(\"/home/kali/notebook/project2/lists_excel/Liste 2A DSE.xlsx\")"
   ]
  },
  {
   "cell_type": "code",
   "execution_count": 9,
   "id": "3b19bbfa",
   "metadata": {
    "execution": {
     "iopub.execute_input": "2021-06-24T21:38:57.101993Z",
     "iopub.status.busy": "2021-06-24T21:38:57.094485Z",
     "iopub.status.idle": "2021-06-24T21:38:57.286193Z",
     "shell.execute_reply": "2021-06-24T21:38:57.290131Z"
    },
    "jupyter": {
     "source_hidden": true
    },
    "papermill": {
     "duration": 0.295534,
     "end_time": "2021-06-24T21:38:57.290579",
     "exception": false,
     "start_time": "2021-06-24T21:38:56.995045",
     "status": "completed"
    },
    "tags": []
   },
   "outputs": [],
   "source": [
    "mydb = mysql.connector.connect(database=\"airflow_db\", user=\"db_kali\", password=\"123456789\", host=\"localhost\")"
   ]
  },
  {
   "cell_type": "code",
   "execution_count": 10,
   "id": "74c1959a",
   "metadata": {
    "execution": {
     "iopub.execute_input": "2021-06-24T21:38:57.456387Z",
     "iopub.status.busy": "2021-06-24T21:38:57.451431Z",
     "iopub.status.idle": "2021-06-24T21:38:57.461221Z",
     "shell.execute_reply": "2021-06-24T21:38:57.463397Z"
    },
    "jupyter": {
     "source_hidden": true
    },
    "papermill": {
     "duration": 0.072171,
     "end_time": "2021-06-24T21:38:57.463835",
     "exception": false,
     "start_time": "2021-06-24T21:38:57.391664",
     "status": "completed"
    },
    "tags": []
   },
   "outputs": [],
   "source": [
    "#mycursor = mydb.cursor()\n",
    "#table=\"fact_table\"\n",
    "#mycursor.execute(f\"SELECT * FROM information_schema.columns WHERE table_schema = 'biabsence' AND table_name   = '{table}' ;\")\n",
    "#myresult = mycursor.fetchall()\n",
    "#for value in myresult:\n",
    "#    print(value[3],\":\",value[7])"
   ]
  },
  {
   "cell_type": "code",
   "execution_count": 11,
   "id": "f0b1542d",
   "metadata": {
    "execution": {
     "iopub.execute_input": "2021-06-24T21:38:57.572144Z",
     "iopub.status.busy": "2021-06-24T21:38:57.566582Z",
     "iopub.status.idle": "2021-06-24T21:38:57.639572Z",
     "shell.execute_reply": "2021-06-24T21:38:57.641217Z"
    },
    "jupyter": {
     "source_hidden": true
    },
    "papermill": {
     "duration": 0.130682,
     "end_time": "2021-06-24T21:38:57.641486",
     "exception": false,
     "start_time": "2021-06-24T21:38:57.510804",
     "status": "completed"
    },
    "tags": []
   },
   "outputs": [],
   "source": [
    "def add_student(name,gender,email,course,major):\n",
    "    mydb = mysql.connector.connect(database=\"airflow_db\", user=\"db_kali\", password=\"123456789\", host=\"localhost\") \n",
    "    mycursor = mydb.cursor()\n",
    "    sql1 = \"SELECT * FROM students where email = %s;\"\n",
    "    vals1 = (email,)\n",
    "    mycursor.execute(sql1, vals1)\n",
    "    myresult = mycursor.fetchall()\n",
    "    if len(myresult) != 0:\n",
    "        return myresult[0][0]\n",
    "    if len(myresult) == 0:\n",
    "        sql = \"INSERT INTO students (name,gender,email,course,major) VALUES (%s,%s,%s,%s,%s);\"\n",
    "        val = (name,gender,email,course,major)\n",
    "        mycursor.execute(sql, val)\n",
    "        mydb.commit()\n",
    "        # print(mycursor.rowcount, \"record inserted.\")\n",
    "        sql3 = \"SELECT * FROM students where email = %s;\"\n",
    "        vals3 = (email,)\n",
    "        mycursor.execute(sql3, vals3)\n",
    "        myresult = mycursor.fetchall()\n",
    "        return myresult[0][0]\n",
    "    \n",
    "def add_professor(name,email):\n",
    "    mydb = mysql.connector.connect(database=\"airflow_db\", user=\"db_kali\", password=\"123456789\", host=\"localhost\") \n",
    "    mycursor = mydb.cursor()\n",
    "    sql1 = \"SELECT * FROM professors where email = %s;\"\n",
    "    vals1 = (email, )\n",
    "    mycursor.execute(sql1, vals1)\n",
    "    myresult = mycursor.fetchall()\n",
    "    if len(myresult) != 0:\n",
    "        return myresult[0][0]\n",
    "    if len(myresult) == 0:\n",
    "        sql = \"INSERT INTO professors (name,email) VALUES (%s,%s);\"\n",
    "        val = (name,email,)\n",
    "        mycursor.execute(sql, val)\n",
    "        mydb.commit()\n",
    "        # print(mycursor.rowcount, \"record inserted.\")\n",
    "        sql3 = \"SELECT * FROM professors where email = %s;\"\n",
    "        vals3 = (email, )\n",
    "        mycursor.execute(sql1, vals1)\n",
    "        myresult = mycursor.fetchall()\n",
    "        return myresult[0][0]\n",
    "    \n",
    "def add_time(hour,day,month,year,date):\n",
    "    mydb = mysql.connector.connect(database=\"airflow_db\", user=\"db_kali\", password=\"123456789\", host=\"localhost\")\n",
    "    mycursor = mydb.cursor()\n",
    "    sql1 = \"SELECT * FROM time WHERE year = %s and month=%s and day=%s and hour=%s;\"\n",
    "    vals1 = (year, month, day, hour, )\n",
    "    mycursor.execute(sql1, vals1)\n",
    "    myresult = mycursor.fetchall()\n",
    "    if len(myresult) != 0:\n",
    "        return myresult[0][0]\n",
    "    if len(myresult) == 0:\n",
    "        sql = \"INSERT INTO time (hour,day,month,year,date) VALUES (%s,%s,%s,%s,%s);\"\n",
    "        val = (hour,day,month,year,date)\n",
    "        mycursor.execute(sql, val)\n",
    "        mydb.commit()\n",
    "        # print(mycursor.rowcount, \"record inserted.\")\n",
    "        sql3 = \"SELECT * FROM time WHERE year = %s and month=%s and day=%s and hour=%s;\"\n",
    "        vals3 = (year, month, day, hour, )\n",
    "        mycursor.execute(sql3, vals3)\n",
    "        myresult = mycursor.fetchall()\n",
    "        return myresult[0][0]"
   ]
  },
  {
   "cell_type": "code",
   "execution_count": 12,
   "id": "72ece278",
   "metadata": {
    "execution": {
     "iopub.execute_input": "2021-06-24T21:38:57.785234Z",
     "iopub.status.busy": "2021-06-24T21:38:57.777409Z",
     "iopub.status.idle": "2021-06-24T21:38:58.408405Z",
     "shell.execute_reply": "2021-06-24T21:38:58.465015Z"
    },
    "jupyter": {
     "source_hidden": true
    },
    "papermill": {
     "duration": 0.770155,
     "end_time": "2021-06-24T21:38:58.474031",
     "exception": false,
     "start_time": "2021-06-24T21:38:57.703876",
     "status": "completed"
    },
    "tags": []
   },
   "outputs": [
    {
     "data": {
      "text/plain": [
       "5"
      ]
     },
     "execution_count": 12,
     "metadata": {},
     "output_type": "execute_result"
    }
   ],
   "source": [
    "hour = start_course.hour\n",
    "day  = start_course.day\n",
    "month= start_course.month\n",
    "year = start_course.year\n",
    "date = start_course.strftime(\"%Y-%m-%d %H:%M:%S\")\n",
    "id_time=add_time(hour,day,month,year,date)\n",
    "id_time"
   ]
  },
  {
   "cell_type": "code",
   "execution_count": 13,
   "id": "31b6b443",
   "metadata": {
    "execution": {
     "iopub.execute_input": "2021-06-24T21:38:59.217081Z",
     "iopub.status.busy": "2021-06-24T21:38:59.214742Z",
     "iopub.status.idle": "2021-06-24T21:39:01.889049Z",
     "shell.execute_reply": "2021-06-24T21:39:01.892798Z"
    },
    "jupyter": {
     "source_hidden": true
    },
    "papermill": {
     "duration": 2.982478,
     "end_time": "2021-06-24T21:39:01.896559",
     "exception": false,
     "start_time": "2021-06-24T21:38:58.914081",
     "status": "completed"
    },
    "scrolled": true,
    "tags": []
   },
   "outputs": [
    {
     "name": "stdout",
     "output_type": "stream",
     "text": [
      "student: 193\n"
     ]
    },
    {
     "name": "stdout",
     "output_type": "stream",
     "text": [
      "student: 194\n"
     ]
    },
    {
     "name": "stdout",
     "output_type": "stream",
     "text": [
      "student: 195\n"
     ]
    },
    {
     "name": "stdout",
     "output_type": "stream",
     "text": [
      "student: 196\n"
     ]
    },
    {
     "name": "stdout",
     "output_type": "stream",
     "text": [
      "student: 197\n"
     ]
    },
    {
     "name": "stdout",
     "output_type": "stream",
     "text": [
      "student: 198\n"
     ]
    },
    {
     "name": "stdout",
     "output_type": "stream",
     "text": [
      "student: 199\n",
      "student: 200\n",
      "student: 201\n",
      "student: 202\n",
      "student: 203\n"
     ]
    },
    {
     "name": "stdout",
     "output_type": "stream",
     "text": [
      "student: 204\n",
      "student: 205\n",
      "student: 206\n",
      "student: 207\n",
      "student: 208\n",
      "student: 209\n",
      "student: 210\n",
      "student: 211\n",
      "student: 212\n"
     ]
    },
    {
     "name": "stdout",
     "output_type": "stream",
     "text": [
      "student: 213\n",
      "student: 214\n",
      "student: 215\n",
      "student: 216\n",
      "student: 217\n",
      "student: 218\n",
      "student: 219\n",
      "student: 220\n",
      "student: 221\n",
      "student: 222\n",
      "student: 223\n",
      "student: 224\n"
     ]
    }
   ],
   "source": [
    "#ADD DS TO STUDENTS TABLE\n",
    "for index, row in df_ds.iterrows():\n",
    "    major=\"DS\"\n",
    "    name,gender,email,course,major = row[\"Nom\"],None,row[\"email\"],course,major\n",
    "    id_student=add_student(name,gender,email,course,major)\n",
    "    print(\"student:\",id_student)"
   ]
  },
  {
   "cell_type": "code",
   "execution_count": 14,
   "id": "43cfb06c",
   "metadata": {
    "execution": {
     "iopub.execute_input": "2021-06-24T21:39:02.226037Z",
     "iopub.status.busy": "2021-06-24T21:39:02.224708Z",
     "iopub.status.idle": "2021-06-24T21:39:07.034537Z",
     "shell.execute_reply": "2021-06-24T21:39:07.040779Z"
    },
    "jupyter": {
     "source_hidden": true
    },
    "papermill": {
     "duration": 5.014439,
     "end_time": "2021-06-24T21:39:07.042089",
     "exception": false,
     "start_time": "2021-06-24T21:39:02.027650",
     "status": "completed"
    },
    "scrolled": true,
    "tags": []
   },
   "outputs": [
    {
     "name": "stdout",
     "output_type": "stream",
     "text": [
      "professor: 6\n"
     ]
    },
    {
     "name": "stdout",
     "output_type": "stream",
     "text": [
      "student: 203\n"
     ]
    },
    {
     "name": "stdout",
     "output_type": "stream",
     "text": [
      "student: 254\n"
     ]
    },
    {
     "name": "stdout",
     "output_type": "stream",
     "text": [
      "student: 234\n"
     ]
    },
    {
     "name": "stdout",
     "output_type": "stream",
     "text": [
      "student: 228\n"
     ]
    },
    {
     "name": "stdout",
     "output_type": "stream",
     "text": [
      "student: 209\n",
      "student: 212\n"
     ]
    },
    {
     "name": "stdout",
     "output_type": "stream",
     "text": [
      "student: 212\n",
      "student: 237\n",
      "student: 244\n",
      "student: 232\n",
      "student: 232\n"
     ]
    },
    {
     "name": "stdout",
     "output_type": "stream",
     "text": [
      "student: 195\n",
      "student: 195\n",
      "student: 214\n",
      "student: 240\n",
      "student: 230\n",
      "student: 255\n",
      "student: 217\n"
     ]
    },
    {
     "name": "stdout",
     "output_type": "stream",
     "text": [
      "student: 221\n",
      "student: 221\n",
      "student: 207\n",
      "student: 250\n",
      "student: 220\n",
      "student: 198\n",
      "student: 241\n",
      "student: 196\n",
      "student: 206\n",
      "student: 210\n",
      "student: 215\n",
      "student: 213\n",
      "student: 239\n",
      "student: 236\n"
     ]
    },
    {
     "name": "stdout",
     "output_type": "stream",
     "text": [
      "student: 256\n",
      "student: 226\n",
      "student: 243\n",
      "student: 257\n",
      "student: 225\n",
      "student: 249\n",
      "student: 249\n",
      "student: 194\n",
      "student: 199\n"
     ]
    },
    {
     "name": "stdout",
     "output_type": "stream",
     "text": [
      "student: 258\n",
      "student: 235\n",
      "student: 248\n",
      "student: 259\n",
      "student: 231\n",
      "student: 227\n",
      "student: 227\n",
      "student: 229\n",
      "student: 193\n",
      "student: 242\n"
     ]
    },
    {
     "name": "stdout",
     "output_type": "stream",
     "text": [
      "student: 260\n",
      "student: 260\n",
      "student: 222\n",
      "student: 219\n",
      "student: 261\n",
      "student: 262\n",
      "student: 262\n",
      "student: 263\n",
      "student: 246\n",
      "student: 238\n"
     ]
    },
    {
     "name": "stdout",
     "output_type": "stream",
     "text": [
      "student: 264\n",
      "student: 223\n",
      "student: 200\n",
      "student: 211\n",
      "student: 211\n",
      "student: 265\n",
      "student: 233\n",
      "student: 251\n"
     ]
    },
    {
     "name": "stdout",
     "output_type": "stream",
     "text": [
      "student: 252\n",
      "student: 266\n",
      "student: 205\n",
      "student: 224\n",
      "student: 216\n",
      "student: 218\n"
     ]
    },
    {
     "name": "stdout",
     "output_type": "stream",
     "text": [
      "student: 247\n",
      "student: 204\n",
      "student: 204\n",
      "student: 204\n",
      "student: 208\n"
     ]
    },
    {
     "name": "stdout",
     "output_type": "stream",
     "text": [
      "student: 208\n",
      "student: 267\n",
      "student: 268\n"
     ]
    },
    {
     "name": "stdout",
     "output_type": "stream",
     "text": [
      "student: 269\n",
      "student: 270\n",
      "student: 253\n",
      "student: 271\n",
      "student: 202\n"
     ]
    },
    {
     "name": "stdout",
     "output_type": "stream",
     "text": [
      "student: 202\n"
     ]
    }
   ],
   "source": [
    "#ADD STUDENTS FROM LOG TO TABLE\n",
    "for index, row in df_log.iterrows():\n",
    "    if row[\"Rôle\"]!=\"Organisateur\":\n",
    "        result = df_ds[df_ds[\"email\"]==row[\"E-mail\"]]\n",
    "        if(len(result) > 0):\n",
    "            major=\"DS\"\n",
    "        else:\n",
    "            major=\"DSE\"\n",
    "        name,gender,email,course,major = row[\"Nom complet\"],None,row[\"E-mail\"],course,major\n",
    "        id_student=add_student(name,gender,email,course,major)\n",
    "        print(\"student:\",id_student)\n",
    "    else:\n",
    "        name,email = row[\"Nom complet\"],row[\"E-mail\"]\n",
    "        id_prof = add_professor(name,email)\n",
    "        print(\"professor:\",id_prof)"
   ]
  },
  {
   "cell_type": "code",
   "execution_count": 15,
   "id": "f3708b92",
   "metadata": {
    "execution": {
     "iopub.execute_input": "2021-06-24T21:39:08.178010Z",
     "iopub.status.busy": "2021-06-24T21:39:08.126192Z",
     "iopub.status.idle": "2021-06-24T21:39:08.228414Z",
     "shell.execute_reply": "2021-06-24T21:39:08.236806Z"
    },
    "jupyter": {
     "source_hidden": true
    },
    "papermill": {
     "duration": 0.752132,
     "end_time": "2021-06-24T21:39:08.241997",
     "exception": false,
     "start_time": "2021-06-24T21:39:07.489865",
     "status": "completed"
    },
    "tags": []
   },
   "outputs": [],
   "source": [
    "groups = df_log.groupby(\"E-mail\")"
   ]
  },
  {
   "cell_type": "code",
   "execution_count": 16,
   "id": "7924aacf",
   "metadata": {
    "execution": {
     "iopub.execute_input": "2021-06-24T21:39:08.649193Z",
     "iopub.status.busy": "2021-06-24T21:39:08.647356Z",
     "iopub.status.idle": "2021-06-24T21:39:08.890329Z",
     "shell.execute_reply": "2021-06-24T21:39:08.887045Z"
    },
    "jupyter": {
     "source_hidden": true
    },
    "papermill": {
     "duration": 0.401028,
     "end_time": "2021-06-24T21:39:08.890663",
     "exception": false,
     "start_time": "2021-06-24T21:39:08.489635",
     "status": "completed"
    },
    "tags": []
   },
   "outputs": [],
   "source": [
    "mydb = mysql.connector.connect(database=\"airflow_db\", user=\"db_kali\", password=\"123456789\", host=\"localhost\")\n",
    "mycursor = mydb.cursor()\n",
    "mycursor.execute(\"SELECT * FROM students\")\n",
    "myresult = mycursor.fetchall()\n",
    "emails=[]\n",
    "for result in myresult:\n",
    "    emails.append(result[3])"
   ]
  },
  {
   "cell_type": "code",
   "execution_count": 17,
   "id": "98dcdaad",
   "metadata": {
    "execution": {
     "iopub.execute_input": "2021-06-24T21:39:09.056351Z",
     "iopub.status.busy": "2021-06-24T21:39:09.054972Z",
     "iopub.status.idle": "2021-06-24T21:39:09.071516Z",
     "shell.execute_reply": "2021-06-24T21:39:09.072404Z"
    },
    "jupyter": {
     "source_hidden": true
    },
    "papermill": {
     "duration": 0.099342,
     "end_time": "2021-06-24T21:39:09.072771",
     "exception": false,
     "start_time": "2021-06-24T21:39:08.973429",
     "status": "completed"
    },
    "scrolled": true,
    "tags": []
   },
   "outputs": [
    {
     "name": "stdout",
     "output_type": "stream",
     "text": [
      "amenani@insea.ac.ma\n",
      "amsanoussilabo@insea.ac.ma\n",
      "aezzouine@insea.ac.ma \n",
      "aajarray@insea.ac.ma\n",
      "acheddad@insea.ac.ma\n",
      "aelomairi@insea.ac.ma\n",
      "asinare@insea.ac.ma\n",
      "aoussar@insea.ac.ma\n",
      "ahamdi@insea.ac.ma\n",
      "aelhadine@insea.ac.ma\n",
      "cbelkarkor@insea.ac.ma\n",
      "cbenallalhassani@insea.ac.ma\n",
      "hchafai@insea.ac.ma\n",
      "hhoumane@insea.ac.ma\n",
      "hdah@insea.ac.ma\n",
      "hlagramez@insea.ac.ma\n",
      "imourad@insea.ac.ma\n",
      "ikonkobo@insea.ac.ma\n",
      "ibelmezouar@insea.ac.ma\n",
      "kbensatti@insea.ac.ma\n",
      "yakhallouq@insea.ac.ma\n",
      "mamallah@insea.ac.ma\n",
      "magouram@insea.ac.ma\n",
      "msidibe@insea.ac.ma\n",
      "nchahboun@insea.ac.ma\n",
      "rouhmiz@insea.ac.ma\n",
      "selhairech@insea.ac.ma\n",
      "sdaouaji@insea.ac.ma\n",
      "tmajjati@insea.ac.ma\n",
      "yelhilali@insea.ac.ma\n",
      "yamaghoss@insea.ac.ma\n",
      "ysadki@insea.ac.ma\n",
      "hbounar@insea.ac.ma\n",
      "sboukili@insea.ac.ma\n",
      "aelfadili@insea.ac.ma\n",
      "zjaafari@insea.ac.ma\n",
      "seaouari@insea.ac.ma\n",
      "hboudinar@insea.ac.ma\n",
      "helmouhsine@insea.ac.ma\n",
      "fbanah@insea.ac.ma\n",
      "selhasnaoui@insea.ac.ma\n",
      "abalij@insea.ac.ma\n",
      "hmehdioui@insea.ac.ma\n",
      "smellak@insea.ac.ma\n",
      "ohabiballah@insea.ac.ma\n",
      "amamansouley@insea.ac.ma\n",
      "zrhosne@insea.ac.ma\n",
      "yfadoul@insea.ac.ma\n",
      "msangare@insea.ac.ma\n",
      "ooucouc@insea.ac.ma\n",
      "aoubaha@insea.ac.ma\n",
      "aelbahji@insea.ac.ma\n",
      "selkhyati@insea.ac.ma\n",
      "olaabadia@insea.ac.ma\n",
      "kkajja@insea.ac.ma\n",
      "catraoui@insea.ac.ma\n",
      "cbouzouf@insea.ac.ma\n",
      "amakrane@insea.ac.ma\n",
      "mafarfaoua@insea.ac.ma\n",
      "oyousr@insea.ac.ma\n",
      "ymouzaki@insea.ac.ma\n",
      "nchigr@insea.ac.ma\n",
      "alaachir@insea.ac.ma\n",
      "fdani@insea.ac.ma\n",
      "hgaoui@insea.ac.ma\n",
      "yaitmalek@insea.ac.ma\n",
      "selmouslih@insea.ac.ma\n",
      "yzouhri@insea.ac.ma\n",
      "esoummer@insea.ac.ma\n",
      "satiche@insea.ac.ma\n",
      "helouafi@insea.ac.ma\n",
      "szarrouq@insea.ac.ma\n",
      "olamhamdialaoui@insea.ac.ma\n",
      "aelkassmi@insea.ac.ma\n",
      "tebouzelmad@insea.ac.ma\n",
      "smaatouf@insea.ac.ma\n",
      "yaitmha@insea.ac.ma\n",
      "aramoudi@insea.ac.ma\n",
      "hhabbouza@insea.ac.ma\n"
     ]
    }
   ],
   "source": [
    "print(\"\\n\".join(emails))"
   ]
  },
  {
   "cell_type": "code",
   "execution_count": 18,
   "id": "a5f68fe7",
   "metadata": {
    "execution": {
     "iopub.execute_input": "2021-06-24T21:39:09.288281Z",
     "iopub.status.busy": "2021-06-24T21:39:09.287009Z",
     "iopub.status.idle": "2021-06-24T21:39:28.960531Z",
     "shell.execute_reply": "2021-06-24T21:39:28.978044Z"
    },
    "jupyter": {
     "source_hidden": true
    },
    "papermill": {
     "duration": 19.831473,
     "end_time": "2021-06-24T21:39:28.978375",
     "exception": false,
     "start_time": "2021-06-24T21:39:09.146902",
     "status": "completed"
    },
    "scrolled": true,
    "tags": []
   },
   "outputs": [
    {
     "name": "stdout",
     "output_type": "stream",
     "text": [
      "student: 193\n"
     ]
    },
    {
     "name": "stdout",
     "output_type": "stream",
     "text": [
      "student: 194\n"
     ]
    },
    {
     "name": "stdout",
     "output_type": "stream",
     "text": [
      "not found 'aezzouine@insea.ac.ma '\n",
      "student: 196\n",
      "not found 'acheddad@insea.ac.ma'\n"
     ]
    },
    {
     "name": "stdout",
     "output_type": "stream",
     "text": [
      "student: 198\n",
      "student: 199\n",
      "student: 200\n",
      "not found 'ahamdi@insea.ac.ma'\n",
      "student: 202\n"
     ]
    },
    {
     "name": "stdout",
     "output_type": "stream",
     "text": [
      "student: 203\n",
      "student: 204\n",
      "student: 205\n",
      "student: 206\n"
     ]
    },
    {
     "name": "stdout",
     "output_type": "stream",
     "text": [
      "student: 207\n",
      "student: 208\n"
     ]
    },
    {
     "name": "stdout",
     "output_type": "stream",
     "text": [
      "student: 209\n"
     ]
    },
    {
     "name": "stdout",
     "output_type": "stream",
     "text": [
      "student: 210\n"
     ]
    },
    {
     "name": "stdout",
     "output_type": "stream",
     "text": [
      "student: 211\n",
      "student: 212\n",
      "student: 213\n"
     ]
    },
    {
     "name": "stdout",
     "output_type": "stream",
     "text": [
      "student: 214\n",
      "student: 215\n"
     ]
    },
    {
     "name": "stdout",
     "output_type": "stream",
     "text": [
      "student: 216\n",
      "student: 217\n",
      "student: 218\n"
     ]
    },
    {
     "name": "stdout",
     "output_type": "stream",
     "text": [
      "student: 219\n",
      "student: 220\n",
      "student: 221\n"
     ]
    },
    {
     "name": "stdout",
     "output_type": "stream",
     "text": [
      "student: 222\n",
      "student: 223\n",
      "student: 224\n",
      "student: 225\n",
      "student: 226\n"
     ]
    },
    {
     "name": "stdout",
     "output_type": "stream",
     "text": [
      "student: 227\n"
     ]
    },
    {
     "name": "stdout",
     "output_type": "stream",
     "text": [
      "student: 228\n",
      "student: 229\n",
      "student: 230\n",
      "student: 231\n",
      "student: 232\n"
     ]
    },
    {
     "name": "stdout",
     "output_type": "stream",
     "text": [
      "student: 233\n"
     ]
    },
    {
     "name": "stdout",
     "output_type": "stream",
     "text": [
      "student: 234\n"
     ]
    },
    {
     "name": "stdout",
     "output_type": "stream",
     "text": [
      "student: 235\n"
     ]
    },
    {
     "name": "stdout",
     "output_type": "stream",
     "text": [
      "student: 236\n",
      "student: 237\n"
     ]
    },
    {
     "name": "stdout",
     "output_type": "stream",
     "text": [
      "student: 238\n",
      "student: 239\n",
      "student: 240\n",
      "student: 241\n"
     ]
    },
    {
     "name": "stdout",
     "output_type": "stream",
     "text": [
      "student: 242\n",
      "student: 243\n",
      "student: 244\n",
      "not found 'selkhyati@insea.ac.ma'\n",
      "student: 246\n",
      "student: 247\n",
      "student: 248\n"
     ]
    },
    {
     "name": "stdout",
     "output_type": "stream",
     "text": [
      "student: 249\n"
     ]
    },
    {
     "name": "stdout",
     "output_type": "stream",
     "text": [
      "student: 250\n"
     ]
    },
    {
     "name": "stdout",
     "output_type": "stream",
     "text": [
      "student: 251\n",
      "student: 252\n"
     ]
    },
    {
     "name": "stdout",
     "output_type": "stream",
     "text": [
      "student: 253\n",
      "student: 254\n",
      "student: 255\n",
      "student: 256\n",
      "student: 257\n"
     ]
    },
    {
     "name": "stdout",
     "output_type": "stream",
     "text": [
      "student: 258\n",
      "student: 259\n",
      "student: 260\n",
      "student: 261\n"
     ]
    },
    {
     "name": "stdout",
     "output_type": "stream",
     "text": [
      "student: 262\n",
      "student: 263\n",
      "student: 264\n",
      "student:"
     ]
    },
    {
     "name": "stdout",
     "output_type": "stream",
     "text": [
      " 265\n",
      "student: 266\n"
     ]
    },
    {
     "name": "stdout",
     "output_type": "stream",
     "text": [
      "student: 267\n"
     ]
    },
    {
     "name": "stdout",
     "output_type": "stream",
     "text": [
      "student: 268\n"
     ]
    },
    {
     "name": "stdout",
     "output_type": "stream",
     "text": [
      "student: 269\n"
     ]
    },
    {
     "name": "stdout",
     "output_type": "stream",
     "text": [
      "student: 270\n",
      "student: 271\n"
     ]
    }
   ],
   "source": [
    "\n",
    "for email in emails:\n",
    "    name,gender,email,course,major = None,None,email,course,None\n",
    "    id_student=add_student(name,gender,email,course,major)\n",
    "    try:\n",
    "        data = groups.get_group(email).reset_index()\n",
    "        nb_abs = 0\n",
    "        #DURATION\n",
    "        duration=0\n",
    "        got_first_start=False\n",
    "        for index, row in data.iterrows():\n",
    "            start_str = row[\"Heure d'arrivée\"].replace(\" à\",\"\")\n",
    "            end_str   = row[\"Heure de départ\"].replace(\" à\",\"\")\n",
    "            start = datetime.datetime.strptime(start_str, '%d/%m/%Y %H:%M:%S')\n",
    "            end = datetime.datetime.strptime(end_str, '%d/%m/%Y %H:%M:%S')\n",
    "            duration = duration + ((end-start).total_seconds() / 60.0)\n",
    "            if not got_first_start:\n",
    "                got_first_start = True\n",
    "                first_start = start\n",
    "        if duration > 120:\n",
    "            duration=120\n",
    "        #NB LATES  \n",
    "        if ((first_start-start_course).total_seconds() / 60.0) > 15:\n",
    "            nb_lates = 1\n",
    "        else:\n",
    "            nb_lates = 0\n",
    "        \n",
    "        nb_pres = 1\n",
    "        \n",
    "        #ABS DURATION\n",
    "        abs_duration = 120-duration\n",
    "        \n",
    "        #DURATION IN INTEGER IN DB!\n",
    "        duration = int(duration)\n",
    "        \n",
    "        #is student\n",
    "        print(\"student:\",id_student)\n",
    "        if duration <= 15:\n",
    "            nb_abs = 1\n",
    "            nb_lates=0\n",
    "            nb_pres=0\n",
    "    \n",
    "    except KeyError as e:\n",
    "        print(\"not found\",e)\n",
    "        nb_abs = 1\n",
    "        abs_duration = 120\n",
    "        nb_lates=0\n",
    "        nb_pres=0\n",
    "        duration=0\n",
    "    #insert to data mart now\n",
    "    try:\n",
    "        mydb = mysql.connector.connect(database=\"airflow_db\", user=\"db_kali\", password=\"123456789\", host=\"localhost\")\n",
    "        mycursor = mydb.cursor()\n",
    "        sql = \"INSERT INTO fact_table (id_time,id_prof,id_student,nb_abs,abs_duration,nb_lates,nb_pres,duration) VALUES (%s,%s,%s,%s,%s,%s,%s,%s);\"\n",
    "        val = (id_time,id_prof,id_student,nb_abs,abs_duration,nb_lates,nb_pres,duration)\n",
    "        mycursor.execute(sql, val)\n",
    "        mydb.commit()\n",
    "    except :\n",
    "        continue"
   ]
  },
  {
   "cell_type": "code",
   "execution_count": 19,
   "id": "0067bcb5",
   "metadata": {
    "execution": {
     "iopub.execute_input": "2021-06-24T21:39:30.268816Z",
     "iopub.status.busy": "2021-06-24T21:39:30.252910Z",
     "iopub.status.idle": "2021-06-24T21:39:30.354058Z",
     "shell.execute_reply": "2021-06-24T21:39:30.358633Z"
    },
    "jupyter": {
     "source_hidden": true
    },
    "papermill": {
     "duration": 0.469068,
     "end_time": "2021-06-24T21:39:30.359316",
     "exception": false,
     "start_time": "2021-06-24T21:39:29.890248",
     "status": "completed"
    },
    "tags": []
   },
   "outputs": [
    {
     "data": {
      "text/plain": [
       "0"
      ]
     },
     "execution_count": 19,
     "metadata": {},
     "output_type": "execute_result"
    }
   ],
   "source": [
    "os.system(f'mv \"{input_file}\" \"/home/kali/project/processed/\"')"
   ]
  }
 ],
 "metadata": {
  "kernelspec": {
   "display_name": "Python 3",
   "language": "python",
   "name": "python3"
  },
  "language_info": {
   "codemirror_mode": {
    "name": "ipython",
    "version": 3
   },
   "file_extension": ".py",
   "mimetype": "text/x-python",
   "name": "python",
   "nbconvert_exporter": "python",
   "pygments_lexer": "ipython3",
   "version": "3.7.5"
  },
  "papermill": {
   "default_parameters": {},
   "duration": 45.711276,
   "end_time": "2021-06-24T21:39:33.661708",
   "environment_variables": {},
   "exception": null,
   "input_path": "/home/kali/project/process_input_list.ipynb",
   "output_path": "/home/kali/project/outs/out-process_input_list2021-06-24T21:34:09.234318+00:00.ipynb",
   "parameters": {
    "msgs": "Ran from Airflow at 2021-06-24T21:34:09.234318+00:00!"
   },
   "start_time": "2021-06-24T21:38:47.950432",
   "version": "2.3.3"
  }
 },
 "nbformat": 4,
 "nbformat_minor": 5
}