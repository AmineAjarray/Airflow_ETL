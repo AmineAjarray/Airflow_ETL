{
 "cells": [
  {
   "cell_type": "code",
   "execution_count": 1,
   "id": "2d876e13",
   "metadata": {
    "execution": {
     "iopub.execute_input": "2021-06-24T23:42:22.688114Z",
     "iopub.status.busy": "2021-06-24T23:42:22.685858Z",
     "iopub.status.idle": "2021-06-24T23:42:22.717858Z",
     "shell.execute_reply": "2021-06-24T23:42:22.714747Z"
    },
    "jupyter": {
     "source_hidden": true
    },
    "papermill": {
     "duration": 0.09077,
     "end_time": "2021-06-24T23:42:22.722239",
     "exception": false,
     "start_time": "2021-06-24T23:42:22.631469",
     "status": "completed"
    },
    "tags": [
     "injected-parameters"
    ]
   },
   "outputs": [],
   "source": [
    "# Parameters\n",
    "msgs = \"Ran from Airflow at 2021-06-24T23:41:51.364041+00:00!\"\n"
   ]
  },
  {
   "cell_type": "code",
   "execution_count": 2,
   "id": "13c6f718",
   "metadata": {
    "execution": {
     "iopub.execute_input": "2021-06-24T23:42:22.816059Z",
     "iopub.status.busy": "2021-06-24T23:42:22.814865Z",
     "iopub.status.idle": "2021-06-24T23:42:24.475104Z",
     "shell.execute_reply": "2021-06-24T23:42:24.476834Z"
    },
    "jupyter": {
     "source_hidden": true
    },
    "papermill": {
     "duration": 1.706993,
     "end_time": "2021-06-24T23:42:24.478089",
     "exception": false,
     "start_time": "2021-06-24T23:42:22.771096",
     "status": "completed"
    },
    "tags": []
   },
   "outputs": [],
   "source": [
    "import pandas as pd\n",
    "import mysql.connector\n",
    "import os\n",
    "#import json\n",
    "import datetime"
   ]
  },
  {
   "cell_type": "code",
   "execution_count": 3,
   "id": "f49514fe",
   "metadata": {
    "execution": {
     "iopub.execute_input": "2021-06-24T23:42:24.640892Z",
     "iopub.status.busy": "2021-06-24T23:42:24.639427Z",
     "iopub.status.idle": "2021-06-24T23:42:24.666152Z",
     "shell.execute_reply": "2021-06-24T23:42:24.669057Z"
    },
    "jupyter": {
     "source_hidden": true
    },
    "papermill": {
     "duration": 0.147657,
     "end_time": "2021-06-24T23:42:24.669441",
     "exception": false,
     "start_time": "2021-06-24T23:42:24.521784",
     "status": "completed"
    },
    "tags": []
   },
   "outputs": [
    {
     "name": "stdout",
     "output_type": "stream",
     "text": [
      "will process: /home/kali/project/input/meetingAttendanceReport(General) (2).csv\n"
     ]
    }
   ],
   "source": [
    "with open(\"/home/kali/project/input_config.txt\") as f:\n",
    "    input_file=f.readline()\n",
    "print(\"will process:\",input_file)"
   ]
  },
  {
   "cell_type": "code",
   "execution_count": 4,
   "id": "6d2ea9e2",
   "metadata": {
    "execution": {
     "iopub.execute_input": "2021-06-24T23:42:24.772297Z",
     "iopub.status.busy": "2021-06-24T23:42:24.770954Z",
     "iopub.status.idle": "2021-06-24T23:42:24.790405Z",
     "shell.execute_reply": "2021-06-24T23:42:24.792158Z"
    },
    "jupyter": {
     "source_hidden": true
    },
    "papermill": {
     "duration": 0.083898,
     "end_time": "2021-06-24T23:42:24.792477",
     "exception": false,
     "start_time": "2021-06-24T23:42:24.708579",
     "status": "completed"
    },
    "tags": []
   },
   "outputs": [],
   "source": [
    "meta_data=[]\n",
    "log_call=[]\n",
    "lines=[]\n",
    "with open(input_file,encoding=\"utf-16\") as f:\n",
    "    lines=f.readlines()\n",
    "meta_data=lines[0:5]\n",
    "log_call=lines[6:]"
   ]
  },
  {
   "cell_type": "code",
   "execution_count": 5,
   "id": "03a595c6",
   "metadata": {
    "execution": {
     "iopub.execute_input": "2021-06-24T23:42:24.922875Z",
     "iopub.status.busy": "2021-06-24T23:42:24.917346Z",
     "iopub.status.idle": "2021-06-24T23:42:24.949789Z",
     "shell.execute_reply": "2021-06-24T23:42:24.951653Z"
    },
    "jupyter": {
     "source_hidden": true
    },
    "papermill": {
     "duration": 0.092389,
     "end_time": "2021-06-24T23:42:24.951956",
     "exception": false,
     "start_time": "2021-06-24T23:42:24.859567",
     "status": "completed"
    },
    "scrolled": true,
    "tags": []
   },
   "outputs": [
    {
     "data": {
      "text/plain": [
       "'General'"
      ]
     },
     "execution_count": 5,
     "metadata": {},
     "output_type": "execute_result"
    }
   ],
   "source": [
    "course = meta_data[2].replace(\"Titre de la réunion\\t\",\"\").replace(\"\\n\",\"\")\n",
    "course"
   ]
  },
  {
   "cell_type": "code",
   "execution_count": 6,
   "id": "7c932598",
   "metadata": {
    "execution": {
     "iopub.execute_input": "2021-06-24T23:42:25.080933Z",
     "iopub.status.busy": "2021-06-24T23:42:25.078615Z",
     "iopub.status.idle": "2021-06-24T23:42:25.258174Z",
     "shell.execute_reply": "2021-06-24T23:42:25.261035Z"
    },
    "jupyter": {
     "source_hidden": true
    },
    "papermill": {
     "duration": 0.26368,
     "end_time": "2021-06-24T23:42:25.261564",
     "exception": false,
     "start_time": "2021-06-24T23:42:24.997884",
     "status": "completed"
    },
    "tags": []
   },
   "outputs": [
    {
     "data": {
      "text/html": [
       "<div>\n",
       "<style scoped>\n",
       "    .dataframe tbody tr th:only-of-type {\n",
       "        vertical-align: middle;\n",
       "    }\n",
       "\n",
       "    .dataframe tbody tr th {\n",
       "        vertical-align: top;\n",
       "    }\n",
       "\n",
       "    .dataframe thead th {\n",
       "        text-align: right;\n",
       "    }\n",
       "</style>\n",
       "<table border=\"1\" class=\"dataframe\">\n",
       "  <thead>\n",
       "    <tr style=\"text-align: right;\">\n",
       "      <th></th>\n",
       "      <th>Nom complet</th>\n",
       "      <th>Heure d'arrivée</th>\n",
       "      <th>Heure de départ</th>\n",
       "      <th>Durée</th>\n",
       "      <th>E-mail</th>\n",
       "      <th>Rôle</th>\n",
       "    </tr>\n",
       "  </thead>\n",
       "  <tbody>\n",
       "    <tr>\n",
       "      <th>0</th>\n",
       "      <td>Imade BENELALLAM</td>\n",
       "      <td>06/04/2021 à 14:05:42</td>\n",
       "      <td>06/04/2021 à 16:04:32</td>\n",
       "      <td>1 h 58 m</td>\n",
       "      <td>i.benelallam@insea.ac.ma</td>\n",
       "      <td>Organisateur</td>\n",
       "    </tr>\n",
       "    <tr>\n",
       "      <th>1</th>\n",
       "      <td>Salah Eddine AOUARI</td>\n",
       "      <td>06/04/2021 à 14:05:52</td>\n",
       "      <td>06/04/2021 à 16:04:43</td>\n",
       "      <td>1 h 58 m</td>\n",
       "      <td>seaouari@insea.ac.ma</td>\n",
       "      <td>Présentateur</td>\n",
       "    </tr>\n",
       "    <tr>\n",
       "      <th>2</th>\n",
       "      <td>Chaimaa BELKARKOR</td>\n",
       "      <td>06/04/2021 à 14:05:57</td>\n",
       "      <td>06/04/2021 à 16:04:43</td>\n",
       "      <td>1 h 58 m</td>\n",
       "      <td>cbelkarkor@insea.ac.ma</td>\n",
       "      <td>Présentateur</td>\n",
       "    </tr>\n",
       "    <tr>\n",
       "      <th>3</th>\n",
       "      <td>Ibtihal MOURAD</td>\n",
       "      <td>06/04/2021 à 14:06:08</td>\n",
       "      <td>06/04/2021 à 16:28:17</td>\n",
       "      <td>2 h 22 m</td>\n",
       "      <td>imourad@insea.ac.ma</td>\n",
       "      <td>Présentateur</td>\n",
       "    </tr>\n",
       "    <tr>\n",
       "      <th>4</th>\n",
       "      <td>Akram EL FADILI</td>\n",
       "      <td>06/04/2021 à 14:06:13</td>\n",
       "      <td>06/04/2021 à 16:02:20</td>\n",
       "      <td>1 h 56 m</td>\n",
       "      <td>aelfadili@insea.ac.ma</td>\n",
       "      <td>Présentateur</td>\n",
       "    </tr>\n",
       "    <tr>\n",
       "      <th>...</th>\n",
       "      <td>...</td>\n",
       "      <td>...</td>\n",
       "      <td>...</td>\n",
       "      <td>...</td>\n",
       "      <td>...</td>\n",
       "      <td>...</td>\n",
       "    </tr>\n",
       "    <tr>\n",
       "      <th>68</th>\n",
       "      <td>Niima CHIGR</td>\n",
       "      <td>06/04/2021 à 14:58:03</td>\n",
       "      <td>06/04/2021 à 15:48:12</td>\n",
       "      <td>50 m 9 s</td>\n",
       "      <td>nchigr@insea.ac.ma</td>\n",
       "      <td>Présentateur</td>\n",
       "    </tr>\n",
       "    <tr>\n",
       "      <th>69</th>\n",
       "      <td>Yassine ZOUHRI</td>\n",
       "      <td>06/04/2021 à 15:16:55</td>\n",
       "      <td>06/04/2021 à 15:48:30</td>\n",
       "      <td>31 m 35 s</td>\n",
       "      <td>yzouhri@insea.ac.ma</td>\n",
       "      <td>Présentateur</td>\n",
       "    </tr>\n",
       "    <tr>\n",
       "      <th>70</th>\n",
       "      <td>Yassine ZOUHRI</td>\n",
       "      <td>06/04/2021 à 15:50:42</td>\n",
       "      <td>06/04/2021 à 16:04:51</td>\n",
       "      <td>14 m 8 s</td>\n",
       "      <td>yzouhri@insea.ac.ma</td>\n",
       "      <td>Présentateur</td>\n",
       "    </tr>\n",
       "    <tr>\n",
       "      <th>71</th>\n",
       "      <td>Oussama YOUSR</td>\n",
       "      <td>06/04/2021 à 15:19:22</td>\n",
       "      <td>06/04/2021 à 16:04:49</td>\n",
       "      <td>45 m 26 s</td>\n",
       "      <td>oyousr@insea.ac.ma</td>\n",
       "      <td>Présentateur</td>\n",
       "    </tr>\n",
       "    <tr>\n",
       "      <th>72</th>\n",
       "      <td>Hamza LAGRAMEZ</td>\n",
       "      <td>06/04/2021 à 16:23:48</td>\n",
       "      <td>06/04/2021 à 16:24:00</td>\n",
       "      <td>12 s</td>\n",
       "      <td>hlagramez@insea.ac.ma</td>\n",
       "      <td>Présentateur</td>\n",
       "    </tr>\n",
       "  </tbody>\n",
       "</table>\n",
       "<p>73 rows × 6 columns</p>\n",
       "</div>"
      ],
      "text/plain": [
       "            Nom complet        Heure d'arrivée        Heure de départ  \\\n",
       "0      Imade BENELALLAM  06/04/2021 à 14:05:42  06/04/2021 à 16:04:32   \n",
       "1   Salah Eddine AOUARI  06/04/2021 à 14:05:52  06/04/2021 à 16:04:43   \n",
       "2     Chaimaa BELKARKOR  06/04/2021 à 14:05:57  06/04/2021 à 16:04:43   \n",
       "3        Ibtihal MOURAD  06/04/2021 à 14:06:08  06/04/2021 à 16:28:17   \n",
       "4       Akram EL FADILI  06/04/2021 à 14:06:13  06/04/2021 à 16:02:20   \n",
       "..                  ...                    ...                    ...   \n",
       "68          Niima CHIGR  06/04/2021 à 14:58:03  06/04/2021 à 15:48:12   \n",
       "69       Yassine ZOUHRI  06/04/2021 à 15:16:55  06/04/2021 à 15:48:30   \n",
       "70       Yassine ZOUHRI  06/04/2021 à 15:50:42  06/04/2021 à 16:04:51   \n",
       "71        Oussama YOUSR  06/04/2021 à 15:19:22  06/04/2021 à 16:04:49   \n",
       "72       Hamza LAGRAMEZ  06/04/2021 à 16:23:48  06/04/2021 à 16:24:00   \n",
       "\n",
       "        Durée                    E-mail          Rôle  \n",
       "0    1 h 58 m  i.benelallam@insea.ac.ma  Organisateur  \n",
       "1    1 h 58 m      seaouari@insea.ac.ma  Présentateur  \n",
       "2    1 h 58 m    cbelkarkor@insea.ac.ma  Présentateur  \n",
       "3    2 h 22 m       imourad@insea.ac.ma  Présentateur  \n",
       "4    1 h 56 m     aelfadili@insea.ac.ma  Présentateur  \n",
       "..        ...                       ...           ...  \n",
       "68   50 m 9 s        nchigr@insea.ac.ma  Présentateur  \n",
       "69  31 m 35 s       yzouhri@insea.ac.ma  Présentateur  \n",
       "70   14 m 8 s       yzouhri@insea.ac.ma  Présentateur  \n",
       "71  45 m 26 s        oyousr@insea.ac.ma  Présentateur  \n",
       "72       12 s     hlagramez@insea.ac.ma  Présentateur  \n",
       "\n",
       "[73 rows x 6 columns]"
      ]
     },
     "execution_count": 6,
     "metadata": {},
     "output_type": "execute_result"
    }
   ],
   "source": [
    "with open(f\"/home/kali/project/output/log_{input_file.split('/')[-1]}\",\"w\") as f:\n",
    "    for value in log_call:\n",
    "        f.write(value)\n",
    "    f.close()\n",
    "df_log = pd.read_csv(f\"/home/kali/project/output/log_{input_file.split('/')[-1]}\",sep=\"\\t\")\n",
    "df_log"
   ]
  },
  {
   "cell_type": "code",
   "execution_count": 7,
   "id": "7f7b9fa1",
   "metadata": {
    "execution": {
     "iopub.execute_input": "2021-06-24T23:42:25.387461Z",
     "iopub.status.busy": "2021-06-24T23:42:25.385595Z",
     "iopub.status.idle": "2021-06-24T23:42:25.401120Z",
     "shell.execute_reply": "2021-06-24T23:42:25.403475Z"
    },
    "jupyter": {
     "source_hidden": true
    },
    "papermill": {
     "duration": 0.086469,
     "end_time": "2021-06-24T23:42:25.403892",
     "exception": false,
     "start_time": "2021-06-24T23:42:25.317423",
     "status": "completed"
    },
    "tags": []
   },
   "outputs": [],
   "source": [
    "start_str = meta_data[3].replace(\"Heure de début de la réunion\\t\",\"\").replace(\"\\n\",\"\").replace(\" à\",\"\")\n",
    "end_str   = meta_data[4].replace(\"Heure de fin\\t\",\"\").replace(\"\\n\",\"\").replace(\" à\",\"\")\n",
    "start_course = datetime.datetime.strptime(start_str, '%d/%m/%Y %H:%M:%S')\n",
    "end_course = datetime.datetime.strptime(end_str, '%d/%m/%Y %H:%M:%S')"
   ]
  },
  {
   "cell_type": "code",
   "execution_count": 8,
   "id": "270a1bba",
   "metadata": {
    "execution": {
     "iopub.execute_input": "2021-06-24T23:42:25.520098Z",
     "iopub.status.busy": "2021-06-24T23:42:25.518261Z",
     "iopub.status.idle": "2021-06-24T23:42:26.623960Z",
     "shell.execute_reply": "2021-06-24T23:42:26.626609Z"
    },
    "jupyter": {
     "source_hidden": true
    },
    "papermill": {
     "duration": 1.166389,
     "end_time": "2021-06-24T23:42:26.627140",
     "exception": false,
     "start_time": "2021-06-24T23:42:25.460751",
     "status": "completed"
    },
    "tags": []
   },
   "outputs": [],
   "source": [
    "df_ds = pd.read_excel(\"/home/kali/project/lists_excel/Liste des 2èmes années DS.xlsx\")\n",
    "#df_dse = pd.read_excel(\"/home/kali/notebook/project2/lists_excel/Liste 2A DSE.xlsx\")"
   ]
  },
  {
   "cell_type": "code",
   "execution_count": 9,
   "id": "3b19bbfa",
   "metadata": {
    "execution": {
     "iopub.execute_input": "2021-06-24T23:42:26.774056Z",
     "iopub.status.busy": "2021-06-24T23:42:26.772616Z",
     "iopub.status.idle": "2021-06-24T23:42:26.918501Z",
     "shell.execute_reply": "2021-06-24T23:42:26.925616Z"
    },
    "jupyter": {
     "source_hidden": true
    },
    "papermill": {
     "duration": 0.224323,
     "end_time": "2021-06-24T23:42:26.925938",
     "exception": false,
     "start_time": "2021-06-24T23:42:26.701615",
     "status": "completed"
    },
    "tags": []
   },
   "outputs": [],
   "source": [
    "mydb = mysql.connector.connect(database=\"airflow_db\", user=\"db_kali\", password=\"123456789\", host=\"localhost\")"
   ]
  },
  {
   "cell_type": "code",
   "execution_count": 10,
   "id": "74c1959a",
   "metadata": {
    "execution": {
     "iopub.execute_input": "2021-06-24T23:42:27.186667Z",
     "iopub.status.busy": "2021-06-24T23:42:27.178571Z",
     "iopub.status.idle": "2021-06-24T23:42:27.188438Z",
     "shell.execute_reply": "2021-06-24T23:42:27.190780Z"
    },
    "jupyter": {
     "source_hidden": true
    },
    "papermill": {
     "duration": 0.112764,
     "end_time": "2021-06-24T23:42:27.191108",
     "exception": false,
     "start_time": "2021-06-24T23:42:27.078344",
     "status": "completed"
    },
    "tags": []
   },
   "outputs": [],
   "source": [
    "#mycursor = mydb.cursor()\n",
    "#table=\"fact_table\"\n",
    "#mycursor.execute(f\"SELECT * FROM information_schema.columns WHERE table_schema = 'biabsence' AND table_name   = '{table}' ;\")\n",
    "#myresult = mycursor.fetchall()\n",
    "#for value in myresult:\n",
    "#    print(value[3],\":\",value[7])"
   ]
  },
  {
   "cell_type": "code",
   "execution_count": 11,
   "id": "f0b1542d",
   "metadata": {
    "execution": {
     "iopub.execute_input": "2021-06-24T23:42:27.326608Z",
     "iopub.status.busy": "2021-06-24T23:42:27.320484Z",
     "iopub.status.idle": "2021-06-24T23:42:27.369684Z",
     "shell.execute_reply": "2021-06-24T23:42:27.372236Z"
    },
    "jupyter": {
     "source_hidden": true
    },
    "papermill": {
     "duration": 0.123879,
     "end_time": "2021-06-24T23:42:27.372576",
     "exception": false,
     "start_time": "2021-06-24T23:42:27.248697",
     "status": "completed"
    },
    "tags": []
   },
   "outputs": [],
   "source": [
    "def add_student(name,gender,email,course,major):\n",
    "    mydb = mysql.connector.connect(database=\"airflow_db\", user=\"db_kali\", password=\"123456789\", host=\"localhost\") \n",
    "    mycursor = mydb.cursor()\n",
    "    sql1 = \"SELECT * FROM students where email = %s;\"\n",
    "    vals1 = (email,)\n",
    "    mycursor.execute(sql1, vals1)\n",
    "    myresult = mycursor.fetchall()\n",
    "    if len(myresult) != 0:\n",
    "        return myresult[0][0]\n",
    "    if len(myresult) == 0:\n",
    "        sql = \"INSERT INTO students (name,gender,email,course,major) VALUES (%s,%s,%s,%s,%s);\"\n",
    "        val = (name,gender,email,course,major)\n",
    "        mycursor.execute(sql, val)\n",
    "        mydb.commit()\n",
    "        # print(mycursor.rowcount, \"record inserted.\")\n",
    "        sql3 = \"SELECT * FROM students where email = %s;\"\n",
    "        vals3 = (email,)\n",
    "        mycursor.execute(sql3, vals3)\n",
    "        myresult = mycursor.fetchall()\n",
    "        return myresult[0][0]\n",
    "    \n",
    "def add_professor(name,email):\n",
    "    mydb = mysql.connector.connect(database=\"airflow_db\", user=\"db_kali\", password=\"123456789\", host=\"localhost\") \n",
    "    mycursor = mydb.cursor()\n",
    "    sql1 = \"SELECT * FROM professors where email = %s;\"\n",
    "    vals1 = (email, )\n",
    "    mycursor.execute(sql1, vals1)\n",
    "    myresult = mycursor.fetchall()\n",
    "    if len(myresult) != 0:\n",
    "        return myresult[0][0]\n",
    "    if len(myresult) == 0:\n",
    "        sql = \"INSERT INTO professors (name,email) VALUES (%s,%s);\"\n",
    "        val = (name,email,)\n",
    "        mycursor.execute(sql, val)\n",
    "        mydb.commit()\n",
    "        # print(mycursor.rowcount, \"record inserted.\")\n",
    "        sql3 = \"SELECT * FROM professors where email = %s;\"\n",
    "        vals3 = (email, )\n",
    "        mycursor.execute(sql1, vals1)\n",
    "        myresult = mycursor.fetchall()\n",
    "        return myresult[0][0]\n",
    "    \n",
    "def add_time(hour,day,month,year,date):\n",
    "    mydb = mysql.connector.connect(database=\"airflow_db\", user=\"db_kali\", password=\"123456789\", host=\"localhost\")\n",
    "    mycursor = mydb.cursor()\n",
    "    sql1 = \"SELECT * FROM time WHERE year = %s and month=%s and day=%s and hour=%s;\"\n",
    "    vals1 = (year, month, day, hour, )\n",
    "    mycursor.execute(sql1, vals1)\n",
    "    myresult = mycursor.fetchall()\n",
    "    if len(myresult) != 0:\n",
    "        return myresult[0][0]\n",
    "    if len(myresult) == 0:\n",
    "        sql = \"INSERT INTO time (hour,day,month,year,date) VALUES (%s,%s,%s,%s,%s);\"\n",
    "        val = (hour,day,month,year,date)\n",
    "        mycursor.execute(sql, val)\n",
    "        mydb.commit()\n",
    "        # print(mycursor.rowcount, \"record inserted.\")\n",
    "        sql3 = \"SELECT * FROM time WHERE year = %s and month=%s and day=%s and hour=%s;\"\n",
    "        vals3 = (year, month, day, hour, )\n",
    "        mycursor.execute(sql3, vals3)\n",
    "        myresult = mycursor.fetchall()\n",
    "        return myresult[0][0]"
   ]
  },
  {
   "cell_type": "code",
   "execution_count": 12,
   "id": "72ece278",
   "metadata": {
    "execution": {
     "iopub.execute_input": "2021-06-24T23:42:27.495545Z",
     "iopub.status.busy": "2021-06-24T23:42:27.489033Z",
     "iopub.status.idle": "2021-06-24T23:42:27.554798Z",
     "shell.execute_reply": "2021-06-24T23:42:27.564560Z"
    },
    "jupyter": {
     "source_hidden": true
    },
    "papermill": {
     "duration": 0.144497,
     "end_time": "2021-06-24T23:42:27.570027",
     "exception": false,
     "start_time": "2021-06-24T23:42:27.425530",
     "status": "completed"
    },
    "tags": []
   },
   "outputs": [
    {
     "data": {
      "text/plain": [
       "8"
      ]
     },
     "execution_count": 12,
     "metadata": {},
     "output_type": "execute_result"
    }
   ],
   "source": [
    "hour = start_course.hour\n",
    "day  = start_course.day\n",
    "month= start_course.month\n",
    "year = start_course.year\n",
    "date = start_course.strftime(\"%Y-%m-%d %H:%M:%S\")\n",
    "id_time=add_time(hour,day,month,year,date)\n",
    "id_time"
   ]
  },
  {
   "cell_type": "code",
   "execution_count": 13,
   "id": "31b6b443",
   "metadata": {
    "execution": {
     "iopub.execute_input": "2021-06-24T23:42:27.788180Z",
     "iopub.status.busy": "2021-06-24T23:42:27.786389Z",
     "iopub.status.idle": "2021-06-24T23:42:28.006361Z",
     "shell.execute_reply": "2021-06-24T23:42:28.010910Z"
    },
    "jupyter": {
     "source_hidden": true
    },
    "papermill": {
     "duration": 0.295809,
     "end_time": "2021-06-24T23:42:28.011191",
     "exception": false,
     "start_time": "2021-06-24T23:42:27.715382",
     "status": "completed"
    },
    "scrolled": true,
    "tags": []
   },
   "outputs": [
    {
     "name": "stdout",
     "output_type": "stream",
     "text": [
      "student: 193\n",
      "student: 194\n",
      "student: 195\n",
      "student: 196\n",
      "student: 197\n",
      "student: 198\n",
      "student: 199\n",
      "student: 200\n",
      "student: 201\n",
      "student: 202\n",
      "student: 203\n",
      "student: 204\n",
      "student: 205\n",
      "student: 206\n",
      "student: 207\n",
      "student: 208\n",
      "student: 209\n",
      "student: 210\n",
      "student: 211\n",
      "student: 212\n",
      "student: 213\n",
      "student: 214\n",
      "student: 215\n",
      "student: 216\n",
      "student: 217\n",
      "student: 218\n",
      "student: 219\n",
      "student: 220\n",
      "student: 221\n",
      "student: 222\n",
      "student: 223\n",
      "student: 224\n"
     ]
    }
   ],
   "source": [
    "#ADD DS TO STUDENTS TABLE\n",
    "for index, row in df_ds.iterrows():\n",
    "    major=\"DS\"\n",
    "    name,gender,email,course,major = row[\"Nom\"],None,row[\"email\"],course,major\n",
    "    id_student=add_student(name,gender,email,course,major)\n",
    "    print(\"student:\",id_student)"
   ]
  },
  {
   "cell_type": "code",
   "execution_count": 14,
   "id": "43cfb06c",
   "metadata": {
    "execution": {
     "iopub.execute_input": "2021-06-24T23:42:28.157642Z",
     "iopub.status.busy": "2021-06-24T23:42:28.154893Z",
     "iopub.status.idle": "2021-06-24T23:42:28.910994Z",
     "shell.execute_reply": "2021-06-24T23:42:28.913497Z"
    },
    "jupyter": {
     "source_hidden": true
    },
    "papermill": {
     "duration": 0.823699,
     "end_time": "2021-06-24T23:42:28.915057",
     "exception": false,
     "start_time": "2021-06-24T23:42:28.091358",
     "status": "completed"
    },
    "scrolled": true,
    "tags": []
   },
   "outputs": [
    {
     "name": "stdout",
     "output_type": "stream",
     "text": [
      "professor: 6\n",
      "student: 229\n",
      "student: 203\n",
      "student: 209\n",
      "student: 227\n",
      "student: 234\n",
      "student: 225\n",
      "student: 194\n",
      "student: 249\n",
      "student: 230\n",
      "student: 235\n",
      "student: 199\n"
     ]
    },
    {
     "name": "stdout",
     "output_type": "stream",
     "text": [
      "student: 204\n",
      "student: 238\n",
      "student: 220\n",
      "student: 220\n",
      "student: 237\n",
      "student: 210\n",
      "student: 263\n",
      "student: 226\n",
      "student: 214\n",
      "student: 213\n",
      "student: 213\n",
      "student: 243\n",
      "student: 195\n",
      "student: 195\n",
      "student: 261\n",
      "student: 261\n",
      "student: 246\n"
     ]
    },
    {
     "name": "stdout",
     "output_type": "stream",
     "text": [
      "student: 244\n",
      "student: 216\n",
      "student: 251\n",
      "student: 242\n",
      "student: 232\n",
      "student: 241\n",
      "student: 266\n",
      "student: 223\n",
      "student: 218\n",
      "student: 218\n",
      "student: 248\n",
      "student: 270\n",
      "student: 228\n",
      "student: 215\n",
      "student: 215\n",
      "student: 196\n",
      "student: 196\n",
      "student: 196\n",
      "student: 196\n",
      "student: 196\n",
      "student: 196\n",
      "student: 221\n",
      "student: 221\n",
      "student: 221\n",
      "student: 221\n",
      "student: 221\n"
     ]
    },
    {
     "name": "stdout",
     "output_type": "stream",
     "text": [
      "student: 221\n",
      "student: 258\n",
      "student: 258\n",
      "student: 240\n",
      "student: 264\n",
      "student: 247\n",
      "student: 247\n",
      "student: 253\n",
      "student: 253\n",
      "student: 245\n",
      "student: 206\n",
      "student: 206\n",
      "student: 200\n",
      "student: 254\n",
      "student: 260\n",
      "student: 260\n",
      "student: 252\n",
      "student: 208\n"
     ]
    }
   ],
   "source": [
    "#ADD STUDENTS FROM LOG TO TABLE\n",
    "for index, row in df_log.iterrows():\n",
    "    if row[\"Rôle\"]!=\"Organisateur\":\n",
    "        result = df_ds[df_ds[\"email\"]==row[\"E-mail\"]]\n",
    "        if(len(result) > 0):\n",
    "            major=\"DS\"\n",
    "        else:\n",
    "            major=\"DSE\"\n",
    "        name,gender,email,course,major = row[\"Nom complet\"],None,row[\"E-mail\"],course,major\n",
    "        id_student=add_student(name,gender,email,course,major)\n",
    "        print(\"student:\",id_student)\n",
    "    else:\n",
    "        name,email = row[\"Nom complet\"],row[\"E-mail\"]\n",
    "        id_prof = add_professor(name,email)\n",
    "        print(\"professor:\",id_prof)"
   ]
  },
  {
   "cell_type": "code",
   "execution_count": 15,
   "id": "f3708b92",
   "metadata": {
    "execution": {
     "iopub.execute_input": "2021-06-24T23:42:29.032682Z",
     "iopub.status.busy": "2021-06-24T23:42:29.031329Z",
     "iopub.status.idle": "2021-06-24T23:42:29.039603Z",
     "shell.execute_reply": "2021-06-24T23:42:29.042216Z"
    },
    "jupyter": {
     "source_hidden": true
    },
    "papermill": {
     "duration": 0.072607,
     "end_time": "2021-06-24T23:42:29.042601",
     "exception": false,
     "start_time": "2021-06-24T23:42:28.969994",
     "status": "completed"
    },
    "tags": []
   },
   "outputs": [],
   "source": [
    "groups = df_log.groupby(\"E-mail\")"
   ]
  },
  {
   "cell_type": "code",
   "execution_count": 16,
   "id": "7924aacf",
   "metadata": {
    "execution": {
     "iopub.execute_input": "2021-06-24T23:42:29.193060Z",
     "iopub.status.busy": "2021-06-24T23:42:29.191687Z",
     "iopub.status.idle": "2021-06-24T23:42:29.211656Z",
     "shell.execute_reply": "2021-06-24T23:42:29.214215Z"
    },
    "jupyter": {
     "source_hidden": true
    },
    "papermill": {
     "duration": 0.091307,
     "end_time": "2021-06-24T23:42:29.214592",
     "exception": false,
     "start_time": "2021-06-24T23:42:29.123285",
     "status": "completed"
    },
    "tags": []
   },
   "outputs": [],
   "source": [
    "mydb = mysql.connector.connect(database=\"airflow_db\", user=\"db_kali\", password=\"123456789\", host=\"localhost\")\n",
    "mycursor = mydb.cursor()\n",
    "mycursor.execute(\"SELECT * FROM students\")\n",
    "myresult = mycursor.fetchall()\n",
    "emails=[]\n",
    "for result in myresult:\n",
    "    emails.append(result[3])"
   ]
  },
  {
   "cell_type": "code",
   "execution_count": 17,
   "id": "98dcdaad",
   "metadata": {
    "execution": {
     "iopub.execute_input": "2021-06-24T23:42:29.339625Z",
     "iopub.status.busy": "2021-06-24T23:42:29.338350Z",
     "iopub.status.idle": "2021-06-24T23:42:29.351579Z",
     "shell.execute_reply": "2021-06-24T23:42:29.354018Z"
    },
    "jupyter": {
     "source_hidden": true
    },
    "papermill": {
     "duration": 0.083355,
     "end_time": "2021-06-24T23:42:29.354310",
     "exception": false,
     "start_time": "2021-06-24T23:42:29.270955",
     "status": "completed"
    },
    "scrolled": true,
    "tags": []
   },
   "outputs": [
    {
     "name": "stdout",
     "output_type": "stream",
     "text": [
      "amenani@insea.ac.ma\n",
      "amsanoussilabo@insea.ac.ma\n",
      "aezzouine@insea.ac.ma \n",
      "aajarray@insea.ac.ma\n",
      "acheddad@insea.ac.ma\n",
      "aelomairi@insea.ac.ma\n",
      "asinare@insea.ac.ma\n",
      "aoussar@insea.ac.ma\n",
      "ahamdi@insea.ac.ma\n",
      "aelhadine@insea.ac.ma\n",
      "cbelkarkor@insea.ac.ma\n",
      "cbenallalhassani@insea.ac.ma\n",
      "hchafai@insea.ac.ma\n",
      "hhoumane@insea.ac.ma\n",
      "hdah@insea.ac.ma\n",
      "hlagramez@insea.ac.ma\n",
      "imourad@insea.ac.ma\n",
      "ikonkobo@insea.ac.ma\n",
      "ibelmezouar@insea.ac.ma\n",
      "kbensatti@insea.ac.ma\n",
      "yakhallouq@insea.ac.ma\n",
      "mamallah@insea.ac.ma\n",
      "magouram@insea.ac.ma\n",
      "msidibe@insea.ac.ma\n",
      "nchahboun@insea.ac.ma\n",
      "rouhmiz@insea.ac.ma\n",
      "selhairech@insea.ac.ma\n",
      "sdaouaji@insea.ac.ma\n",
      "tmajjati@insea.ac.ma\n",
      "yelhilali@insea.ac.ma\n",
      "yamaghoss@insea.ac.ma\n",
      "ysadki@insea.ac.ma\n",
      "hbounar@insea.ac.ma\n",
      "sboukili@insea.ac.ma\n",
      "aelfadili@insea.ac.ma\n",
      "zjaafari@insea.ac.ma\n",
      "seaouari@insea.ac.ma\n",
      "hboudinar@insea.ac.ma\n",
      "helmouhsine@insea.ac.ma\n",
      "fbanah@insea.ac.ma\n",
      "selhasnaoui@insea.ac.ma\n",
      "abalij@insea.ac.ma\n",
      "hmehdioui@insea.ac.ma\n",
      "smellak@insea.ac.ma\n",
      "ohabiballah@insea.ac.ma\n",
      "amamansouley@insea.ac.ma\n",
      "zrhosne@insea.ac.ma\n",
      "yfadoul@insea.ac.ma\n",
      "msangare@insea.ac.ma\n",
      "ooucouc@insea.ac.ma\n",
      "aoubaha@insea.ac.ma\n",
      "aelbahji@insea.ac.ma\n",
      "selkhyati@insea.ac.ma\n",
      "olaabadia@insea.ac.ma\n",
      "kkajja@insea.ac.ma\n",
      "catraoui@insea.ac.ma\n",
      "cbouzouf@insea.ac.ma\n",
      "amakrane@insea.ac.ma\n",
      "mafarfaoua@insea.ac.ma\n",
      "oyousr@insea.ac.ma\n",
      "ymouzaki@insea.ac.ma\n",
      "nchigr@insea.ac.ma\n",
      "alaachir@insea.ac.ma\n",
      "fdani@insea.ac.ma\n",
      "hgaoui@insea.ac.ma\n",
      "yaitmalek@insea.ac.ma\n",
      "selmouslih@insea.ac.ma\n",
      "yzouhri@insea.ac.ma\n",
      "esoummer@insea.ac.ma\n",
      "satiche@insea.ac.ma\n",
      "helouafi@insea.ac.ma\n",
      "szarrouq@insea.ac.ma\n",
      "olamhamdialaoui@insea.ac.ma\n",
      "aelkassmi@insea.ac.ma\n",
      "tebouzelmad@insea.ac.ma\n",
      "smaatouf@insea.ac.ma\n",
      "yaitmha@insea.ac.ma\n",
      "aramoudi@insea.ac.ma\n",
      "hhabbouza@insea.ac.ma\n"
     ]
    }
   ],
   "source": [
    "print(\"\\n\".join(emails))"
   ]
  },
  {
   "cell_type": "code",
   "execution_count": 18,
   "id": "a5f68fe7",
   "metadata": {
    "execution": {
     "iopub.execute_input": "2021-06-24T23:42:29.492569Z",
     "iopub.status.busy": "2021-06-24T23:42:29.491069Z",
     "iopub.status.idle": "2021-06-24T23:42:31.120476Z",
     "shell.execute_reply": "2021-06-24T23:42:31.122338Z"
    },
    "jupyter": {
     "source_hidden": true
    },
    "papermill": {
     "duration": 1.699138,
     "end_time": "2021-06-24T23:42:31.122650",
     "exception": false,
     "start_time": "2021-06-24T23:42:29.423512",
     "status": "completed"
    },
    "scrolled": true,
    "tags": []
   },
   "outputs": [
    {
     "name": "stdout",
     "output_type": "stream",
     "text": [
      "not found"
     ]
    },
    {
     "name": "stdout",
     "output_type": "stream",
     "text": [
      " 'amenani@insea.ac.ma'\n",
      "student: 194\n",
      "not found 'aezzouine@insea.ac.ma '\n",
      "student: 196\n",
      "not found 'acheddad@insea.ac.ma'\n",
      "not found 'aelomairi@insea.ac.ma'\n",
      "student: 199\n",
      "student: 200\n",
      "not found 'ahamdi@insea.ac.ma'\n",
      "not found 'aelhadine@insea.ac.ma'\n"
     ]
    },
    {
     "name": "stdout",
     "output_type": "stream",
     "text": [
      "student: 203\n",
      "student: 204\n",
      "not found 'hchafai@insea.ac.ma'\n",
      "student: 206\n",
      "not found 'hdah@insea.ac.ma'\n"
     ]
    },
    {
     "name": "stdout",
     "output_type": "stream",
     "text": [
      "student: 208\n",
      "student: 209\n",
      "student: 210\n",
      "not found 'ibelmezouar@insea.ac.ma'\n",
      "not found 'kbensatti@insea.ac.ma'\n",
      "student: 213\n",
      "student: 214\n"
     ]
    },
    {
     "name": "stdout",
     "output_type": "stream",
     "text": [
      "student: 215\n",
      "student: 216\n",
      "not found 'nchahboun@insea.ac.ma'\n",
      "student: 218\n",
      "not found 'selhairech@insea.ac.ma'\n",
      "student: 220\n",
      "student: 221\n",
      "not found 'yelhilali@insea.ac.ma'\n",
      "student: 223\n",
      "not found 'ysadki@insea.ac.ma'\n",
      "student: 225\n"
     ]
    },
    {
     "name": "stdout",
     "output_type": "stream",
     "text": [
      "student: 226\n",
      "student: 227\n",
      "student: 228\n",
      "student: 229\n",
      "student: 230\n",
      "not found 'helmouhsine@insea.ac.ma'\n",
      "student: 232\n",
      "not found 'selhasnaoui@insea.ac.ma'\n",
      "student: 234\n",
      "student: 235\n",
      "not found 'smellak@insea.ac.ma'\n",
      "student: 237\n",
      "student: 238\n",
      "not found 'zrhosne@insea.ac.ma'\n"
     ]
    },
    {
     "name": "stdout",
     "output_type": "stream",
     "text": [
      "student: 240\n",
      "student: 241\n",
      "student: 242\n",
      "student: 243\n",
      "student: 244\n",
      "student: 245\n",
      "student: 246\n",
      "student: 247\n",
      "student: 248\n",
      "student: 249\n",
      "not found 'amakrane@insea.ac.ma'\n",
      "student: 251\n",
      "student: 252\n",
      "student: 253\n"
     ]
    },
    {
     "name": "stdout",
     "output_type": "stream",
     "text": [
      "student: 254\n",
      "not found 'alaachir@insea.ac.ma'\n",
      "not found 'fdani@insea.ac.ma'\n",
      "not found 'hgaoui@insea.ac.ma'\n",
      "student: 258\n",
      "not found 'selmouslih@insea.ac.ma'\n",
      "student: 260\n",
      "student: 261\n",
      "not found 'satiche@insea.ac.ma'\n",
      "student: 263\n",
      "student: 264\n",
      "not found 'olamhamdialaoui@insea.ac.ma'\n",
      "student: 266\n",
      "not found 'tebouzelmad@insea.ac.ma'\n",
      "not found 'smaatouf@insea.ac.ma'\n",
      "not found 'yaitmha@insea.ac.ma'\n",
      "student: 270"
     ]
    },
    {
     "name": "stdout",
     "output_type": "stream",
     "text": [
      "\n",
      "not found 'hhabbouza@insea.ac.ma'\n"
     ]
    }
   ],
   "source": [
    "\n",
    "for email in emails:\n",
    "    name,gender,email,course,major = None,None,email,course,None\n",
    "    id_student=add_student(name,gender,email,course,major)\n",
    "    try:\n",
    "        data = groups.get_group(email).reset_index()\n",
    "        nb_abs = 0\n",
    "        #DURATION\n",
    "        duration=0\n",
    "        got_first_start=False\n",
    "        for index, row in data.iterrows():\n",
    "            start_str = row[\"Heure d'arrivée\"].replace(\" à\",\"\")\n",
    "            end_str   = row[\"Heure de départ\"].replace(\" à\",\"\")\n",
    "            start = datetime.datetime.strptime(start_str, '%d/%m/%Y %H:%M:%S')\n",
    "            end = datetime.datetime.strptime(end_str, '%d/%m/%Y %H:%M:%S')\n",
    "            duration = duration + ((end-start).total_seconds() / 60.0)\n",
    "            if not got_first_start:\n",
    "                got_first_start = True\n",
    "                first_start = start\n",
    "        if duration > 120:\n",
    "            duration=120\n",
    "        #NB LATES  \n",
    "        if ((first_start-start_course).total_seconds() / 60.0) > 15:\n",
    "            nb_lates = 1\n",
    "        else:\n",
    "            nb_lates = 0\n",
    "        \n",
    "        nb_pres = 1\n",
    "        \n",
    "        #ABS DURATION\n",
    "        abs_duration = 120-duration\n",
    "        \n",
    "        #DURATION IN INTEGER IN DB!\n",
    "        duration = int(duration)\n",
    "        \n",
    "        #is student\n",
    "        print(\"student:\",id_student)\n",
    "        if duration <= 15:\n",
    "            nb_abs = 1\n",
    "            nb_lates=0\n",
    "            nb_pres=0\n",
    "    \n",
    "    except KeyError as e:\n",
    "        print(\"not found\",e)\n",
    "        nb_abs = 1\n",
    "        abs_duration = 120\n",
    "        nb_lates=0\n",
    "        nb_pres=0\n",
    "        duration=0\n",
    "    #insert to data mart now\n",
    "    try:\n",
    "        mydb = mysql.connector.connect(database=\"airflow_db\", user=\"db_kali\", password=\"123456789\", host=\"localhost\")\n",
    "        mycursor = mydb.cursor()\n",
    "        sql = \"INSERT INTO fact_table (id_time,id_prof,id_student,nb_abs,abs_duration,nb_lates,nb_pres,duration) VALUES (%s,%s,%s,%s,%s,%s,%s,%s);\"\n",
    "        val = (id_time,id_prof,id_student,nb_abs,abs_duration,nb_lates,nb_pres,duration)\n",
    "        mycursor.execute(sql, val)\n",
    "        mydb.commit()\n",
    "    except :\n",
    "        continue"
   ]
  },
  {
   "cell_type": "code",
   "execution_count": 19,
   "id": "0067bcb5",
   "metadata": {
    "execution": {
     "iopub.execute_input": "2021-06-24T23:42:31.282231Z",
     "iopub.status.busy": "2021-06-24T23:42:31.280827Z",
     "iopub.status.idle": "2021-06-24T23:42:31.387528Z",
     "shell.execute_reply": "2021-06-24T23:42:31.394518Z"
    },
    "jupyter": {
     "source_hidden": true
    },
    "papermill": {
     "duration": 0.209098,
     "end_time": "2021-06-24T23:42:31.395091",
     "exception": false,
     "start_time": "2021-06-24T23:42:31.185993",
     "status": "completed"
    },
    "tags": []
   },
   "outputs": [
    {
     "data": {
      "text/plain": [
       "0"
      ]
     },
     "execution_count": 19,
     "metadata": {},
     "output_type": "execute_result"
    }
   ],
   "source": [
    "os.system(f'mv \"{input_file}\" \"/home/kali/project/processed/\"')"
   ]
  }
 ],
 "metadata": {
  "kernelspec": {
   "display_name": "Python 3",
   "language": "python",
   "name": "python3"
  },
  "language_info": {
   "codemirror_mode": {
    "name": "ipython",
    "version": 3
   },
   "file_extension": ".py",
   "mimetype": "text/x-python",
   "name": "python",
   "nbconvert_exporter": "python",
   "pygments_lexer": "ipython3",
   "version": "3.7.5"
  },
  "papermill": {
   "default_parameters": {},
   "duration": 14.422115,
   "end_time": "2021-06-24T23:42:33.245196",
   "environment_variables": {},
   "exception": null,
   "input_path": "/home/kali/project/process_input_list.ipynb",
   "output_path": "/home/kali/project/outs/out-process_input_list2021-06-24T23:41:51.364041+00:00.ipynb",
   "parameters": {
    "msgs": "Ran from Airflow at 2021-06-24T23:41:51.364041+00:00!"
   },
   "start_time": "2021-06-24T23:42:18.823081",
   "version": "2.3.3"
  }
 },
 "nbformat": 4,
 "nbformat_minor": 5
}